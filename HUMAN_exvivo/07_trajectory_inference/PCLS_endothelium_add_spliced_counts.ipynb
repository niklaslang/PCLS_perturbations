{
 "cells": [
  {
   "cell_type": "markdown",
   "metadata": {},
   "source": [
    "## Add loom files (for RNA velocity) file to endothelia subset"
   ]
  },
  {
   "cell_type": "code",
   "execution_count": 1,
   "metadata": {},
   "outputs": [
    {
     "name": "stdout",
     "output_type": "stream",
     "text": [
      "Running Scanpy 1.8.2, on 2022-01-24 17:48.\n"
     ]
    }
   ],
   "source": [
    "import scanpy as sc\n",
    "import scvelo as scv\n",
    "import anndata\n",
    "import loompy\n",
    "import numpy as np\n",
    "import pandas as pd\n",
    "import seaborn as sb\n",
    "import matplotlib.pyplot as plt\n",
    "from matplotlib import rcParams\n",
    "\n",
    "# verbosity: errors (0), warnings (1), info (2), hints (3)\n",
    "sc.settings.verbosity = 3               \n",
    "sc.logging.print_version_and_date()"
   ]
  },
  {
   "cell_type": "code",
   "execution_count": 2,
   "metadata": {},
   "outputs": [],
   "source": [
    "## path variable:\n",
    "adata_dir = '/home/niklas/projects/niche_environments_FIBROSIS/PCLS_human/01_data/ASK_joint/subsets/211201_endothelia_subset_NIKLAS_annotated.h5ad'\n",
    "loom_dir = '/home/niklas/data/220107_Human_PCLS_ASK_joint/loom_files/220124_ASK_joint_NIKLAS.loom'"
   ]
  },
  {
   "cell_type": "code",
   "execution_count": 3,
   "metadata": {},
   "outputs": [
    {
     "data": {
      "text/plain": [
       "AnnData object with n_obs × n_vars = 16513 × 15662\n",
       "    obs: 'condition', 'modality', 'name', 'patient', 'timepoint', 'treatment', 'identifier', 'n_counts', 'n_genes', 'percent_mito', 'QC_group', 'doublet_scores', 'size_factors', 'leiden_1', 'leiden_2', 'd_cluster', 'sub_leiden_2.2', 'auto_cell_type', 'VE Peribronchial_score', 'VE Capillary A_score', 'VE Capillary B_score', 'VE Arterial_score', 'VE Venous_score', 'cell_type', 'cell_type_group'\n",
       "    var: 'n_cells', 'n_counts', 'means', 'dispersions', 'dispersions_norm', 'highly_variable', 'highly_variable_nbatches', 'highly_variable_intersection'\n",
       "    uns: 'auto_cell_type_colors', 'cell_type_colors', 'cell_type_group_colors', 'condition_colors', 'd_cluster_colors', 'dendrogram_cell_type', 'dendrogram_sub_leiden_2.2', 'hvg', 'identifier_colors', 'leiden', 'leiden_1_colors', 'leiden_2_colors', 'name_colors', 'neighbors', 'patient_colors', 'pca', 'rank_genes_groups', 'sub_leiden_2.2_colors', 'treatment_colors', 'umap'\n",
       "    obsm: 'X_pca', 'X_umap'\n",
       "    varm: 'PCs'\n",
       "    layers: 'counts', 'unsouped_counts'\n",
       "    obsp: 'connectivities', 'distances'"
      ]
     },
     "execution_count": 3,
     "metadata": {},
     "output_type": "execute_result"
    }
   ],
   "source": [
    "## load adata\n",
    "adata = sc.read(adata_dir)\n",
    "## explore meta data of adata object\n",
    "adata"
   ]
  },
  {
   "cell_type": "code",
   "execution_count": 4,
   "metadata": {},
   "outputs": [
    {
     "name": "stdout",
     "output_type": "stream",
     "text": [
      "... reading from cache file cache/home-niklas-data-220107_Human_PCLS_ASK_joint-loom_files-220124_ASK_joint_NIKLAS.h5ad\n"
     ]
    },
    {
     "name": "stderr",
     "output_type": "stream",
     "text": [
      "Variable names are not unique. To make them unique, call `.var_names_make_unique`.\n"
     ]
    },
    {
     "data": {
      "text/plain": [
       "AnnData object with n_obs × n_vars = 115133 × 20613\n",
       "    var: 'Accession', 'Chromosome', 'End', 'Start', 'Strand'\n",
       "    layers: 'ambiguous', 'matrix', 'spliced', 'unspliced'"
      ]
     },
     "execution_count": 4,
     "metadata": {},
     "output_type": "execute_result"
    }
   ],
   "source": [
    "## load loom file\n",
    "ldata = sc.read(loom_dir, cache=True)\n",
    "ldata"
   ]
  },
  {
   "cell_type": "markdown",
   "metadata": {},
   "source": [
    "### Check and reformat barcodes of loom file"
   ]
  },
  {
   "cell_type": "code",
   "execution_count": 5,
   "metadata": {},
   "outputs": [],
   "source": [
    "## F7C8I == muc31175\n",
    "## 046ZX == muc31176\n",
    "## 6SSP5 == muc31177\n",
    "## 6QJSU == muc31178\n",
    "## TEFKV == muc31184\n",
    "## 2A117 == muc31185"
   ]
  },
  {
   "cell_type": "code",
   "execution_count": 6,
   "metadata": {},
   "outputs": [
    {
     "data": {
      "text/plain": [
       "Index(['possorted_genome_bam_XN4J0:AATAGAGCATCGAAGGx',\n",
       "       'possorted_genome_bam_XN4J0:AACGGGATCCGTGGCAx',\n",
       "       'possorted_genome_bam_XN4J0:AAAGAACAGGGCAGTTx',\n",
       "       'possorted_genome_bam_XN4J0:AAAGGGCGTAACCAGGx',\n",
       "       'possorted_genome_bam_XN4J0:AACCACAGTACTGAGGx',\n",
       "       'possorted_genome_bam_XN4J0:AAGTTCGAGACTTCACx',\n",
       "       'possorted_genome_bam_XN4J0:AACGGGAGTGAGATCGx',\n",
       "       'possorted_genome_bam_XN4J0:AAGCATCAGAAGTGTTx',\n",
       "       'possorted_genome_bam_XN4J0:AAGGTAAGTGTCCACGx',\n",
       "       'possorted_genome_bam_XN4J0:AAGTGAACAGCTACATx'],\n",
       "      dtype='object', name='CellID')"
      ]
     },
     "execution_count": 6,
     "metadata": {},
     "output_type": "execute_result"
    }
   ],
   "source": [
    "## check out 'nomenclature' of barcodes\n",
    "ldata.obs_names[:10]"
   ]
  },
  {
   "cell_type": "code",
   "execution_count": 7,
   "metadata": {},
   "outputs": [
    {
     "data": {
      "text/plain": [
       "Index(['possorted_genome_bam_2A117:TTTGGAGGTTCTTCATx',\n",
       "       'possorted_genome_bam_2A117:TTTGTTGGTCACGTGCx',\n",
       "       'possorted_genome_bam_2A117:TTTGTTGCAATACGAAx',\n",
       "       'possorted_genome_bam_2A117:TTTGTTGAGCGCCTACx',\n",
       "       'possorted_genome_bam_2A117:TTTGGTTCACGAGGTAx',\n",
       "       'possorted_genome_bam_2A117:TTTGTTGAGGCGCTCTx',\n",
       "       'possorted_genome_bam_2A117:TTTGTTGAGCATTGTCx',\n",
       "       'possorted_genome_bam_2A117:TTTGGAGCAAGTCATCx',\n",
       "       'possorted_genome_bam_2A117:TTTGGTTGTATCTCTTx',\n",
       "       'possorted_genome_bam_2A117:TTTGGTTCATAGCACTx'],\n",
       "      dtype='object', name='CellID')"
      ]
     },
     "execution_count": 7,
     "metadata": {},
     "output_type": "execute_result"
    }
   ],
   "source": [
    "## check out 'nomenclature' of barcodes\n",
    "ldata.obs_names[-10::]"
   ]
  },
  {
   "cell_type": "code",
   "execution_count": 8,
   "metadata": {},
   "outputs": [
    {
     "data": {
      "text/plain": [
       "'muc24271_AATAGAGCATCGAAGG'"
      ]
     },
     "execution_count": 8,
     "metadata": {},
     "output_type": "execute_result"
    }
   ],
   "source": [
    "cell = 'possorted_genome_bam_XN4J0:AATAGAGCATCGAAGGx'\n",
    "cell.replace('possorted_genome_bam_XN4J0:', 'muc24271_').replace('x','')"
   ]
  },
  {
   "cell_type": "code",
   "execution_count": 9,
   "metadata": {},
   "outputs": [],
   "source": [
    "## F7C8I == muc31175\n",
    "## 046ZX == muc31176\n",
    "## 6SSP5 == muc31177\n",
    "## 6QJSU == muc31178\n",
    "## TEFKV == muc31184\n",
    "## 2A117 == muc31185"
   ]
  },
  {
   "cell_type": "code",
   "execution_count": 10,
   "metadata": {},
   "outputs": [
    {
     "data": {
      "text/plain": [
       "Index(['muc24271_AATAGAGCATCGAAGG', 'muc24271_AACGGGATCCGTGGCA',\n",
       "       'muc24271_AAAGAACAGGGCAGTT', 'muc24271_AAAGGGCGTAACCAGG',\n",
       "       'muc24271_AACCACAGTACTGAGG', 'muc24271_AAGTTCGAGACTTCAC',\n",
       "       'muc24271_AACGGGAGTGAGATCG', 'muc24271_AAGCATCAGAAGTGTT',\n",
       "       'muc24271_AAGGTAAGTGTCCACG', 'muc24271_AAGTGAACAGCTACAT'],\n",
       "      dtype='object')"
      ]
     },
     "execution_count": 10,
     "metadata": {},
     "output_type": "execute_result"
    }
   ],
   "source": [
    "## apply to ldata\n",
    "ldata.obs_names = [cell.replace('possorted_genome_bam_XN4J0:', 'muc24271_') for cell in ldata.obs_names]\n",
    "ldata.obs_names = [cell.replace('possorted_genome_bam_SF6U7:', 'muc24276_') for cell in ldata.obs_names]\n",
    "ldata.obs_names = [cell.replace('possorted_genome_bam_MPRKN:', 'muc24273_') for cell in ldata.obs_names]\n",
    "ldata.obs_names = [cell.replace('possorted_genome_bam_I6YWA:', 'muc24279_') for cell in ldata.obs_names]\n",
    "ldata.obs_names = [cell.replace('possorted_genome_bam_X5YKC:', 'muc24274_') for cell in ldata.obs_names]\n",
    "ldata.obs_names = [cell.replace('possorted_genome_bam_QN9W7:', 'muc24275_') for cell in ldata.obs_names]\n",
    "ldata.obs_names = [cell.replace('possorted_genome_bam_M5F1Z:', 'muc24280_') for cell in ldata.obs_names]\n",
    "ldata.obs_names = [cell.replace('possorted_genome_bam_8GZVO:', 'muc24272_') for cell in ldata.obs_names]\n",
    "ldata.obs_names = [cell.replace('possorted_genome_bam_F7C8I:', 'muc31175_') for cell in ldata.obs_names]\n",
    "ldata.obs_names = [cell.replace('possorted_genome_bam_046ZX:', 'muc31176_') for cell in ldata.obs_names]\n",
    "ldata.obs_names = [cell.replace('possorted_genome_bam_6SSP5:', 'muc31177_') for cell in ldata.obs_names]\n",
    "ldata.obs_names = [cell.replace('possorted_genome_bam_6QJSU:', 'muc31178_') for cell in ldata.obs_names]\n",
    "ldata.obs_names = [cell.replace('possorted_genome_bam_TEFKV:', 'muc31184_') for cell in ldata.obs_names]\n",
    "ldata.obs_names = [cell.replace('possorted_genome_bam_2A117:', 'muc31185_') for cell in ldata.obs_names]\n",
    "ldata.obs_names = [cell.replace('x','') for cell in ldata.obs_names]\n",
    "ldata.obs_names[:10]"
   ]
  },
  {
   "cell_type": "code",
   "execution_count": 11,
   "metadata": {},
   "outputs": [],
   "source": [
    "## make obs and var names unique\n",
    "ldata.var_names_make_unique()\n",
    "ldata.obs_names_make_unique() "
   ]
  },
  {
   "cell_type": "code",
   "execution_count": 12,
   "metadata": {},
   "outputs": [
    {
     "data": {
      "text/plain": [
       "Index(['muc24271_AATAGAGCATCGAAGG', 'muc24271_AACGGGATCCGTGGCA',\n",
       "       'muc24271_AAAGAACAGGGCAGTT', 'muc24271_AAAGGGCGTAACCAGG',\n",
       "       'muc24271_AACCACAGTACTGAGG', 'muc24271_AAGTTCGAGACTTCAC',\n",
       "       'muc24271_AACGGGAGTGAGATCG', 'muc24271_AAGCATCAGAAGTGTT',\n",
       "       'muc24271_AAGGTAAGTGTCCACG', 'muc24271_AAGTGAACAGCTACAT'],\n",
       "      dtype='object')"
      ]
     },
     "execution_count": 12,
     "metadata": {},
     "output_type": "execute_result"
    }
   ],
   "source": [
    "## check whether they still adhere to the same 'nomenclature'\n",
    "ldata.obs_names[:10]"
   ]
  },
  {
   "cell_type": "code",
   "execution_count": 13,
   "metadata": {},
   "outputs": [
    {
     "data": {
      "text/plain": [
       "Index(['muc31185_TTTGGAGGTTCTTCAT', 'muc31185_TTTGTTGGTCACGTGC',\n",
       "       'muc31185_TTTGTTGCAATACGAA', 'muc31185_TTTGTTGAGCGCCTAC',\n",
       "       'muc31185_TTTGGTTCACGAGGTA', 'muc31185_TTTGTTGAGGCGCTCT',\n",
       "       'muc31185_TTTGTTGAGCATTGTC', 'muc31185_TTTGGAGCAAGTCATC',\n",
       "       'muc31185_TTTGGTTGTATCTCTT', 'muc31185_TTTGGTTCATAGCACT'],\n",
       "      dtype='object')"
      ]
     },
     "execution_count": 13,
     "metadata": {},
     "output_type": "execute_result"
    }
   ],
   "source": [
    "## check whether they still adhere to the same 'nomenclature'\n",
    "ldata.obs_names[-10::]"
   ]
  },
  {
   "cell_type": "markdown",
   "metadata": {},
   "source": [
    "### Check and reformat barcodes of adata"
   ]
  },
  {
   "cell_type": "code",
   "execution_count": 14,
   "metadata": {},
   "outputs": [
    {
     "data": {
      "text/plain": [
       "Index(['muc24271', 'muc24272', 'muc24273', 'muc24275', 'muc24279', 'muc31175',\n",
       "       'muc31176', 'muc31177', 'muc31178', 'muc31185'],\n",
       "      dtype='object')"
      ]
     },
     "execution_count": 14,
     "metadata": {},
     "output_type": "execute_result"
    }
   ],
   "source": [
    "adata.obs.identifier.cat.categories"
   ]
  },
  {
   "cell_type": "code",
   "execution_count": 15,
   "metadata": {},
   "outputs": [
    {
     "data": {
      "text/plain": [
       "Index(['muc31175_AAACCCAAGTAAAGCT', 'muc31175_AAACCCACATTAGGAA',\n",
       "       'muc31175_AAACCCATCATGACAC', 'muc31175_AAACCCATCGCACGGT',\n",
       "       'muc31175_AAACGAATCAGCCCAG', 'muc31175_AAACGAATCGCTAGCG',\n",
       "       'muc31175_AAACGAATCTCCACTG', 'muc31175_AAACGCTAGCGTATAA',\n",
       "       'muc31175_AAACGCTCATTGGGAG', 'muc31175_AAACGCTGTCCTGAAT'],\n",
       "      dtype='object')"
      ]
     },
     "execution_count": 15,
     "metadata": {},
     "output_type": "execute_result"
    }
   ],
   "source": [
    "## check out 'nomenclature' of barcodes\n",
    "adata.obs_names[:10]"
   ]
  },
  {
   "cell_type": "code",
   "execution_count": 16,
   "metadata": {},
   "outputs": [
    {
     "data": {
      "text/plain": [
       "Index(['muc24279_TTGGGTAGTTGGGTTT', 'muc24279_TTGGTTTTCCCTCTTT',\n",
       "       'muc24279_TTTACGTGTTTCGTTT', 'muc24279_TTTAGTCGTATAGGGC',\n",
       "       'muc24279_TTTCATGCATCTATCT', 'muc24279_TTTCATGCATTCTTCA',\n",
       "       'muc24279_TTTCGATTCGTTATCT', 'muc24279_TTTGACTTCGAAGAAT',\n",
       "       'muc24279_TTTGATCGTTAGTCGT', 'muc24279_TTTGTTGTCGATACGT'],\n",
       "      dtype='object')"
      ]
     },
     "execution_count": 16,
     "metadata": {},
     "output_type": "execute_result"
    }
   ],
   "source": [
    "## check out 'nomenclature' of barcodes\n",
    "adata.obs_names[-10::]"
   ]
  },
  {
   "cell_type": "code",
   "execution_count": 17,
   "metadata": {},
   "outputs": [],
   "source": [
    "## make obs and var names unique\n",
    "adata.var_names_make_unique()\n",
    "adata.obs_names_make_unique() "
   ]
  },
  {
   "cell_type": "code",
   "execution_count": 18,
   "metadata": {},
   "outputs": [
    {
     "data": {
      "text/plain": [
       "Index(['muc31175_AAACCCAAGTAAAGCT', 'muc31175_AAACCCACATTAGGAA',\n",
       "       'muc31175_AAACCCATCATGACAC', 'muc31175_AAACCCATCGCACGGT',\n",
       "       'muc31175_AAACGAATCAGCCCAG', 'muc31175_AAACGAATCGCTAGCG',\n",
       "       'muc31175_AAACGAATCTCCACTG', 'muc31175_AAACGCTAGCGTATAA',\n",
       "       'muc31175_AAACGCTCATTGGGAG', 'muc31175_AAACGCTGTCCTGAAT'],\n",
       "      dtype='object')"
      ]
     },
     "execution_count": 18,
     "metadata": {},
     "output_type": "execute_result"
    }
   ],
   "source": [
    "## check whether they still adhere to the same 'nomenclature'\n",
    "adata.obs_names[:10]"
   ]
  },
  {
   "cell_type": "code",
   "execution_count": 19,
   "metadata": {},
   "outputs": [
    {
     "data": {
      "text/plain": [
       "Index(['muc24279_TTGGGTAGTTGGGTTT', 'muc24279_TTGGTTTTCCCTCTTT',\n",
       "       'muc24279_TTTACGTGTTTCGTTT', 'muc24279_TTTAGTCGTATAGGGC',\n",
       "       'muc24279_TTTCATGCATCTATCT', 'muc24279_TTTCATGCATTCTTCA',\n",
       "       'muc24279_TTTCGATTCGTTATCT', 'muc24279_TTTGACTTCGAAGAAT',\n",
       "       'muc24279_TTTGATCGTTAGTCGT', 'muc24279_TTTGTTGTCGATACGT'],\n",
       "      dtype='object')"
      ]
     },
     "execution_count": 19,
     "metadata": {},
     "output_type": "execute_result"
    }
   ],
   "source": [
    "## check whether they still adhere to the same 'nomenclature'\n",
    "adata.obs_names[-10::]"
   ]
  },
  {
   "cell_type": "markdown",
   "metadata": {},
   "source": [
    "### Check for non-overlapping cells"
   ]
  },
  {
   "cell_type": "code",
   "execution_count": 20,
   "metadata": {},
   "outputs": [
    {
     "name": "stdout",
     "output_type": "stream",
     "text": [
      "115133\n",
      "16513\n"
     ]
    },
    {
     "data": {
      "text/plain": [
       "16513"
      ]
     },
     "execution_count": 20,
     "metadata": {},
     "output_type": "execute_result"
    }
   ],
   "source": [
    "## only loose 0 cells :)))\n",
    "print(len(ldata.obs_names))\n",
    "print(len(adata.obs_names))\n",
    "\n",
    "len(np.intersect1d(adata.obs_names, ldata.obs_names))"
   ]
  },
  {
   "cell_type": "markdown",
   "metadata": {},
   "source": [
    "### Add loom layers (spliced/unspliced counts) with scVelo's scv.utils.merge(adata, ldata)"
   ]
  },
  {
   "cell_type": "code",
   "execution_count": 21,
   "metadata": {},
   "outputs": [
    {
     "data": {
      "text/plain": [
       "AnnData object with n_obs × n_vars = 16513 × 15662\n",
       "    obs: 'condition', 'modality', 'name', 'patient', 'timepoint', 'treatment', 'identifier', 'n_counts', 'n_genes', 'percent_mito', 'QC_group', 'doublet_scores', 'size_factors', 'leiden_1', 'leiden_2', 'd_cluster', 'sub_leiden_2.2', 'auto_cell_type', 'VE Peribronchial_score', 'VE Capillary A_score', 'VE Capillary B_score', 'VE Arterial_score', 'VE Venous_score', 'cell_type', 'cell_type_group', 'initial_size_spliced', 'initial_size_unspliced', 'initial_size'\n",
       "    var: 'n_cells', 'n_counts', 'means', 'dispersions', 'dispersions_norm', 'highly_variable', 'highly_variable_nbatches', 'highly_variable_intersection', 'Accession', 'Chromosome', 'End', 'Start', 'Strand'\n",
       "    uns: 'auto_cell_type_colors', 'cell_type_colors', 'cell_type_group_colors', 'condition_colors', 'd_cluster_colors', 'dendrogram_cell_type', 'dendrogram_sub_leiden_2.2', 'hvg', 'identifier_colors', 'leiden', 'leiden_1_colors', 'leiden_2_colors', 'name_colors', 'neighbors', 'patient_colors', 'pca', 'rank_genes_groups', 'sub_leiden_2.2_colors', 'treatment_colors', 'umap'\n",
       "    obsm: 'X_pca', 'X_umap'\n",
       "    varm: 'PCs'\n",
       "    layers: 'counts', 'unsouped_counts', 'ambiguous', 'matrix', 'spliced', 'unspliced'\n",
       "    obsp: 'connectivities', 'distances'"
      ]
     },
     "execution_count": 21,
     "metadata": {},
     "output_type": "execute_result"
    }
   ],
   "source": [
    "adata = scv.utils.merge(adata, ldata)\n",
    "adata"
   ]
  },
  {
   "cell_type": "code",
   "execution_count": 22,
   "metadata": {},
   "outputs": [
    {
     "data": {
      "image/png": "[encoded data removed]",
      "text/plain": [
       "<Figure size 1000x200 with 2 Axes>"
      ]
     },
     "metadata": {
      "needs_background": "light"
     },
     "output_type": "display_data"
    }
   ],
   "source": [
    "scv.pl.proportions(adata, groupby = 'cell_type_group',  layers = ['spliced', 'unspliced'])"
   ]
  },
  {
   "cell_type": "code",
   "execution_count": 23,
   "metadata": {},
   "outputs": [
    {
     "name": "stdout",
     "output_type": "stream",
     "text": [
      "<class 'anndata._core.views.SparseCSRView'>\n",
      "<class 'anndata._core.views.SparseCSRView'>\n",
      "<class 'anndata._core.views.SparseCSRView'>\n",
      "<class 'anndata._core.views.SparseCSRView'>\n",
      "<class 'anndata._core.views.SparseCSRView'>\n"
     ]
    }
   ],
   "source": [
    "print(type(adata.layers['counts']))\n",
    "print(type(adata.layers['matrix']))\n",
    "print(type(adata.layers['ambiguous']))\n",
    "print(type(adata.layers['spliced']))\n",
    "print(type(adata.layers['unspliced']))"
   ]
  },
  {
   "cell_type": "code",
   "execution_count": 24,
   "metadata": {},
   "outputs": [],
   "source": [
    "## Save this adata with loom info merged on top\n",
    "adata.write('/home/niklas/projects/niche_environments_FIBROSIS/PCLS_human/01_data/ASK_joint/subsets/211201_endothelia_subset_NIKLAS_annotated_LOOM.h5ad')"
   ]
  }
 ],
 "metadata": {
  "kernelspec": {
   "display_name": "Python 3 (ipykernel)",
   "language": "python",
   "name": "python3"
  },
  "language_info": {
   "codemirror_mode": {
    "name": "ipython",
    "version": 3
   },
   "file_extension": ".py",
   "mimetype": "text/x-python",
   "name": "python",
   "nbconvert_exporter": "python",
   "pygments_lexer": "ipython3",
   "version": "3.8.12"
  }
 },
 "nbformat": 4,
 "nbformat_minor": 4
}
