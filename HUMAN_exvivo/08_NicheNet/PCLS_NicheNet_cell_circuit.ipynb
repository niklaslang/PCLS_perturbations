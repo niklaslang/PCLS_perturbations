{
 "cells": [
  {
   "cell_type": "markdown",
   "id": "304d1c32",
   "metadata": {},
   "source": [
    "## ASK joint: niche signals imprinting cell type identites"
   ]
  },
  {
   "cell_type": "code",
   "execution_count": 1,
   "id": "488366ac",
   "metadata": {},
   "outputs": [
    {
     "name": "stderr",
     "output_type": "stream",
     "text": [
      "Warning message:\n",
      "“package ‘plotrix’ was built under R version 4.0.5”\n",
      "Warning message:\n",
      "“package ‘ggsci’ was built under R version 4.0.5”\n"
     ]
    }
   ],
   "source": [
    "suppressPackageStartupMessages(library(nichenetr))\n",
    "suppressPackageStartupMessages(library(Seurat))\n",
    "suppressPackageStartupMessages(library(tidyverse))\n",
    "suppressPackageStartupMessages(library(patchwork))\n",
    "suppressPackageStartupMessages(library(data.table))\n",
    "suppressPackageStartupMessages(library(Matrix))\n",
    "suppressPackageStartupMessages(library(igraph))\n",
    "suppressPackageStartupMessages(library(gridExtra))\n",
    "suppressPackageStartupMessages(library(plotrix))\n",
    "suppressPackageStartupMessages(library(ggsci))"
   ]
  },
  {
   "cell_type": "code",
   "execution_count": 2,
   "id": "57854d3e",
   "metadata": {},
   "outputs": [],
   "source": [
    "## set working directory\n",
    "setwd('/home/niklas/projects/niche_environments_FIBROSIS/HUMAN_exvivo/02_figures/ASK_joint/NicheNet/')"
   ]
  },
  {
   "cell_type": "markdown",
   "id": "ffee6f7f",
   "metadata": {},
   "source": [
    "### Path to required input data"
   ]
  },
  {
   "cell_type": "code",
   "execution_count": 3,
   "id": "8d19dc97",
   "metadata": {},
   "outputs": [],
   "source": [
    "geneset_dir = '/home/niklas/projects/niche_environments_FIBROSIS/HUMAN_exvivo/01_data/NicheNet_inputs/221029_PCLS_human_ASK_joint_celltype_marker_table_OVERALL_cell_circuits.csv'\n",
    "table_dir = '/home/niklas/projects/niche_environments_FIBROSIS/HUMAN_exvivo/01_data/NicheNet_inputs/'\n",
    "results_dir = '/home/niklas/projects/niche_environments_FIBROSIS/HUMAN_exvivo/01_data/NicheNet_outputs/ligand_activities_cell_circuit/EXVIVO_'"
   ]
  },
  {
   "cell_type": "markdown",
   "id": "af4a4476",
   "metadata": {},
   "source": [
    "### Load NicheNet models and networks"
   ]
  },
  {
   "cell_type": "code",
   "execution_count": 4,
   "id": "f65cb01f",
   "metadata": {},
   "outputs": [],
   "source": [
    "## load NicheNet models and networks ##\n",
    "ligand_target_matrix <- readRDS('/home/niklas/data/nichenet_models/ligand_target_matrix_HUMAN.rds')\n",
    "lr_network <- readRDS('/home/niklas/data/nichenet_models/ligand_receptor_network_HUMAN.rds')\n",
    "weighted_networks_lr <- readRDS('/home/niklas/data/nichenet_models/weighted_ligand_receptor_network_HUMAN.rds')"
   ]
  },
  {
   "cell_type": "markdown",
   "id": "cd7dea04",
   "metadata": {},
   "source": [
    "### Function to perform NicheNet Ligand activity analysis"
   ]
  },
  {
   "cell_type": "code",
   "execution_count": 5,
   "id": "c4ec3848",
   "metadata": {},
   "outputs": [],
   "source": [
    "## function to perform ligand activity analysis ##\n",
    "ligand_activity_analysis <- function(sender_ct, receiver_ct, receiver_background, geneset_oi, \n",
    "                            geneset_title,\n",
    "                            pct_expr_table, pct_thresh = 0.10,\n",
    "                            pearson_thresh = 0.05){\n",
    "    \n",
    "    \n",
    "    ## retrieve genes expressed by receiver\n",
    "    expr_genes_receiver = rownames(pct_expr_table[pct_expr_table[, receiver_background] > pct_thresh, ])\n",
    "    background_expr_genes = expr_genes_receiver %>% .[. %in% rownames(ligand_target_matrix)]\n",
    "    \n",
    "    ## retrieve genes expressed by sender: in this case marker genes\n",
    "    #list_expr_genes_sender = lapply(sender_ct, function(x){rownames(pct_expr_table[pct_expr_table[, x] > pct_thresh, ])})\n",
    "    list_expr_genes_sender = marker %>% filter(cell_type == sender_ct)\n",
    "    # only significant genes: pval_adj < 0.05\n",
    "    list_expr_genes_sender = list_expr_genes_sender %>% filter(pval_adj < 0.05)\n",
    "    list_expr_genes_sender = list_expr_genes_sender %>% filter(pct_background < 0.25)\n",
    "    expr_genes_sender = list_expr_genes_sender %>% unlist() %>% unique()\n",
    "    \n",
    "    ## status message ##\n",
    "    print(paste0(\"Using \", length(geneset_oi), \" genes differently regulated genes in \", receiver_ct, \" (\",\n",
    "                 geneset_title, \")\"))\n",
    "    \n",
    "    ### STEP1: Ligand activity analysis ###\n",
    "    ## Define a set of potential ligands and receptors \n",
    "    # retrieve ligands and receptors\n",
    "    ligands = lr_network %>% pull(from) %>% unique()\n",
    "    receptors = lr_network %>% pull(to) %>% unique()\n",
    "    # ligands expressed by sender celltypes\n",
    "    expr_ligands = intersect(ligands, expr_genes_sender) \n",
    "    # receptor expressed by receiver celltypes\n",
    "    expr_receptors = intersect(receptors, expr_genes_receiver)\n",
    "    ### status messages ###\n",
    "    print(paste0(\"Expressed Ligands \", length(expr_ligands)))\n",
    "    print(paste0(\"Expressed Receptors \", length(expr_receptors)))\n",
    "    \n",
    "    ## filter ligands\n",
    "    # only consider ligands with matching receptors (according to NicheNets databases)\n",
    "    potential_ligands = lr_network %>% filter(from %in% expr_ligands & to %in% expr_receptors) %>%\n",
    "                        pull(from) %>% unique()\n",
    "    ### status message ###\n",
    "    print(paste0(\"Potential Ligands \", length(potential_ligands)))\n",
    "    \n",
    "    ## predict ligand activities\n",
    "    ligand_activities = predict_ligand_activities(geneset = geneset_oi,\n",
    "                                                  background_expressed_genes = background_expr_genes,\n",
    "                                                  ligand_target_matrix = ligand_target_matrix,\n",
    "                                                  potential_ligands = potential_ligands)\n",
    "\n",
    "    ## rank ligands by pearson correlation coefficient\n",
    "    ligand_activities = ligand_activities %>% arrange(-pearson) %>% mutate(rank = rank(desc(pearson)))\n",
    "    \n",
    "    # filter consider ligands with pearson's correlation >= pearson_tresh\n",
    "    ligand_activities = ligand_activities %>% filter(pearson >= pearson_thresh)\n",
    "    \n",
    "    ### status message ###\n",
    "    print(paste0(\"Top ranked ligands \", length(ligand_activities$test_ligand)))\n",
    "    \n",
    "    return(ligand_activities)  \n",
    "}"
   ]
  },
  {
   "cell_type": "markdown",
   "id": "2f4a4e35",
   "metadata": {},
   "source": [
    "### Function to perform target gene prediction"
   ]
  },
  {
   "cell_type": "code",
   "execution_count": 6,
   "id": "9b1cb9d1",
   "metadata": {},
   "outputs": [],
   "source": [
    "target_gene_prediction <- function(best_upstream_ligands, geneset_oi, target_thresh = 0.33, n_targets = 500){\n",
    "    \n",
    "    ## identify ligand targets\n",
    "    active_ligand_target_links_df = best_upstream_ligands %>% \n",
    "                                    lapply(get_weighted_ligand_target_links,geneset = geneset_oi, ligand_target_matrix = ligand_target_matrix, n = n_targets) %>% bind_rows() %>% drop_na()\n",
    "    active_ligand_target_links = prepare_ligand_target_visualization(ligand_target_df = active_ligand_target_links_df, ligand_target_matrix = ligand_target_matrix, cutoff = target_thresh)\n",
    "    \n",
    "    ## reformat data\n",
    "    order_ligands = intersect(best_upstream_ligands, colnames(active_ligand_target_links)) %>% rev() %>% make.names()\n",
    "    order_targets = active_ligand_target_links_df$target %>% unique() %>% \n",
    "                    intersect(rownames(active_ligand_target_links)) %>% make.names()\n",
    "    rownames(active_ligand_target_links) = rownames(active_ligand_target_links) %>% make.names() \n",
    "    colnames(active_ligand_target_links) = colnames(active_ligand_target_links) %>% make.names() # make.names() for heatmap visualization of genes like H2-T23\n",
    "    \n",
    "    ## final ligand-target heatmap\n",
    "    vis_ligand_target = active_ligand_target_links[order_targets,order_ligands] %>% t()\n",
    "    \n",
    "    ## output: ligand-target matrix\n",
    "    return(vis_ligand_target) \n",
    "    \n",
    "}"
   ]
  },
  {
   "cell_type": "code",
   "execution_count": 7,
   "id": "5d4b2d5c",
   "metadata": {},
   "outputs": [],
   "source": [
    "cell_type_names <- c('Aberrant Basaloid','Myofibroblasts','ectopic EC', 'SMC/Pericytes_FC', 'Macrophages_FC')\n",
    "cell_type_labels <- c('Aberrant_Basaloid','Myofibroblasts','ectopic_EC', 'SMC_Pericytes_FC', 'Macrophages_FC')"
   ]
  },
  {
   "cell_type": "code",
   "execution_count": 8,
   "id": "569035f5",
   "metadata": {},
   "outputs": [],
   "source": [
    "background_names <- c('AT2_CC','Fibroblasts_CC','capillary EC_CC', 'SMC/Pericytes_CC', 'Macrophages_CC')\n",
    "background_labels <- c('AT2_CC','Fibroblasts_CC','vascular_EC_CC', 'SMC_Pericytes_CC', 'Macrophages_CC')"
   ]
  },
  {
   "cell_type": "markdown",
   "id": "04ba1b35",
   "metadata": {},
   "source": [
    "### Run NicheNet iteratively to detect crosstalk between all cells for FC vs CC"
   ]
  },
  {
   "cell_type": "code",
   "execution_count": 9,
   "id": "ee2ebb9d",
   "metadata": {},
   "outputs": [],
   "source": [
    "## read tables\n",
    "avg_expr <- read.csv(paste0(table_dir, '221029_ASK_joint_Human_PCLS_CC_FC_avg_expr_SCALED_cell_type_level.csv'), row.names = 1, check.names = F, header = T)\n",
    "pct_expr <- read.csv(paste0(table_dir, '221029_ASK_joint_Human_PCLS_CC_FC_pct_expr_cell_type_level.csv'), row.names = 1, check.names = F, header = T)\n",
    "marker <- read.csv(geneset_dir, header = T)"
   ]
  },
  {
   "cell_type": "code",
   "execution_count": 10,
   "id": "3c355dea",
   "metadata": {},
   "outputs": [
    {
     "name": "stdout",
     "output_type": "stream",
     "text": [
      "[1] \"Aberrant Basaloid: Proceeding with geneset of interest of length: 250\"\n"
     ]
    },
    {
     "name": "stderr",
     "output_type": "stream",
     "text": [
      "Warning message in cell_type == sender_ct:\n",
      "“longer object length is not a multiple of shorter object length”\n"
     ]
    },
    {
     "name": "stdout",
     "output_type": "stream",
     "text": [
      "[1] \"Using 250 genes differently regulated genes in Aberrant Basaloid (Aberrant Basaloid - tissue identity)\"\n",
      "[1] \"Expressed Ligands 39\"\n",
      "[1] \"Expressed Receptors 164\"\n",
      "[1] \"Potential Ligands 31\"\n",
      "[1] \"Top ranked ligands 31\"\n",
      "[1] \"Writing ligand activity table to:  /home/niklas/projects/niche_environments_FIBROSIS/HUMAN_exvivo/01_data/NicheNet_outputs/ligand_activities_cell_circuit/EXVIVO_nichenet_ligand_act_to_Aberrant_Basaloid.csv\"\n",
      "[1] \"Writing ligand target matrix table to:  /home/niklas/projects/niche_environments_FIBROSIS/HUMAN_exvivo/01_data/NicheNet_outputs/ligand_activities_cell_circuit/EXVIVO_nichenet_ligand_target_matrix_to_Aberrant_Basaloid.csv\"\n",
      "[1] \"Myofibroblasts: Proceeding with geneset of interest of length: 250\"\n"
     ]
    },
    {
     "name": "stderr",
     "output_type": "stream",
     "text": [
      "Warning message in cell_type == sender_ct:\n",
      "“longer object length is not a multiple of shorter object length”\n"
     ]
    },
    {
     "name": "stdout",
     "output_type": "stream",
     "text": [
      "[1] \"Using 250 genes differently regulated genes in Myofibroblasts (Myofibroblasts - tissue identity)\"\n",
      "[1] \"Expressed Ligands 36\"\n",
      "[1] \"Expressed Receptors 186\"\n",
      "[1] \"Potential Ligands 30\"\n",
      "[1] \"Top ranked ligands 30\"\n",
      "[1] \"Writing ligand activity table to:  /home/niklas/projects/niche_environments_FIBROSIS/HUMAN_exvivo/01_data/NicheNet_outputs/ligand_activities_cell_circuit/EXVIVO_nichenet_ligand_act_to_Myofibroblasts.csv\"\n",
      "[1] \"Writing ligand target matrix table to:  /home/niklas/projects/niche_environments_FIBROSIS/HUMAN_exvivo/01_data/NicheNet_outputs/ligand_activities_cell_circuit/EXVIVO_nichenet_ligand_target_matrix_to_Myofibroblasts.csv\"\n",
      "[1] \"ectopic EC: Proceeding with geneset of interest of length: 250\"\n"
     ]
    },
    {
     "name": "stderr",
     "output_type": "stream",
     "text": [
      "Warning message in cell_type == sender_ct:\n",
      "“longer object length is not a multiple of shorter object length”\n"
     ]
    },
    {
     "name": "stdout",
     "output_type": "stream",
     "text": [
      "[1] \"Using 250 genes differently regulated genes in ectopic EC (ectopic EC - tissue identity)\"\n",
      "[1] \"Expressed Ligands 37\"\n",
      "[1] \"Expressed Receptors 167\"\n",
      "[1] \"Potential Ligands 25\"\n",
      "[1] \"Top ranked ligands 25\"\n",
      "[1] \"Writing ligand activity table to:  /home/niklas/projects/niche_environments_FIBROSIS/HUMAN_exvivo/01_data/NicheNet_outputs/ligand_activities_cell_circuit/EXVIVO_nichenet_ligand_act_to_ectopic_EC.csv\"\n",
      "[1] \"Writing ligand target matrix table to:  /home/niklas/projects/niche_environments_FIBROSIS/HUMAN_exvivo/01_data/NicheNet_outputs/ligand_activities_cell_circuit/EXVIVO_nichenet_ligand_target_matrix_to_ectopic_EC.csv\"\n",
      "[1] \"SMC/Pericytes_FC: Proceeding with geneset of interest of length: 250\"\n"
     ]
    },
    {
     "name": "stderr",
     "output_type": "stream",
     "text": [
      "Warning message in cell_type == sender_ct:\n",
      "“longer object length is not a multiple of shorter object length”\n"
     ]
    },
    {
     "name": "stdout",
     "output_type": "stream",
     "text": [
      "[1] \"Using 250 genes differently regulated genes in SMC/Pericytes_FC (SMC/Pericytes_FC - tissue identity)\"\n",
      "[1] \"Expressed Ligands 36\"\n",
      "[1] \"Expressed Receptors 185\"\n",
      "[1] \"Potential Ligands 33\"\n",
      "[1] \"Top ranked ligands 33\"\n",
      "[1] \"Writing ligand activity table to:  /home/niklas/projects/niche_environments_FIBROSIS/HUMAN_exvivo/01_data/NicheNet_outputs/ligand_activities_cell_circuit/EXVIVO_nichenet_ligand_act_to_SMC_Pericytes_FC.csv\"\n",
      "[1] \"Writing ligand target matrix table to:  /home/niklas/projects/niche_environments_FIBROSIS/HUMAN_exvivo/01_data/NicheNet_outputs/ligand_activities_cell_circuit/EXVIVO_nichenet_ligand_target_matrix_to_SMC_Pericytes_FC.csv\"\n",
      "[1] \"Macrophages_FC: Proceeding with geneset of interest of length: 250\"\n"
     ]
    },
    {
     "name": "stderr",
     "output_type": "stream",
     "text": [
      "Warning message in cell_type == sender_ct:\n",
      "“longer object length is not a multiple of shorter object length”\n"
     ]
    },
    {
     "name": "stdout",
     "output_type": "stream",
     "text": [
      "[1] \"Using 250 genes differently regulated genes in Macrophages_FC (Macrophages_FC - tissue identity)\"\n",
      "[1] \"Expressed Ligands 31\"\n",
      "[1] \"Expressed Receptors 167\"\n",
      "[1] \"Potential Ligands 25\"\n",
      "[1] \"Top ranked ligands 25\"\n",
      "[1] \"Writing ligand activity table to:  /home/niklas/projects/niche_environments_FIBROSIS/HUMAN_exvivo/01_data/NicheNet_outputs/ligand_activities_cell_circuit/EXVIVO_nichenet_ligand_act_to_Macrophages_FC.csv\"\n",
      "[1] \"Writing ligand target matrix table to:  /home/niklas/projects/niche_environments_FIBROSIS/HUMAN_exvivo/01_data/NicheNet_outputs/ligand_activities_cell_circuit/EXVIVO_nichenet_ligand_target_matrix_to_Macrophages_FC.csv\"\n"
     ]
    }
   ],
   "source": [
    "for(i in 1:length(cell_type_names)){\n",
    "    \n",
    "    ## STEP 1: define RECEIVER and SENDER cells\n",
    "    receiver_ct <- cell_type_names[i]\n",
    "    receiver_label <- cell_type_labels[i]\n",
    "    \n",
    "    all_senders <- cell_type_names[! cell_type_names %in% cell_type_names[i]]\n",
    "    all_sender_labels <- cell_type_labels[! cell_type_labels %in% cell_type_labels[i]]\n",
    "\n",
    "    \n",
    "    ## STEP 2: define geneset of interest\n",
    "    # read dge table\n",
    "    geneset <- marker %>% filter(cell_type == receiver_ct)\n",
    "    # only significant genes: pval_adj < 0.5 and log2FC > threshold\n",
    "    geneset = geneset %>% filter(pval_adj < 0.05)\n",
    "    geneset = geneset %>% filter(pct_cell_type > 0.5)\n",
    "    geneset = geneset %>% top_n(250, logfoldchange)\n",
    "    # only genes expressed in at least 25% per group\n",
    "    geneset_oi <- geneset$gene\n",
    "    geneset_title <- paste0(receiver_ct, ' - tissue identity')\n",
    "    print(paste0(receiver_ct, ': Proceeding with geneset of interest of length: ', length(geneset_oi)))\n",
    "    \n",
    "    ## STEP 3: run ligand activity analysis\n",
    "    top_ligands_table <- ligand_activity_analysis(all_senders,\n",
    "                                                  receiver_ct,\n",
    "                                                  receiver_background = receiver_ct,\n",
    "                                                  geneset_oi = geneset_oi,\n",
    "                                                  geneset_title = geneset_title,\n",
    "                                                  pct_expr_table = pct_expr,\n",
    "                                                  pearson_thresh = 0.00)\n",
    "    \n",
    "    ## save ligand activity analysis\n",
    "    print(paste0('Writing ligand activity table to:  ', results_dir, 'nichenet_ligand_act_to_', receiver_label, '.csv'))\n",
    "    write.csv(top_ligands_table, paste0(results_dir, 'nichenet_ligand_act_to_', receiver_label, '.csv'))\n",
    "    \n",
    "    ## STEP 5: target gene prediction\n",
    "    ligand_target_prediction <- target_gene_prediction(best_upstream_ligands = top_ligands_table$test_ligand, geneset_oi = geneset_oi)\n",
    "    print(paste0('Writing ligand target matrix table to:  ', results_dir, 'nichenet_ligand_target_matrix_to_', receiver_label, '.csv'))\n",
    "    write.csv(ligand_target_prediction, paste0(results_dir, 'nichenet_ligand_target_matrix_to_', receiver_label, '.csv'))\n",
    "\n",
    "}   "
   ]
  },
  {
   "cell_type": "code",
   "execution_count": 11,
   "id": "a37cb39e",
   "metadata": {
    "scrolled": false
   },
   "outputs": [],
   "source": [
    "#for(i in 1:length(sender_names)){\n",
    "#    \n",
    "#    ## STEP 1: define SENDER cells\n",
    "#    sender_ct <- sender_names[i]\n",
    "#    sender_label <- sender_labels[i]\n",
    "#    \n",
    "#    ## loop over all RECEIVER cells\n",
    "#    for(i in 1:length(cell_type_names)){\n",
    "#        \n",
    "#        ## STEP 2: define RECEIVER cells\n",
    "#        receiver_ct <- cell_type_names[i]\n",
    "#        receiver_label <- cell_type_labels[i]\n",
    "#        \n",
    "#        ## STEP 3: define geneset of interest\n",
    "#        # read dge table\n",
    "#        geneset <- marker %>% filter(cell_type == receiver_ct)\n",
    "#        # only significant genes: pval_adj < 0.5 and log2FC > threshold\n",
    "#        geneset = geneset %>% filter(pval_adj < 0.05)\n",
    "#        geneset = geneset %>% filter(pct_cell_type > 0.5)\n",
    "#        geneset = geneset %>% top_n(logfoldchange, 200)\n",
    "#        # only genes expressed in at least 25% per group\n",
    "#        #geneset = geneset %>% filter(paste0('pct.',receiver_ct) > 0.25)\n",
    "#        geneset_oi <- geneset$gene\n",
    "#        geneset_title <- paste0(receiver_ct, ' - tissue identity')\n",
    "#        print(paste0(receiver_ct, ': Proceeding with geneset of interest of length: ', length(geneset_oi)))\n",
    "#        \n",
    "#        ## STEP 4: run ligand activity analysis\n",
    "#        top_ligands_table <- ligand_activity_analysis(sender_ct,\n",
    "#                                                      receiver_ct,\n",
    "#                                                      geneset_oi = geneset_oi,\n",
    "#                                                      geneset_title = geneset_title,\n",
    "#                                                      pct_expr_table = pct_expr,\n",
    "#                                                      pearson_thresh = 0.05)\n",
    "#        \n",
    "#        ## save ligand activity analysis\n",
    "#        print(paste0('Writing ligand activity table to:  ', results_dir, 'nichenet_ligand_act_', sender_label, '_to_', receiver_label, '.csv'))\n",
    "#        write.csv(top_ligands_table, paste0(results_dir, 'nichenet_ligand_act_', sender_label, '_to_', receiver_label, '.csv'))\n",
    "#        \n",
    "#        \n",
    "#        ## STEP 5: target gene prediction\n",
    "#        ligand_target_prediction <- target_gene_prediction(best_upstream_ligands = top_ligands_table$test_ligand, geneset_oi = geneset_oi)\n",
    "#        print(paste0('Writing ligand target matrix table to:  ', results_dir, 'nichenet_ligand_target_matrix_', sender_label, '_to_', receiver_label, '.csv'))\n",
    "#        write.csv(ligand_target_prediction, paste0(results_dir, 'nichenet_ligand_target_matrix_', sender_label, '_to_', receiver_label, '.csv'))\n",
    "#    }\n",
    "#}"
   ]
  }
 ],
 "metadata": {
  "kernelspec": {
   "display_name": "R",
   "language": "R",
   "name": "ir"
  },
  "language_info": {
   "codemirror_mode": "r",
   "file_extension": ".r",
   "mimetype": "text/x-r-source",
   "name": "R",
   "pygments_lexer": "r",
   "version": "4.0.3"
  }
 },
 "nbformat": 4,
 "nbformat_minor": 5
}
