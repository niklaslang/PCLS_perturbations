{
 "cells": [
  {
   "cell_type": "code",
   "execution_count": null,
   "id": "eab53366",
   "metadata": {},
   "outputs": [],
   "source": [
    "suppressPackageStartupMessages(library(tidyverse))"
   ]
  },
  {
   "cell_type": "code",
   "execution_count": null,
   "id": "e565d0df",
   "metadata": {},
   "outputs": [],
   "source": [
    "results_dir = '/home/niklas/projects/niche_environments_FIBROSIS/HUMAN_exvivo/01_data/NicheNet_outputs/ligand_activities_cell_circuit/EXVIVO_'"
   ]
  },
  {
   "cell_type": "code",
   "execution_count": null,
   "id": "76308e2c",
   "metadata": {},
   "outputs": [],
   "source": [
    "cell_type_names <- c('Aberrant Basaloid','Myofibroblasts','ectopic EC', 'SMC/Pericytes_FC', 'Macrophages_FC')\n",
    "cell_type_labels <- c('Aberrant_Basaloid','Myofibroblasts','ectopic_EC', 'SMC_Pericytes_FC', 'Macrophages_FC')"
   ]
  },
  {
   "cell_type": "code",
   "execution_count": null,
   "id": "e9a675a6",
   "metadata": {},
   "outputs": [],
   "source": [
    "all_tabs <- data.frame(matrix(0, 0, 4), stringsAsFactors = F, check.names = F)\n",
    "colnames(all_tabs) <- c('ligand', 'pearson', 'rank_score', 'receiver')"
   ]
  },
  {
   "cell_type": "code",
   "execution_count": null,
   "id": "87add373",
   "metadata": {},
   "outputs": [],
   "source": [
    "pearson_thresh = 0.00\n",
    "top = 50"
   ]
  },
  {
   "cell_type": "code",
   "execution_count": null,
   "id": "3990d21a",
   "metadata": {},
   "outputs": [],
   "source": [
    "## loop over EX VIVO receiver cell types\n",
    "for(ct in cell_type_labels){\n",
    "    \n",
    "    tab <- read.csv(paste0(results_dir, 'nichenet_ligand_act_to_', ct, '.csv'), stringsAsFactors = F)\n",
    "    tab <- tab[(tab$pearson > pearson_thresh), c(\"test_ligand\", \"pearson\")]\n",
    "    tab <- tab[1:min(top, nrow(tab)), ]\n",
    "    tab$rank_score <- seq(nrow(tab))\n",
    "    tab$receiver <- ct\n",
    "    all_tabs <- rbind(all_tabs, tab)\n",
    "    \n",
    "}\n",
    "all_tabs <- reshape(all_tabs, idvar = 'test_ligand', timevar = 'receiver', direction = 'wide')"
   ]
  },
  {
   "cell_type": "code",
   "execution_count": null,
   "id": "087ea10e",
   "metadata": {},
   "outputs": [],
   "source": [
    "all_tabs <- all_tabs[which(!is.na(all_tabs$test_ligand)),]\n",
    "col_order <- paste(c(rep('pearson', length(cell_type_labels)), rep('rank_score', length(cell_type_labels))), cell_type_labels, sep = '.')\n",
    "rownames(all_tabs) <- all_tabs$test_ligand\n",
    "all_tabs <- all_tabs[, col_order]"
   ]
  },
  {
   "cell_type": "code",
   "execution_count": null,
   "id": "f909c5d1",
   "metadata": {
    "scrolled": false
   },
   "outputs": [],
   "source": [
    "all_tabs"
   ]
  },
  {
   "cell_type": "code",
   "execution_count": 9,
   "id": "ef6378c4",
   "metadata": {},
   "outputs": [],
   "source": [
    "## save results\n",
    "write.csv(all_tabs, paste0(results_dir, 'exvivo_cell_circuit_MASTER_ligands_top', top, '.csv'))"
   ]
  }
 ],
 "metadata": {
  "kernelspec": {
   "display_name": "R",
   "language": "R",
   "name": "ir"
  },
  "language_info": {
   "codemirror_mode": "r",
   "file_extension": ".r",
   "mimetype": "text/x-r-source",
   "name": "R",
   "pygments_lexer": "r",
   "version": "4.0.3"
  }
 },
 "nbformat": 4,
 "nbformat_minor": 5
}
