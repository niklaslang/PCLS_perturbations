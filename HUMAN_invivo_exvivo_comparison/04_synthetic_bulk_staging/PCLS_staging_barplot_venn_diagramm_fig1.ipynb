{
 "cells": [
  {
   "cell_type": "code",
   "execution_count": 1,
   "id": "clear-queensland",
   "metadata": {},
   "outputs": [],
   "source": [
    "import numpy as np\n",
    "import pandas as pd\n",
    "import seaborn as sb\n",
    "import matplotlib.pyplot as plt\n",
    "from matplotlib import rcParams\n",
    "from matplotlib_venn import venn2, venn2_circles, venn3, venn3_circles\n",
    "\n",
    "# making sure plots & clusters are reproducible\n",
    "np.random.seed(42)"
   ]
  },
  {
   "cell_type": "code",
   "execution_count": 2,
   "id": "about-reputation",
   "metadata": {},
   "outputs": [],
   "source": [
    "# directory paths\n",
    "master_table = '/home/niklas/projects/niche_environments_FIBROSIS/PCLS_human/01_data/GSE124685/211213_FC_IPF_stages_bulk_DGE_MASTER_table.csv'\n",
    "data_dir = '/home/niklas/projects/niche_environments_FIBROSIS/PCLS_human/01_data/GSE124685/'\n",
    "fig_dir = '/home/niklas/projects/niche_environments_FIBROSIS/PCLS_human/02_figures/GSE124685_bulk_comparison/'"
   ]
  },
  {
   "cell_type": "code",
   "execution_count": 3,
   "id": "b9fa4842",
   "metadata": {},
   "outputs": [],
   "source": [
    "## plotting variables\n",
    "plt.rcParams['figure.figsize'] = (8, 14)\n",
    "plt.rcParams['pdf.fonttype'] = 42"
   ]
  },
  {
   "cell_type": "code",
   "execution_count": 4,
   "id": "45fda2b0",
   "metadata": {},
   "outputs": [
    {
     "data": {
      "text/html": [
       "<div>\n",
       "<style scoped>\n",
       "    .dataframe tbody tr th:only-of-type {\n",
       "        vertical-align: middle;\n",
       "    }\n",
       "\n",
       "    .dataframe tbody tr th {\n",
       "        vertical-align: top;\n",
       "    }\n",
       "\n",
       "    .dataframe thead th {\n",
       "        text-align: right;\n",
       "    }\n",
       "</style>\n",
       "<table border=\"1\" class=\"dataframe\">\n",
       "  <thead>\n",
       "    <tr style=\"text-align: right;\">\n",
       "      <th></th>\n",
       "      <th>ipf1_logFC</th>\n",
       "      <th>ipf1_adj_p_val</th>\n",
       "      <th>ipf2_logFC</th>\n",
       "      <th>ipf2_adj_p_val</th>\n",
       "      <th>ipf3_logFC</th>\n",
       "      <th>ipf3_adj_p_val</th>\n",
       "      <th>FC_logFC</th>\n",
       "      <th>FC_adj_p_val</th>\n",
       "    </tr>\n",
       "  </thead>\n",
       "  <tbody>\n",
       "    <tr>\n",
       "      <th>A1BG</th>\n",
       "      <td>0.113428</td>\n",
       "      <td>0.731666</td>\n",
       "      <td>0.312365</td>\n",
       "      <td>0.286459</td>\n",
       "      <td>0.140477</td>\n",
       "      <td>0.935197</td>\n",
       "      <td>0.510958</td>\n",
       "      <td>0.999984</td>\n",
       "    </tr>\n",
       "    <tr>\n",
       "      <th>A2M</th>\n",
       "      <td>0.602106</td>\n",
       "      <td>0.319526</td>\n",
       "      <td>0.549137</td>\n",
       "      <td>0.494127</td>\n",
       "      <td>0.351658</td>\n",
       "      <td>0.867058</td>\n",
       "      <td>-0.580821</td>\n",
       "      <td>0.999984</td>\n",
       "    </tr>\n",
       "    <tr>\n",
       "      <th>A2ML1</th>\n",
       "      <td>0.109573</td>\n",
       "      <td>0.733621</td>\n",
       "      <td>0.043715</td>\n",
       "      <td>0.999976</td>\n",
       "      <td>0.037047</td>\n",
       "      <td>0.998974</td>\n",
       "      <td>-0.915168</td>\n",
       "      <td>0.000000</td>\n",
       "    </tr>\n",
       "    <tr>\n",
       "      <th>A4GALT</th>\n",
       "      <td>-0.064129</td>\n",
       "      <td>0.905067</td>\n",
       "      <td>0.200724</td>\n",
       "      <td>0.957387</td>\n",
       "      <td>0.214847</td>\n",
       "      <td>0.966702</td>\n",
       "      <td>0.916265</td>\n",
       "      <td>0.759586</td>\n",
       "    </tr>\n",
       "    <tr>\n",
       "      <th>A4GNT</th>\n",
       "      <td>0.120505</td>\n",
       "      <td>0.730561</td>\n",
       "      <td>0.041791</td>\n",
       "      <td>0.999976</td>\n",
       "      <td>0.009141</td>\n",
       "      <td>0.998974</td>\n",
       "      <td>-0.319549</td>\n",
       "      <td>0.000000</td>\n",
       "    </tr>\n",
       "  </tbody>\n",
       "</table>\n",
       "</div>"
      ],
      "text/plain": [
       "        ipf1_logFC  ipf1_adj_p_val  ipf2_logFC  ipf2_adj_p_val  ipf3_logFC  \\\n",
       "A1BG      0.113428        0.731666    0.312365        0.286459    0.140477   \n",
       "A2M       0.602106        0.319526    0.549137        0.494127    0.351658   \n",
       "A2ML1     0.109573        0.733621    0.043715        0.999976    0.037047   \n",
       "A4GALT   -0.064129        0.905067    0.200724        0.957387    0.214847   \n",
       "A4GNT     0.120505        0.730561    0.041791        0.999976    0.009141   \n",
       "\n",
       "        ipf3_adj_p_val  FC_logFC  FC_adj_p_val  \n",
       "A1BG          0.935197  0.510958      0.999984  \n",
       "A2M           0.867058 -0.580821      0.999984  \n",
       "A2ML1         0.998974 -0.915168      0.000000  \n",
       "A4GALT        0.966702  0.916265      0.759586  \n",
       "A4GNT         0.998974 -0.319549      0.000000  "
      ]
     },
     "execution_count": 4,
     "metadata": {},
     "output_type": "execute_result"
    }
   ],
   "source": [
    "## read master table\n",
    "master = pd.read_csv(master_table, index_col=0)\n",
    "master[master.isna()] = 0\n",
    "master.head(5)"
   ]
  },
  {
   "cell_type": "markdown",
   "id": "aacd60f8",
   "metadata": {},
   "source": [
    "### Filter master table"
   ]
  },
  {
   "cell_type": "code",
   "execution_count": 5,
   "id": "02ecc550",
   "metadata": {},
   "outputs": [],
   "source": [
    "fc_master = master[master.FC_adj_p_val < 1]\n",
    "fc_up = fc_master[fc_master.FC_logFC > 0.0]\n",
    "fc_down = fc_master[fc_master.FC_logFC < -0.0]"
   ]
  },
  {
   "cell_type": "code",
   "execution_count": 6,
   "id": "64571390",
   "metadata": {},
   "outputs": [],
   "source": [
    "ipf1_master = master#[master.ipf1_adj_p_val < 0.1]\n",
    "#ipf1_master[ipf1_master.isna()] = 0\n",
    "ipf1_up = ipf1_master[ipf1_master.ipf1_logFC > 0.0]#.shape[0]\n",
    "ipf1_down = ipf1_master[ipf1_master.ipf1_logFC < -0.0]#.shape[0]"
   ]
  },
  {
   "cell_type": "code",
   "execution_count": 7,
   "id": "7f07dc9c",
   "metadata": {},
   "outputs": [],
   "source": [
    "ipf2_master = master#[master.ipf2_adj_p_val < 0.1]\n",
    "#ipf2_master[ipf2_master.isna()] = 0\n",
    "ipf2_up = ipf2_master[ipf2_master.ipf2_logFC > 0.0]#.shape[0]\n",
    "ipf2_down = ipf2_master[ipf2_master.ipf2_logFC < -0.0]#.shape[0]"
   ]
  },
  {
   "cell_type": "code",
   "execution_count": 8,
   "id": "4932c5b4",
   "metadata": {},
   "outputs": [],
   "source": [
    "ipf3_master = master#[master.ipf3_adj_p_val < 0.1]\n",
    "#ipf3_master[ipf3_master.isna()] = 0\n",
    "ipf3_up = ipf3_master[ipf3_master.ipf3_logFC > 0.0]#.shape[0]\n",
    "ipf3_down = ipf3_master[ipf3_master.ipf3_logFC < -0.0]#.shape[0]"
   ]
  },
  {
   "cell_type": "markdown",
   "id": "00942fc0",
   "metadata": {},
   "source": [
    "### Summary table of pct shared between FC and IPF stages"
   ]
  },
  {
   "cell_type": "code",
   "execution_count": 9,
   "id": "ac27699d",
   "metadata": {},
   "outputs": [],
   "source": [
    "pct_ipf1_up =  round(len(np.intersect1d(fc_up.index, ipf1_up.index)) / len(fc_up.index), 2)\n",
    "pct_ipf2_up =  round(len(np.intersect1d(fc_up.index, ipf2_up.index)) / len(fc_up.index), 2)\n",
    "pct_ipf3_up =  round(len(np.intersect1d(fc_up.index, ipf3_up.index)) / len(fc_up.index), 2)"
   ]
  },
  {
   "cell_type": "code",
   "execution_count": 10,
   "id": "2a499791",
   "metadata": {},
   "outputs": [],
   "source": [
    "pct_ipf1_down =  round(len(np.intersect1d(fc_down.index, ipf1_down.index)) / len(fc_down.index), 2)\n",
    "pct_ipf2_down =  round(len(np.intersect1d(fc_down.index, ipf2_down.index)) / len(fc_down.index), 2)\n",
    "pct_ipf3_down =  round(len(np.intersect1d(fc_down.index, ipf3_down.index)) / len(fc_down.index), 2)"
   ]
  },
  {
   "cell_type": "code",
   "execution_count": 11,
   "id": "8371b1a1",
   "metadata": {},
   "outputs": [],
   "source": [
    "data = {'stage' : ['IPF 1', 'IPF 2', 'IPF 3'],\n",
    "        'pct_shared_up' : [pct_ipf1_up*100, pct_ipf2_up*100, pct_ipf3_up*100],\n",
    "        'pct_shared_down' : [pct_ipf1_down*100, pct_ipf2_down*100, pct_ipf3_down*100]\n",
    "}"
   ]
  },
  {
   "cell_type": "code",
   "execution_count": 12,
   "id": "98ac53bb",
   "metadata": {},
   "outputs": [
    {
     "data": {
      "text/html": [
       "<div>\n",
       "<style scoped>\n",
       "    .dataframe tbody tr th:only-of-type {\n",
       "        vertical-align: middle;\n",
       "    }\n",
       "\n",
       "    .dataframe tbody tr th {\n",
       "        vertical-align: top;\n",
       "    }\n",
       "\n",
       "    .dataframe thead th {\n",
       "        text-align: right;\n",
       "    }\n",
       "</style>\n",
       "<table border=\"1\" class=\"dataframe\">\n",
       "  <thead>\n",
       "    <tr style=\"text-align: right;\">\n",
       "      <th></th>\n",
       "      <th>stage</th>\n",
       "      <th>pct_shared_up</th>\n",
       "      <th>pct_shared_down</th>\n",
       "    </tr>\n",
       "  </thead>\n",
       "  <tbody>\n",
       "    <tr>\n",
       "      <th>0</th>\n",
       "      <td>IPF 1</td>\n",
       "      <td>69.0</td>\n",
       "      <td>33.0</td>\n",
       "    </tr>\n",
       "    <tr>\n",
       "      <th>1</th>\n",
       "      <td>IPF 2</td>\n",
       "      <td>59.0</td>\n",
       "      <td>42.0</td>\n",
       "    </tr>\n",
       "    <tr>\n",
       "      <th>2</th>\n",
       "      <td>IPF 3</td>\n",
       "      <td>57.0</td>\n",
       "      <td>43.0</td>\n",
       "    </tr>\n",
       "  </tbody>\n",
       "</table>\n",
       "</div>"
      ],
      "text/plain": [
       "   stage  pct_shared_up  pct_shared_down\n",
       "0  IPF 1           69.0             33.0\n",
       "1  IPF 2           59.0             42.0\n",
       "2  IPF 3           57.0             43.0"
      ]
     },
     "execution_count": 12,
     "metadata": {},
     "output_type": "execute_result"
    }
   ],
   "source": [
    "pct_table = pd.DataFrame(data)\n",
    "pct_table"
   ]
  },
  {
   "cell_type": "code",
   "execution_count": 13,
   "id": "9a04ce6e",
   "metadata": {},
   "outputs": [
    {
     "data": {
      "image/png": "[encoded data removed]",
      "text/plain": [
       "<Figure size 600x400 with 1 Axes>"
      ]
     },
     "metadata": {
      "needs_background": "light"
     },
     "output_type": "display_data"
    }
   ],
   "source": [
    "sb.barplot(data = data,\n",
    "           x = 'stage',\n",
    "           y = 'pct_shared_up',\n",
    "           palette = ['#FFC04C','#4C4CFF','#FF4C4C'],\n",
    "           ax = plt.figure(figsize=(6, 4), dpi = 100).gca()\n",
    "          ).set(title='Overlap of upregulated genes after FC and IPF stages 1 - 3 (in %)',\n",
    "                xlabel = 'IPF stage',\n",
    "                ylabel = 'overlap in %'\n",
    "               )\n",
    "plt.savefig(fig_dir + 'barplot_pct_overlap_IPF_stages_up.pdf')\n",
    "plt.show()"
   ]
  },
  {
   "cell_type": "code",
   "execution_count": 14,
   "id": "2a8787f5",
   "metadata": {},
   "outputs": [
    {
     "data": {
      "image/png": "[encoded data removed]",
      "text/plain": [
       "<Figure size 800x400 with 1 Axes>"
      ]
     },
     "metadata": {
      "needs_background": "light"
     },
     "output_type": "display_data"
    }
   ],
   "source": [
    "sb.barplot(data = data,\n",
    "           x = 'stage',\n",
    "           y = 'pct_shared_up',\n",
    "           palette = ['#FFC04C','#4C4CFF','#FF4C4C'],\n",
    "           ax = plt.figure(figsize=(8, 4), dpi = 100).gca()\n",
    "          ).set(title='Overlap of upregulated genes after FC and IPF stages 1 - 3 (in %)',\n",
    "                xlabel = 'IPF stage',\n",
    "                ylabel = 'overlap with genes uregulated after FC treatment in %',\n",
    "                ylim = (50, 70),\n",
    "                yticks = [50,55,60,65,70]\n",
    "               )\n",
    "plt.savefig(fig_dir + 'barplot_pct_overlap_IPF_stages_up_zoom.pdf')\n",
    "plt.show()"
   ]
  },
  {
   "cell_type": "markdown",
   "id": "d82caf95",
   "metadata": {},
   "source": [
    "### Create Venn Diagramms - overlap of IPF stage signatures "
   ]
  },
  {
   "cell_type": "code",
   "execution_count": 15,
   "id": "c7d0d634",
   "metadata": {},
   "outputs": [],
   "source": [
    "plt.rcParams['figure.figsize'] = (8, 14)"
   ]
  },
  {
   "cell_type": "code",
   "execution_count": 16,
   "id": "41f96a15",
   "metadata": {},
   "outputs": [],
   "source": [
    "ipf1_up = master[(master.ipf1_adj_p_val < 0.05) & (master.ipf1_logFC > 0.5)]\n",
    "ipf2_up = master[(master.ipf2_adj_p_val < 0.05) & (master.ipf2_logFC > 0.5)]\n",
    "ipf3_up = master[(master.ipf3_adj_p_val < 0.05) & (master.ipf3_logFC > 0.5)]"
   ]
  },
  {
   "cell_type": "code",
   "execution_count": 17,
   "id": "5344eaa3",
   "metadata": {},
   "outputs": [
    {
     "data": {
      "image/png": "[encoded data removed]",
      "text/plain": [
       "<Figure size 576x1008 with 1 Axes>"
      ]
     },
     "metadata": {},
     "output_type": "display_data"
    }
   ],
   "source": [
    "venn3(subsets=(len(np.setdiff1d(ipf1_up.index, np.union1d(ipf2_up.index, ipf3_up.index))),\n",
    "               len(np.setdiff1d(ipf2_up.index, np.union1d(ipf1_up.index, ipf3_up.index))),\n",
    "               len(np.setdiff1d(np.intersect1d(ipf1_up.index, ipf2_up.index), ipf3_up.index)),\n",
    "               len(np.setdiff1d(ipf3_up.index, np.union1d(ipf1_up.index, ipf2_up.index))),\n",
    "               len(np.setdiff1d(np.intersect1d(ipf1_up.index, ipf3_up.index), ipf2_up.index)),\n",
    "               len(np.setdiff1d(np.intersect1d(ipf2_up.index, ipf3_up.index), ipf3_up.index)),\n",
    "               len(np.intersect1d(ipf1_up.index, np.intersect1d(ipf2_up.index, ipf3_up.index)))),\n",
    "      set_labels=('IPF stage 1', 'IPF stage 2', 'IPF stage 3'), \n",
    "      set_colors=(\"#007200\", \"#192BC2\", \"#C02915\"), alpha=1)\n",
    "venn3_circles(subsets=(ipf1_up.shape[0]-len(np.intersect1d(ipf1_up.index, np.union1d(ipf2_up.index, ipf3_up.index))),\n",
    "               ipf2_up.shape[0]-len(np.intersect1d(ipf2_up.index, np.union1d(ipf1_up.index, ipf3_up.index))),\n",
    "               len(np.setdiff1d(np.intersect1d(ipf1_up.index, ipf2_up.index), ipf3_up.index)),\n",
    "               ipf3_up.shape[0]-len(np.intersect1d(ipf3_up.index, np.union1d(ipf1_up.index, ipf2_up.index))),\n",
    "               len(np.setdiff1d(np.intersect1d(ipf1_up.index, ipf3_up.index), ipf2_up.index)),\n",
    "               len(np.setdiff1d(np.intersect1d(ipf2_up.index, ipf3_up.index), ipf3_up.index)),\n",
    "               len(np.intersect1d(ipf1_up.index, np.intersect1d(ipf2_up.index, ipf3_up.index)))),\n",
    "              linewidth=2)\n",
    "plt.savefig(fig_dir + 'overlap_IPF_stages_up.pdf')\n",
    "plt.show()"
   ]
  },
  {
   "cell_type": "code",
   "execution_count": 18,
   "id": "ffe75a8c",
   "metadata": {},
   "outputs": [],
   "source": [
    "## save unique IPF stages signatures for future use \n",
    "signatures = {\n",
    "    'ipf1_up_unique' : list(np.setdiff1d(ipf1_up.index, np.union1d(ipf2_up.index, ipf3_up.index))),\n",
    "    'ipf2_up_unique' : list(np.setdiff1d(ipf2_up.index, np.union1d(ipf1_up.index, ipf3_up.index))),\n",
    "    'ipf3_up_unique' : list(np.setdiff1d(ipf3_up.index, np.union1d(ipf1_up.index, ipf2_up.index))),\n",
    "    'ipf_shared' : list(np.intersect1d(ipf1_up.index, np.intersect1d(ipf2_up.index, ipf3_up.index))),\n",
    "}"
   ]
  },
  {
   "cell_type": "code",
   "execution_count": 19,
   "id": "30cce43b",
   "metadata": {},
   "outputs": [],
   "source": [
    "signatures_df = pd.DataFrame(dict([(k,pd.Series(v)) for k,v in signatures.items() ]))"
   ]
  },
  {
   "cell_type": "code",
   "execution_count": 20,
   "id": "c28f051a",
   "metadata": {},
   "outputs": [
    {
     "data": {
      "text/plain": [
       "(624, 4)"
      ]
     },
     "execution_count": 20,
     "metadata": {},
     "output_type": "execute_result"
    }
   ],
   "source": [
    "signatures_df.shape"
   ]
  },
  {
   "cell_type": "code",
   "execution_count": 21,
   "id": "3cc47ef0",
   "metadata": {},
   "outputs": [],
   "source": [
    "signatures_df.to_csv('/home/niklas/data/gene_lists/kaminski_IPF_stages_signature.csv')"
   ]
  },
  {
   "cell_type": "markdown",
   "id": "d279b721",
   "metadata": {},
   "source": [
    "### Recreate barplot from above but using only unique IPF stage signatures"
   ]
  },
  {
   "cell_type": "code",
   "execution_count": 22,
   "id": "03f10ae7",
   "metadata": {},
   "outputs": [],
   "source": [
    "ipf1_up = master[master.ipf1_logFC > 0]\n",
    "ipf2_up = master[master.ipf2_logFC > 0]\n",
    "ipf3_up = master[master.ipf3_logFC > 0]"
   ]
  },
  {
   "cell_type": "code",
   "execution_count": 23,
   "id": "05d54d6a",
   "metadata": {},
   "outputs": [],
   "source": [
    "ipf1_up_unique = list(np.setdiff1d(ipf1_up.index, np.union1d(ipf2_up.index, ipf3_up.index)))\n",
    "ipf2_up_unique = list(np.setdiff1d(ipf2_up.index, np.union1d(ipf1_up.index, ipf3_up.index)))\n",
    "ipf3_up_unique = list(np.setdiff1d(ipf3_up.index, np.union1d(ipf1_up.index, ipf2_up.index)))\n",
    "ipf_shared = list(np.intersect1d(ipf1_up.index, np.intersect1d(ipf2_up.index, ipf3_up.index)))"
   ]
  },
  {
   "cell_type": "code",
   "execution_count": 24,
   "id": "3d5d4fe9",
   "metadata": {},
   "outputs": [],
   "source": [
    "pct_ipf1_up =  round(len(np.intersect1d(fc_up.index, ipf1_up_unique)) / len(fc_up.index), 2)\n",
    "pct_ipf2_up =  round(len(np.intersect1d(fc_up.index, ipf2_up_unique)) / len(fc_up.index), 2)\n",
    "pct_ipf3_up =  round(len(np.intersect1d(fc_up.index, ipf3_up_unique)) / len(fc_up.index), 2)\n",
    "pct_ipf_shared_up =  round(len(np.intersect1d(fc_up.index, ipf_shared)) / len(fc_up.index), 2)"
   ]
  },
  {
   "cell_type": "code",
   "execution_count": 25,
   "id": "456b11c9",
   "metadata": {},
   "outputs": [],
   "source": [
    "data = {'stage' : ['IPF stage 1 unique', 'IPF stage 2 unique', 'IPF stage 3 unique', 'shared IPF'],\n",
    "        'pct_shared_up' : [pct_ipf1_up*100, pct_ipf2_up*100, pct_ipf3_up*100, pct_ipf_shared_up*100],\n",
    "}"
   ]
  },
  {
   "cell_type": "code",
   "execution_count": 26,
   "id": "ced625c2",
   "metadata": {},
   "outputs": [
    {
     "data": {
      "text/html": [
       "<div>\n",
       "<style scoped>\n",
       "    .dataframe tbody tr th:only-of-type {\n",
       "        vertical-align: middle;\n",
       "    }\n",
       "\n",
       "    .dataframe tbody tr th {\n",
       "        vertical-align: top;\n",
       "    }\n",
       "\n",
       "    .dataframe thead th {\n",
       "        text-align: right;\n",
       "    }\n",
       "</style>\n",
       "<table border=\"1\" class=\"dataframe\">\n",
       "  <thead>\n",
       "    <tr style=\"text-align: right;\">\n",
       "      <th></th>\n",
       "      <th>stage</th>\n",
       "      <th>pct_shared_up</th>\n",
       "    </tr>\n",
       "  </thead>\n",
       "  <tbody>\n",
       "    <tr>\n",
       "      <th>0</th>\n",
       "      <td>IPF stage 1 unique</td>\n",
       "      <td>11.0</td>\n",
       "    </tr>\n",
       "    <tr>\n",
       "      <th>1</th>\n",
       "      <td>IPF stage 2 unique</td>\n",
       "      <td>1.0</td>\n",
       "    </tr>\n",
       "    <tr>\n",
       "      <th>2</th>\n",
       "      <td>IPF stage 3 unique</td>\n",
       "      <td>2.0</td>\n",
       "    </tr>\n",
       "    <tr>\n",
       "      <th>3</th>\n",
       "      <td>shared IPF</td>\n",
       "      <td>46.0</td>\n",
       "    </tr>\n",
       "  </tbody>\n",
       "</table>\n",
       "</div>"
      ],
      "text/plain": [
       "                stage  pct_shared_up\n",
       "0  IPF stage 1 unique           11.0\n",
       "1  IPF stage 2 unique            1.0\n",
       "2  IPF stage 3 unique            2.0\n",
       "3          shared IPF           46.0"
      ]
     },
     "execution_count": 26,
     "metadata": {},
     "output_type": "execute_result"
    }
   ],
   "source": [
    "pct_table = pd.DataFrame(data)\n",
    "pct_table"
   ]
  },
  {
   "cell_type": "code",
   "execution_count": 27,
   "id": "84ff118a",
   "metadata": {},
   "outputs": [
    {
     "data": {
      "image/png": "[encoded data removed]",
      "text/plain": [
       "<Figure size 900x400 with 1 Axes>"
      ]
     },
     "metadata": {
      "needs_background": "light"
     },
     "output_type": "display_data"
    }
   ],
   "source": [
    "sb.barplot(data = pct_table,\n",
    "           x = 'stage',\n",
    "           y = 'pct_shared_up',\n",
    "           palette = ['#FFC04C','#4C4CFF','#FF4C4C','#CC4266'],\n",
    "           ax = plt.figure(figsize=(9, 4), dpi = 100).gca()\n",
    "          ).set(title='Overlap of upregulated genes after FC and IPF signatures (in %)',\n",
    "                xlabel = 'IPF signatures',\n",
    "                ylabel = 'overlap with genes uregulated after FC treatment in %',\n",
    "                ylim = (0,50),\n",
    "                yticks = [0,10,20,30,40,50]\n",
    "               )\n",
    "plt.savefig(fig_dir + 'barplot_pct_overlap_unique_IPF_stage_signatures_up.pdf')\n",
    "plt.show()"
   ]
  }
 ],
 "metadata": {
  "kernelspec": {
   "display_name": "Python 3 (ipykernel)",
   "language": "python",
   "name": "python3"
  },
  "language_info": {
   "codemirror_mode": {
    "name": "ipython",
    "version": 3
   },
   "file_extension": ".py",
   "mimetype": "text/x-python",
   "name": "python",
   "nbconvert_exporter": "python",
   "pygments_lexer": "ipython3",
   "version": "3.8.12"
  }
 },
 "nbformat": 4,
 "nbformat_minor": 5
}
