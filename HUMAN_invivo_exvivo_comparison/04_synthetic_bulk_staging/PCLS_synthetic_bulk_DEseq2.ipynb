{
 "cells": [
  {
   "cell_type": "code",
   "execution_count": 1,
   "id": "fd7fd5ef",
   "metadata": {},
   "outputs": [],
   "source": [
    "suppressPackageStartupMessages(library(DESeq2))"
   ]
  },
  {
   "cell_type": "code",
   "execution_count": 2,
   "id": "46ed1f8e",
   "metadata": {},
   "outputs": [],
   "source": [
    "table_dir <- '/home/niklas/projects/niche_environments_FIBROSIS/PCLS_human/01_data/ASK_joint/'"
   ]
  },
  {
   "cell_type": "code",
   "execution_count": 3,
   "id": "c628878c",
   "metadata": {},
   "outputs": [],
   "source": [
    "counts <- read.csv(paste0(table_dir, '211201_PCLS_human_ASK_joint_SyntheticBulk.csv'))\n",
    "metadata <-  read.csv(paste0(table_dir, 'metadata.csv'), sep = ';')"
   ]
  },
  {
   "cell_type": "code",
   "execution_count": 4,
   "id": "86e6bd94",
   "metadata": {},
   "outputs": [
    {
     "data": {
      "text/html": [
       "<table class=\"dataframe\">\n",
       "<caption>A data.frame: 13 × 7</caption>\n",
       "<thead>\n",
       "\t<tr><th scope=col>identifier</th><th scope=col>patient</th><th scope=col>name</th><th scope=col>modality</th><th scope=col>treatment</th><th scope=col>timepoint</th><th scope=col>condition</th></tr>\n",
       "\t<tr><th scope=col>&lt;chr&gt;</th><th scope=col>&lt;chr&gt;</th><th scope=col>&lt;chr&gt;</th><th scope=col>&lt;chr&gt;</th><th scope=col>&lt;chr&gt;</th><th scope=col>&lt;chr&gt;</th><th scope=col>&lt;chr&gt;</th></tr>\n",
       "</thead>\n",
       "<tbody>\n",
       "\t<tr><td>muc24271</td><td>ASK591</td><td>ASK591_PCLS_FC            </td><td>PCLS  </td><td>FC            </td><td>day 6</td><td>Fibrotic Cocktail            </td></tr>\n",
       "\t<tr><td>muc24272</td><td>ASK591</td><td>ASK591_PCLS_CC            </td><td>PCLS  </td><td>CC            </td><td>day 6</td><td>Control Cocktail             </td></tr>\n",
       "\t<tr><td>muc24273</td><td>ASK591</td><td>ASK591_PCLS_FC+Nintedanib </td><td>PCLS  </td><td>FC+Nintedanib </td><td>day 6</td><td>Fibrotic Cocktail + Treatment</td></tr>\n",
       "\t<tr><td>muc24274</td><td>ASK591</td><td>ASK591_PCLS_FC+Pirfenidone</td><td>PCLS  </td><td>FC+Pirfenidone</td><td>day 6</td><td>Fibrotic Cocktail + Treatment</td></tr>\n",
       "\t<tr><td>muc24275</td><td>ASK591</td><td>ASK591_PCLS_FC+CMP4       </td><td>PCLS  </td><td>FC+CMP4       </td><td>day 6</td><td>Fibrotic Cocktail + Treatment</td></tr>\n",
       "\t<tr><td>muc24276</td><td>ASK591</td><td>ASK591_Tissue             </td><td>Tissue</td><td>none          </td><td>day 0</td><td>none                         </td></tr>\n",
       "\t<tr><td>muc24279</td><td>ASK591</td><td>ASK591_PCLS_FC            </td><td>PCLS  </td><td>FC            </td><td>day 6</td><td>Fibrotic Cocktail            </td></tr>\n",
       "\t<tr><td>muc31175</td><td>ASK627</td><td>ASK627_PCLS_FC            </td><td>PCLS  </td><td>FC            </td><td>day 6</td><td>Fibrotic Cocktail            </td></tr>\n",
       "\t<tr><td>muc31176</td><td>ASK627</td><td>ASK627_PCLS_FC+Nintedanib </td><td>PCLS  </td><td>FC+Nintedanib </td><td>day 6</td><td>Fibrotic Cocktail + Treatment</td></tr>\n",
       "\t<tr><td>muc31177</td><td>ASK627</td><td>ASK627_PCLS_FC+Tranilast  </td><td>PCLS  </td><td>FC+Tranilast  </td><td>day 6</td><td>Fibrotic Cocktail + Treatment</td></tr>\n",
       "\t<tr><td>muc31178</td><td>ASK627</td><td>ASK627_PCLS_FC+CMP4       </td><td>PCLS  </td><td>FC+CMP4       </td><td>day 6</td><td>Fibrotic Cocktail + Treatment</td></tr>\n",
       "\t<tr><td>muc31184</td><td>ASK627</td><td>ASK627_PCLS               </td><td>PCLS  </td><td>none          </td><td>day 1</td><td>none                         </td></tr>\n",
       "\t<tr><td>muc31185</td><td>ASK627</td><td>ASK627_PCLS_CC            </td><td>PCLS  </td><td>CC            </td><td>day 6</td><td>Control Cocktail             </td></tr>\n",
       "</tbody>\n",
       "</table>\n"
      ],
      "text/latex": [
       "A data.frame: 13 × 7\n",
       "\\begin{tabular}{lllllll}\n",
       " identifier & patient & name & modality & treatment & timepoint & condition\\\\\n",
       " <chr> & <chr> & <chr> & <chr> & <chr> & <chr> & <chr>\\\\\n",
       "\\hline\n",
       "\t muc24271 & ASK591 & ASK591\\_PCLS\\_FC             & PCLS   & FC             & day 6 & Fibrotic Cocktail            \\\\\n",
       "\t muc24272 & ASK591 & ASK591\\_PCLS\\_CC             & PCLS   & CC             & day 6 & Control Cocktail             \\\\\n",
       "\t muc24273 & ASK591 & ASK591\\_PCLS\\_FC+Nintedanib  & PCLS   & FC+Nintedanib  & day 6 & Fibrotic Cocktail + Treatment\\\\\n",
       "\t muc24274 & ASK591 & ASK591\\_PCLS\\_FC+Pirfenidone & PCLS   & FC+Pirfenidone & day 6 & Fibrotic Cocktail + Treatment\\\\\n",
       "\t muc24275 & ASK591 & ASK591\\_PCLS\\_FC+CMP4        & PCLS   & FC+CMP4        & day 6 & Fibrotic Cocktail + Treatment\\\\\n",
       "\t muc24276 & ASK591 & ASK591\\_Tissue              & Tissue & none           & day 0 & none                         \\\\\n",
       "\t muc24279 & ASK591 & ASK591\\_PCLS\\_FC             & PCLS   & FC             & day 6 & Fibrotic Cocktail            \\\\\n",
       "\t muc31175 & ASK627 & ASK627\\_PCLS\\_FC             & PCLS   & FC             & day 6 & Fibrotic Cocktail            \\\\\n",
       "\t muc31176 & ASK627 & ASK627\\_PCLS\\_FC+Nintedanib  & PCLS   & FC+Nintedanib  & day 6 & Fibrotic Cocktail + Treatment\\\\\n",
       "\t muc31177 & ASK627 & ASK627\\_PCLS\\_FC+Tranilast   & PCLS   & FC+Tranilast   & day 6 & Fibrotic Cocktail + Treatment\\\\\n",
       "\t muc31178 & ASK627 & ASK627\\_PCLS\\_FC+CMP4        & PCLS   & FC+CMP4        & day 6 & Fibrotic Cocktail + Treatment\\\\\n",
       "\t muc31184 & ASK627 & ASK627\\_PCLS                & PCLS   & none           & day 1 & none                         \\\\\n",
       "\t muc31185 & ASK627 & ASK627\\_PCLS\\_CC             & PCLS   & CC             & day 6 & Control Cocktail             \\\\\n",
       "\\end{tabular}\n"
      ],
      "text/markdown": [
       "\n",
       "A data.frame: 13 × 7\n",
       "\n",
       "| identifier &lt;chr&gt; | patient &lt;chr&gt; | name &lt;chr&gt; | modality &lt;chr&gt; | treatment &lt;chr&gt; | timepoint &lt;chr&gt; | condition &lt;chr&gt; |\n",
       "|---|---|---|---|---|---|---|\n",
       "| muc24271 | ASK591 | ASK591_PCLS_FC             | PCLS   | FC             | day 6 | Fibrotic Cocktail             |\n",
       "| muc24272 | ASK591 | ASK591_PCLS_CC             | PCLS   | CC             | day 6 | Control Cocktail              |\n",
       "| muc24273 | ASK591 | ASK591_PCLS_FC+Nintedanib  | PCLS   | FC+Nintedanib  | day 6 | Fibrotic Cocktail + Treatment |\n",
       "| muc24274 | ASK591 | ASK591_PCLS_FC+Pirfenidone | PCLS   | FC+Pirfenidone | day 6 | Fibrotic Cocktail + Treatment |\n",
       "| muc24275 | ASK591 | ASK591_PCLS_FC+CMP4        | PCLS   | FC+CMP4        | day 6 | Fibrotic Cocktail + Treatment |\n",
       "| muc24276 | ASK591 | ASK591_Tissue              | Tissue | none           | day 0 | none                          |\n",
       "| muc24279 | ASK591 | ASK591_PCLS_FC             | PCLS   | FC             | day 6 | Fibrotic Cocktail             |\n",
       "| muc31175 | ASK627 | ASK627_PCLS_FC             | PCLS   | FC             | day 6 | Fibrotic Cocktail             |\n",
       "| muc31176 | ASK627 | ASK627_PCLS_FC+Nintedanib  | PCLS   | FC+Nintedanib  | day 6 | Fibrotic Cocktail + Treatment |\n",
       "| muc31177 | ASK627 | ASK627_PCLS_FC+Tranilast   | PCLS   | FC+Tranilast   | day 6 | Fibrotic Cocktail + Treatment |\n",
       "| muc31178 | ASK627 | ASK627_PCLS_FC+CMP4        | PCLS   | FC+CMP4        | day 6 | Fibrotic Cocktail + Treatment |\n",
       "| muc31184 | ASK627 | ASK627_PCLS                | PCLS   | none           | day 1 | none                          |\n",
       "| muc31185 | ASK627 | ASK627_PCLS_CC             | PCLS   | CC             | day 6 | Control Cocktail              |\n",
       "\n"
      ],
      "text/plain": [
       "   identifier patient name                       modality treatment     \n",
       "1  muc24271   ASK591  ASK591_PCLS_FC             PCLS     FC            \n",
       "2  muc24272   ASK591  ASK591_PCLS_CC             PCLS     CC            \n",
       "3  muc24273   ASK591  ASK591_PCLS_FC+Nintedanib  PCLS     FC+Nintedanib \n",
       "4  muc24274   ASK591  ASK591_PCLS_FC+Pirfenidone PCLS     FC+Pirfenidone\n",
       "5  muc24275   ASK591  ASK591_PCLS_FC+CMP4        PCLS     FC+CMP4       \n",
       "6  muc24276   ASK591  ASK591_Tissue              Tissue   none          \n",
       "7  muc24279   ASK591  ASK591_PCLS_FC             PCLS     FC            \n",
       "8  muc31175   ASK627  ASK627_PCLS_FC             PCLS     FC            \n",
       "9  muc31176   ASK627  ASK627_PCLS_FC+Nintedanib  PCLS     FC+Nintedanib \n",
       "10 muc31177   ASK627  ASK627_PCLS_FC+Tranilast   PCLS     FC+Tranilast  \n",
       "11 muc31178   ASK627  ASK627_PCLS_FC+CMP4        PCLS     FC+CMP4       \n",
       "12 muc31184   ASK627  ASK627_PCLS                PCLS     none          \n",
       "13 muc31185   ASK627  ASK627_PCLS_CC             PCLS     CC            \n",
       "   timepoint condition                    \n",
       "1  day 6     Fibrotic Cocktail            \n",
       "2  day 6     Control Cocktail             \n",
       "3  day 6     Fibrotic Cocktail + Treatment\n",
       "4  day 6     Fibrotic Cocktail + Treatment\n",
       "5  day 6     Fibrotic Cocktail + Treatment\n",
       "6  day 0     none                         \n",
       "7  day 6     Fibrotic Cocktail            \n",
       "8  day 6     Fibrotic Cocktail            \n",
       "9  day 6     Fibrotic Cocktail + Treatment\n",
       "10 day 6     Fibrotic Cocktail + Treatment\n",
       "11 day 6     Fibrotic Cocktail + Treatment\n",
       "12 day 1     none                         \n",
       "13 day 6     Control Cocktail             "
      ]
     },
     "metadata": {},
     "output_type": "display_data"
    }
   ],
   "source": [
    "metadata"
   ]
  },
  {
   "cell_type": "code",
   "execution_count": 5,
   "id": "3f894e96",
   "metadata": {},
   "outputs": [
    {
     "data": {
      "text/html": [
       "<table class=\"dataframe\">\n",
       "<caption>A data.frame: 5 × 11</caption>\n",
       "<thead>\n",
       "\t<tr><th></th><th scope=col>Genes</th><th scope=col>muc24271</th><th scope=col>muc24272</th><th scope=col>muc24273</th><th scope=col>muc24275</th><th scope=col>muc24279</th><th scope=col>muc31175</th><th scope=col>muc31176</th><th scope=col>muc31177</th><th scope=col>muc31178</th><th scope=col>muc31185</th></tr>\n",
       "\t<tr><th></th><th scope=col>&lt;chr&gt;</th><th scope=col>&lt;int&gt;</th><th scope=col>&lt;int&gt;</th><th scope=col>&lt;int&gt;</th><th scope=col>&lt;int&gt;</th><th scope=col>&lt;int&gt;</th><th scope=col>&lt;int&gt;</th><th scope=col>&lt;int&gt;</th><th scope=col>&lt;int&gt;</th><th scope=col>&lt;int&gt;</th><th scope=col>&lt;int&gt;</th></tr>\n",
       "</thead>\n",
       "<tbody>\n",
       "\t<tr><th scope=row>1</th><td>OR4F5 </td><td>   0</td><td>   0</td><td>   0</td><td>   0</td><td>   0</td><td>   0</td><td>   0</td><td>   0</td><td>   0</td><td>   0</td></tr>\n",
       "\t<tr><th scope=row>2</th><td>OR4F29</td><td>   0</td><td>   0</td><td>   0</td><td>   0</td><td>   0</td><td>   0</td><td>   0</td><td>   0</td><td>   0</td><td>   0</td></tr>\n",
       "\t<tr><th scope=row>3</th><td>OR4F16</td><td>   0</td><td>   0</td><td>   0</td><td>   0</td><td>   0</td><td>   0</td><td>   0</td><td>   0</td><td>   0</td><td>   0</td></tr>\n",
       "\t<tr><th scope=row>4</th><td>SAMD11</td><td> 475</td><td>  86</td><td> 283</td><td> 279</td><td> 353</td><td>1287</td><td> 761</td><td>2390</td><td>1891</td><td> 903</td></tr>\n",
       "\t<tr><th scope=row>5</th><td>NOC2L </td><td>1804</td><td>2035</td><td>2769</td><td>3006</td><td>1433</td><td>3351</td><td>4246</td><td>3471</td><td>3729</td><td>3960</td></tr>\n",
       "</tbody>\n",
       "</table>\n"
      ],
      "text/latex": [
       "A data.frame: 5 × 11\n",
       "\\begin{tabular}{r|lllllllllll}\n",
       "  & Genes & muc24271 & muc24272 & muc24273 & muc24275 & muc24279 & muc31175 & muc31176 & muc31177 & muc31178 & muc31185\\\\\n",
       "  & <chr> & <int> & <int> & <int> & <int> & <int> & <int> & <int> & <int> & <int> & <int>\\\\\n",
       "\\hline\n",
       "\t1 & OR4F5  &    0 &    0 &    0 &    0 &    0 &    0 &    0 &    0 &    0 &    0\\\\\n",
       "\t2 & OR4F29 &    0 &    0 &    0 &    0 &    0 &    0 &    0 &    0 &    0 &    0\\\\\n",
       "\t3 & OR4F16 &    0 &    0 &    0 &    0 &    0 &    0 &    0 &    0 &    0 &    0\\\\\n",
       "\t4 & SAMD11 &  475 &   86 &  283 &  279 &  353 & 1287 &  761 & 2390 & 1891 &  903\\\\\n",
       "\t5 & NOC2L  & 1804 & 2035 & 2769 & 3006 & 1433 & 3351 & 4246 & 3471 & 3729 & 3960\\\\\n",
       "\\end{tabular}\n"
      ],
      "text/markdown": [
       "\n",
       "A data.frame: 5 × 11\n",
       "\n",
       "| <!--/--> | Genes &lt;chr&gt; | muc24271 &lt;int&gt; | muc24272 &lt;int&gt; | muc24273 &lt;int&gt; | muc24275 &lt;int&gt; | muc24279 &lt;int&gt; | muc31175 &lt;int&gt; | muc31176 &lt;int&gt; | muc31177 &lt;int&gt; | muc31178 &lt;int&gt; | muc31185 &lt;int&gt; |\n",
       "|---|---|---|---|---|---|---|---|---|---|---|---|\n",
       "| 1 | OR4F5  |    0 |    0 |    0 |    0 |    0 |    0 |    0 |    0 |    0 |    0 |\n",
       "| 2 | OR4F29 |    0 |    0 |    0 |    0 |    0 |    0 |    0 |    0 |    0 |    0 |\n",
       "| 3 | OR4F16 |    0 |    0 |    0 |    0 |    0 |    0 |    0 |    0 |    0 |    0 |\n",
       "| 4 | SAMD11 |  475 |   86 |  283 |  279 |  353 | 1287 |  761 | 2390 | 1891 |  903 |\n",
       "| 5 | NOC2L  | 1804 | 2035 | 2769 | 3006 | 1433 | 3351 | 4246 | 3471 | 3729 | 3960 |\n",
       "\n"
      ],
      "text/plain": [
       "  Genes  muc24271 muc24272 muc24273 muc24275 muc24279 muc31175 muc31176\n",
       "1 OR4F5     0        0        0        0        0        0        0    \n",
       "2 OR4F29    0        0        0        0        0        0        0    \n",
       "3 OR4F16    0        0        0        0        0        0        0    \n",
       "4 SAMD11  475       86      283      279      353     1287      761    \n",
       "5 NOC2L  1804     2035     2769     3006     1433     3351     4246    \n",
       "  muc31177 muc31178 muc31185\n",
       "1    0        0        0    \n",
       "2    0        0        0    \n",
       "3    0        0        0    \n",
       "4 2390     1891      903    \n",
       "5 3471     3729     3960    "
      ]
     },
     "metadata": {},
     "output_type": "display_data"
    }
   ],
   "source": [
    "head(counts,5)"
   ]
  },
  {
   "cell_type": "code",
   "execution_count": 6,
   "id": "c5f1e564",
   "metadata": {},
   "outputs": [],
   "source": [
    "rownames(counts) <- counts$Genes\n",
    "counts$Genes <- NULL"
   ]
  },
  {
   "cell_type": "code",
   "execution_count": 7,
   "id": "432d2b4c",
   "metadata": {},
   "outputs": [
    {
     "data": {
      "text/html": [
       "<table class=\"dataframe\">\n",
       "<caption>A data.frame: 5 × 4</caption>\n",
       "<thead>\n",
       "\t<tr><th></th><th scope=col>muc24271</th><th scope=col>muc24272</th><th scope=col>muc31175</th><th scope=col>muc31185</th></tr>\n",
       "\t<tr><th></th><th scope=col>&lt;int&gt;</th><th scope=col>&lt;int&gt;</th><th scope=col>&lt;int&gt;</th><th scope=col>&lt;int&gt;</th></tr>\n",
       "</thead>\n",
       "<tbody>\n",
       "\t<tr><th scope=row>OR4F5</th><td>   0</td><td>   0</td><td>   0</td><td>   0</td></tr>\n",
       "\t<tr><th scope=row>OR4F29</th><td>   0</td><td>   0</td><td>   0</td><td>   0</td></tr>\n",
       "\t<tr><th scope=row>OR4F16</th><td>   0</td><td>   0</td><td>   0</td><td>   0</td></tr>\n",
       "\t<tr><th scope=row>SAMD11</th><td> 475</td><td>  86</td><td>1287</td><td> 903</td></tr>\n",
       "\t<tr><th scope=row>NOC2L</th><td>1804</td><td>2035</td><td>3351</td><td>3960</td></tr>\n",
       "</tbody>\n",
       "</table>\n"
      ],
      "text/latex": [
       "A data.frame: 5 × 4\n",
       "\\begin{tabular}{r|llll}\n",
       "  & muc24271 & muc24272 & muc31175 & muc31185\\\\\n",
       "  & <int> & <int> & <int> & <int>\\\\\n",
       "\\hline\n",
       "\tOR4F5 &    0 &    0 &    0 &    0\\\\\n",
       "\tOR4F29 &    0 &    0 &    0 &    0\\\\\n",
       "\tOR4F16 &    0 &    0 &    0 &    0\\\\\n",
       "\tSAMD11 &  475 &   86 & 1287 &  903\\\\\n",
       "\tNOC2L & 1804 & 2035 & 3351 & 3960\\\\\n",
       "\\end{tabular}\n"
      ],
      "text/markdown": [
       "\n",
       "A data.frame: 5 × 4\n",
       "\n",
       "| <!--/--> | muc24271 &lt;int&gt; | muc24272 &lt;int&gt; | muc31175 &lt;int&gt; | muc31185 &lt;int&gt; |\n",
       "|---|---|---|---|---|\n",
       "| OR4F5 |    0 |    0 |    0 |    0 |\n",
       "| OR4F29 |    0 |    0 |    0 |    0 |\n",
       "| OR4F16 |    0 |    0 |    0 |    0 |\n",
       "| SAMD11 |  475 |   86 | 1287 |  903 |\n",
       "| NOC2L | 1804 | 2035 | 3351 | 3960 |\n",
       "\n"
      ],
      "text/plain": [
       "       muc24271 muc24272 muc31175 muc31185\n",
       "OR4F5     0        0        0        0    \n",
       "OR4F29    0        0        0        0    \n",
       "OR4F16    0        0        0        0    \n",
       "SAMD11  475       86     1287      903    \n",
       "NOC2L  1804     2035     3351     3960    "
      ]
     },
     "metadata": {},
     "output_type": "display_data"
    }
   ],
   "source": [
    "counts <- counts[which(colnames(counts) %in% c('muc24271','muc24272','muc31179','muc31185','muc31175'))]\n",
    "head(counts,5)"
   ]
  },
  {
   "cell_type": "code",
   "execution_count": 9,
   "id": "d27e3b11",
   "metadata": {},
   "outputs": [
    {
     "data": {
      "text/html": [
       "<table class=\"dataframe\">\n",
       "<caption>A data.frame: 4 × 7</caption>\n",
       "<thead>\n",
       "\t<tr><th></th><th scope=col>identifier</th><th scope=col>patient</th><th scope=col>name</th><th scope=col>modality</th><th scope=col>treatment</th><th scope=col>timepoint</th><th scope=col>condition</th></tr>\n",
       "\t<tr><th></th><th scope=col>&lt;chr&gt;</th><th scope=col>&lt;chr&gt;</th><th scope=col>&lt;chr&gt;</th><th scope=col>&lt;chr&gt;</th><th scope=col>&lt;chr&gt;</th><th scope=col>&lt;chr&gt;</th><th scope=col>&lt;chr&gt;</th></tr>\n",
       "</thead>\n",
       "<tbody>\n",
       "\t<tr><th scope=row>1</th><td>muc24271</td><td>ASK591</td><td>ASK591_PCLS_FC</td><td>PCLS</td><td>FC</td><td>day 6</td><td>Fibrotic Cocktail</td></tr>\n",
       "\t<tr><th scope=row>2</th><td>muc24272</td><td>ASK591</td><td>ASK591_PCLS_CC</td><td>PCLS</td><td>CC</td><td>day 6</td><td>Control Cocktail </td></tr>\n",
       "\t<tr><th scope=row>8</th><td>muc31175</td><td>ASK627</td><td>ASK627_PCLS_FC</td><td>PCLS</td><td>FC</td><td>day 6</td><td>Fibrotic Cocktail</td></tr>\n",
       "\t<tr><th scope=row>13</th><td>muc31185</td><td>ASK627</td><td>ASK627_PCLS_CC</td><td>PCLS</td><td>CC</td><td>day 6</td><td>Control Cocktail </td></tr>\n",
       "</tbody>\n",
       "</table>\n"
      ],
      "text/latex": [
       "A data.frame: 4 × 7\n",
       "\\begin{tabular}{r|lllllll}\n",
       "  & identifier & patient & name & modality & treatment & timepoint & condition\\\\\n",
       "  & <chr> & <chr> & <chr> & <chr> & <chr> & <chr> & <chr>\\\\\n",
       "\\hline\n",
       "\t1 & muc24271 & ASK591 & ASK591\\_PCLS\\_FC & PCLS & FC & day 6 & Fibrotic Cocktail\\\\\n",
       "\t2 & muc24272 & ASK591 & ASK591\\_PCLS\\_CC & PCLS & CC & day 6 & Control Cocktail \\\\\n",
       "\t8 & muc31175 & ASK627 & ASK627\\_PCLS\\_FC & PCLS & FC & day 6 & Fibrotic Cocktail\\\\\n",
       "\t13 & muc31185 & ASK627 & ASK627\\_PCLS\\_CC & PCLS & CC & day 6 & Control Cocktail \\\\\n",
       "\\end{tabular}\n"
      ],
      "text/markdown": [
       "\n",
       "A data.frame: 4 × 7\n",
       "\n",
       "| <!--/--> | identifier &lt;chr&gt; | patient &lt;chr&gt; | name &lt;chr&gt; | modality &lt;chr&gt; | treatment &lt;chr&gt; | timepoint &lt;chr&gt; | condition &lt;chr&gt; |\n",
       "|---|---|---|---|---|---|---|---|\n",
       "| 1 | muc24271 | ASK591 | ASK591_PCLS_FC | PCLS | FC | day 6 | Fibrotic Cocktail |\n",
       "| 2 | muc24272 | ASK591 | ASK591_PCLS_CC | PCLS | CC | day 6 | Control Cocktail  |\n",
       "| 8 | muc31175 | ASK627 | ASK627_PCLS_FC | PCLS | FC | day 6 | Fibrotic Cocktail |\n",
       "| 13 | muc31185 | ASK627 | ASK627_PCLS_CC | PCLS | CC | day 6 | Control Cocktail  |\n",
       "\n"
      ],
      "text/plain": [
       "   identifier patient name           modality treatment timepoint\n",
       "1  muc24271   ASK591  ASK591_PCLS_FC PCLS     FC        day 6    \n",
       "2  muc24272   ASK591  ASK591_PCLS_CC PCLS     CC        day 6    \n",
       "8  muc31175   ASK627  ASK627_PCLS_FC PCLS     FC        day 6    \n",
       "13 muc31185   ASK627  ASK627_PCLS_CC PCLS     CC        day 6    \n",
       "   condition        \n",
       "1  Fibrotic Cocktail\n",
       "2  Control Cocktail \n",
       "8  Fibrotic Cocktail\n",
       "13 Control Cocktail "
      ]
     },
     "metadata": {},
     "output_type": "display_data"
    }
   ],
   "source": [
    "metadata <- metadata[which(metadata$identifier %in% colnames(counts)), ]\n",
    "metadata"
   ]
  },
  {
   "cell_type": "code",
   "execution_count": 10,
   "id": "7898388e",
   "metadata": {},
   "outputs": [
    {
     "name": "stderr",
     "output_type": "stream",
     "text": [
      "Warning message in DESeqDataSet(se, design = design, ignoreRank):\n",
      "“some variables in design formula are characters, converting to factors”\n"
     ]
    },
    {
     "data": {
      "text/plain": [
       "class: DESeqDataSet \n",
       "dim: 20613 4 \n",
       "metadata(1): version\n",
       "assays(1): counts\n",
       "rownames(20613): OR4F5 OR4F29 ... AC213203.4 AC213203.1\n",
       "rowData names(0):\n",
       "colnames(4): muc24271 muc24272 muc31175 muc31185\n",
       "colData names(7): identifier patient ... timepoint condition"
      ]
     },
     "metadata": {},
     "output_type": "display_data"
    }
   ],
   "source": [
    "dds <- DESeqDataSetFromMatrix(countData = counts,\n",
    "                              colData = metadata,\n",
    "                              design = ~ treatment)\n",
    "dds"
   ]
  },
  {
   "cell_type": "code",
   "execution_count": 12,
   "id": "efba36ee",
   "metadata": {},
   "outputs": [
    {
     "ename": "ERROR",
     "evalue": "Error in fpkm(dds, robust = FALSE): rowRanges(object) has all ranges of zero width.\nthe user should instead supply a column, mcols(object)$basepairs,\nwhich will be used to produce FPKM values\n",
     "output_type": "error",
     "traceback": [
      "Error in fpkm(dds, robust = FALSE): rowRanges(object) has all ranges of zero width.\nthe user should instead supply a column, mcols(object)$basepairs,\nwhich will be used to produce FPKM values\nTraceback:\n",
      "1. fpkm(dds, robust = FALSE)",
      "2. stop(\"rowRanges(object) has all ranges of zero width.\\nthe user should instead supply a column, mcols(object)$basepairs,\\nwhich will be used to produce FPKM values\")"
     ]
    }
   ],
   "source": [
    "fpkm(dds, robust=FALSE)"
   ]
  },
  {
   "cell_type": "code",
   "execution_count": 10,
   "id": "fda9c92c",
   "metadata": {},
   "outputs": [],
   "source": [
    "## filtering - keep only genes which have 10 total counts across all conditons\n",
    "keep <- rowSums(counts(dds)) >= 10\n",
    "dds <- dds[keep,]"
   ]
  },
  {
   "cell_type": "code",
   "execution_count": 11,
   "id": "8ff0b20e",
   "metadata": {},
   "outputs": [],
   "source": [
    "## set reference level\n",
    "dds$treatment <- relevel(dds$treatment, ref = 'CC')"
   ]
  },
  {
   "cell_type": "code",
   "execution_count": 12,
   "id": "6aefdaa1",
   "metadata": {},
   "outputs": [
    {
     "name": "stderr",
     "output_type": "stream",
     "text": [
      "estimating size factors\n",
      "\n",
      "estimating dispersions\n",
      "\n",
      "gene-wise dispersion estimates\n",
      "\n",
      "mean-dispersion relationship\n",
      "\n",
      "final dispersion estimates\n",
      "\n",
      "fitting model and testing\n",
      "\n"
     ]
    },
    {
     "data": {
      "text/plain": [
       "log2 fold change (MLE): treatment FC vs CC \n",
       "Wald test p-value: treatment FC vs CC \n",
       "DataFrame with 17020 rows and 6 columns\n",
       "            baseMean log2FoldChange     lfcSE      stat    pvalue      padj\n",
       "           <numeric>      <numeric> <numeric> <numeric> <numeric> <numeric>\n",
       "SAMD11      590.1674       1.039719  0.805763  1.290353  0.196928  0.999984\n",
       "NOC2L      2638.1519      -0.154996  0.325167 -0.476664  0.633602  0.999984\n",
       "KLHL17      450.3547       0.712674  0.468922  1.519814  0.128558  0.999984\n",
       "PLEKHN1     509.2745       0.810455  0.493613  1.641885  0.100614  0.999984\n",
       "PERM1        13.6569       0.194192  1.478496  0.131344  0.895503  0.999984\n",
       "...              ...            ...       ...       ...       ...       ...\n",
       "AL592183.1 561.14592     -0.4093135  0.802147 -0.510273  0.609860  0.999984\n",
       "AC007325.4 150.70771      0.2398174  0.541482  0.442890  0.657845  0.999984\n",
       "AL354822.1 408.67842      0.1639664  0.539840  0.303731  0.761332  0.999984\n",
       "AC233755.2   1.71893      1.8645797  4.755887  0.392057  0.695016        NA\n",
       "AC240274.1 177.04711     -0.0322576  0.720581 -0.044766  0.964294  0.999984"
      ]
     },
     "metadata": {},
     "output_type": "display_data"
    }
   ],
   "source": [
    "dds <- DESeq(dds)\n",
    "res <- results(dds)\n",
    "res"
   ]
  },
  {
   "cell_type": "code",
   "execution_count": 13,
   "id": "9089ab96",
   "metadata": {},
   "outputs": [
    {
     "data": {
      "text/html": [
       "<table class=\"dataframe\">\n",
       "<caption>A data.frame: 5 × 6</caption>\n",
       "<thead>\n",
       "\t<tr><th></th><th scope=col>baseMean</th><th scope=col>log2FoldChange</th><th scope=col>lfcSE</th><th scope=col>stat</th><th scope=col>pvalue</th><th scope=col>padj</th></tr>\n",
       "\t<tr><th></th><th scope=col>&lt;dbl&gt;</th><th scope=col>&lt;dbl&gt;</th><th scope=col>&lt;dbl&gt;</th><th scope=col>&lt;dbl&gt;</th><th scope=col>&lt;dbl&gt;</th><th scope=col>&lt;dbl&gt;</th></tr>\n",
       "</thead>\n",
       "<tbody>\n",
       "\t<tr><th scope=row>SAMD11</th><td> 590.16742</td><td> 1.0397188</td><td>0.8057631</td><td> 1.2903529</td><td>0.1969282</td><td>0.9999845</td></tr>\n",
       "\t<tr><th scope=row>NOC2L</th><td>2638.15190</td><td>-0.1549955</td><td>0.3251675</td><td>-0.4766637</td><td>0.6336016</td><td>0.9999845</td></tr>\n",
       "\t<tr><th scope=row>KLHL17</th><td> 450.35467</td><td> 0.7126741</td><td>0.4689219</td><td> 1.5198143</td><td>0.1285577</td><td>0.9999845</td></tr>\n",
       "\t<tr><th scope=row>PLEKHN1</th><td> 509.27453</td><td> 0.8104553</td><td>0.4936126</td><td> 1.6418855</td><td>0.1006137</td><td>0.9999845</td></tr>\n",
       "\t<tr><th scope=row>PERM1</th><td>  13.65693</td><td> 0.1941921</td><td>1.4784957</td><td> 0.1313444</td><td>0.8955029</td><td>0.9999845</td></tr>\n",
       "</tbody>\n",
       "</table>\n"
      ],
      "text/latex": [
       "A data.frame: 5 × 6\n",
       "\\begin{tabular}{r|llllll}\n",
       "  & baseMean & log2FoldChange & lfcSE & stat & pvalue & padj\\\\\n",
       "  & <dbl> & <dbl> & <dbl> & <dbl> & <dbl> & <dbl>\\\\\n",
       "\\hline\n",
       "\tSAMD11 &  590.16742 &  1.0397188 & 0.8057631 &  1.2903529 & 0.1969282 & 0.9999845\\\\\n",
       "\tNOC2L & 2638.15190 & -0.1549955 & 0.3251675 & -0.4766637 & 0.6336016 & 0.9999845\\\\\n",
       "\tKLHL17 &  450.35467 &  0.7126741 & 0.4689219 &  1.5198143 & 0.1285577 & 0.9999845\\\\\n",
       "\tPLEKHN1 &  509.27453 &  0.8104553 & 0.4936126 &  1.6418855 & 0.1006137 & 0.9999845\\\\\n",
       "\tPERM1 &   13.65693 &  0.1941921 & 1.4784957 &  0.1313444 & 0.8955029 & 0.9999845\\\\\n",
       "\\end{tabular}\n"
      ],
      "text/markdown": [
       "\n",
       "A data.frame: 5 × 6\n",
       "\n",
       "| <!--/--> | baseMean &lt;dbl&gt; | log2FoldChange &lt;dbl&gt; | lfcSE &lt;dbl&gt; | stat &lt;dbl&gt; | pvalue &lt;dbl&gt; | padj &lt;dbl&gt; |\n",
       "|---|---|---|---|---|---|---|\n",
       "| SAMD11 |  590.16742 |  1.0397188 | 0.8057631 |  1.2903529 | 0.1969282 | 0.9999845 |\n",
       "| NOC2L | 2638.15190 | -0.1549955 | 0.3251675 | -0.4766637 | 0.6336016 | 0.9999845 |\n",
       "| KLHL17 |  450.35467 |  0.7126741 | 0.4689219 |  1.5198143 | 0.1285577 | 0.9999845 |\n",
       "| PLEKHN1 |  509.27453 |  0.8104553 | 0.4936126 |  1.6418855 | 0.1006137 | 0.9999845 |\n",
       "| PERM1 |   13.65693 |  0.1941921 | 1.4784957 |  0.1313444 | 0.8955029 | 0.9999845 |\n",
       "\n"
      ],
      "text/plain": [
       "        baseMean   log2FoldChange lfcSE     stat       pvalue    padj     \n",
       "SAMD11   590.16742  1.0397188     0.8057631  1.2903529 0.1969282 0.9999845\n",
       "NOC2L   2638.15190 -0.1549955     0.3251675 -0.4766637 0.6336016 0.9999845\n",
       "KLHL17   450.35467  0.7126741     0.4689219  1.5198143 0.1285577 0.9999845\n",
       "PLEKHN1  509.27453  0.8104553     0.4936126  1.6418855 0.1006137 0.9999845\n",
       "PERM1     13.65693  0.1941921     1.4784957  0.1313444 0.8955029 0.9999845"
      ]
     },
     "metadata": {},
     "output_type": "display_data"
    }
   ],
   "source": [
    "res <- data.frame(res)\n",
    "head(res,5)"
   ]
  },
  {
   "cell_type": "code",
   "execution_count": 14,
   "id": "4cb40a9e",
   "metadata": {},
   "outputs": [],
   "source": [
    "write.csv(res, paste0(table_dir, '211207_ASK_joint_synthetic_bulk_DGE.csv'))"
   ]
  }
 ],
 "metadata": {
  "kernelspec": {
   "display_name": "R",
   "language": "R",
   "name": "ir"
  },
  "language_info": {
   "codemirror_mode": "r",
   "file_extension": ".r",
   "mimetype": "text/x-r-source",
   "name": "R",
   "pygments_lexer": "r",
   "version": "4.0.5"
  }
 },
 "nbformat": 4,
 "nbformat_minor": 5
}
