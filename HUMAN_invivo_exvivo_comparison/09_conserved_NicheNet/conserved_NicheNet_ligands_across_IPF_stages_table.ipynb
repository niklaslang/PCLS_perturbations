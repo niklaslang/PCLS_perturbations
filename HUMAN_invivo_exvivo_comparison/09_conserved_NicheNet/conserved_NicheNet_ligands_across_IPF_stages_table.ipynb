{
 "cells": [
  {
   "cell_type": "code",
   "execution_count": 1,
   "id": "eab53366",
   "metadata": {},
   "outputs": [],
   "source": [
    "suppressPackageStartupMessages(library(tidyverse))"
   ]
  },
  {
   "cell_type": "code",
   "execution_count": 2,
   "id": "e565d0df",
   "metadata": {},
   "outputs": [],
   "source": [
    "results_dir = '/home/niklas/projects/niche_environments_FIBROSIS/HUMAN_invivo_exvivo_comparison/01_data/ASK_joint/NicheNet/'"
   ]
  },
  {
   "cell_type": "code",
   "execution_count": 3,
   "id": "5519378c",
   "metadata": {},
   "outputs": [],
   "source": [
    "invivo_dir = '/home/niklas/projects/niche_environments_FIBROSIS/HUMAN_invivo/01_data/NicheNet_outputs/ligand_activities_FC_CC/'\n",
    "exvivo_dir = '/home/niklas/projects/niche_environments_FIBROSIS/HUMAN_exvivo/01_data/NicheNet_outputs/ligand_activities_FC_CC/'"
   ]
  },
  {
   "cell_type": "code",
   "execution_count": 4,
   "id": "76308e2c",
   "metadata": {},
   "outputs": [],
   "source": [
    "cell_type_labels <- c('Airway_Epithelium','Alveolar_Epithelium',\n",
    "                      'capillary_EC', 'vascular_EC', 'lymphatic_EC',\n",
    "                      'Fibroblasts','SMC_Pericytes',\n",
    "                      'Macrophages','DC','Mast_cells',\n",
    "                      'B_cells','Plasma_cells','T_cells','NK_cells')"
   ]
  },
  {
   "cell_type": "code",
   "execution_count": 5,
   "id": "ce8fb956",
   "metadata": {},
   "outputs": [
    {
     "data": {
      "text/html": [
       "<table class=\"dataframe\">\n",
       "<caption>A data.frame: 14 × 14</caption>\n",
       "<thead>\n",
       "\t<tr><th></th><th scope=col>Airway_Epithelium</th><th scope=col>Alveolar_Epithelium</th><th scope=col>capillary_EC</th><th scope=col>vascular_EC</th><th scope=col>lymphatic_EC</th><th scope=col>Fibroblasts</th><th scope=col>SMC_Pericytes</th><th scope=col>Macrophages</th><th scope=col>DC</th><th scope=col>Mast_cells</th><th scope=col>B_cells</th><th scope=col>Plasma_cells</th><th scope=col>T_cells</th><th scope=col>NK_cells</th></tr>\n",
       "\t<tr><th></th><th scope=col>&lt;lgl&gt;</th><th scope=col>&lt;lgl&gt;</th><th scope=col>&lt;lgl&gt;</th><th scope=col>&lt;lgl&gt;</th><th scope=col>&lt;lgl&gt;</th><th scope=col>&lt;lgl&gt;</th><th scope=col>&lt;lgl&gt;</th><th scope=col>&lt;lgl&gt;</th><th scope=col>&lt;lgl&gt;</th><th scope=col>&lt;lgl&gt;</th><th scope=col>&lt;lgl&gt;</th><th scope=col>&lt;lgl&gt;</th><th scope=col>&lt;lgl&gt;</th><th scope=col>&lt;lgl&gt;</th></tr>\n",
       "</thead>\n",
       "<tbody>\n",
       "\t<tr><th scope=row>Airway_Epithelium</th><td>NA</td><td>NA</td><td>NA</td><td>NA</td><td>NA</td><td>NA</td><td>NA</td><td>NA</td><td>NA</td><td>NA</td><td>NA</td><td>NA</td><td>NA</td><td>NA</td></tr>\n",
       "\t<tr><th scope=row>Alveolar_Epithelium</th><td>NA</td><td>NA</td><td>NA</td><td>NA</td><td>NA</td><td>NA</td><td>NA</td><td>NA</td><td>NA</td><td>NA</td><td>NA</td><td>NA</td><td>NA</td><td>NA</td></tr>\n",
       "\t<tr><th scope=row>capillary_EC</th><td>NA</td><td>NA</td><td>NA</td><td>NA</td><td>NA</td><td>NA</td><td>NA</td><td>NA</td><td>NA</td><td>NA</td><td>NA</td><td>NA</td><td>NA</td><td>NA</td></tr>\n",
       "\t<tr><th scope=row>vascular_EC</th><td>NA</td><td>NA</td><td>NA</td><td>NA</td><td>NA</td><td>NA</td><td>NA</td><td>NA</td><td>NA</td><td>NA</td><td>NA</td><td>NA</td><td>NA</td><td>NA</td></tr>\n",
       "\t<tr><th scope=row>lymphatic_EC</th><td>NA</td><td>NA</td><td>NA</td><td>NA</td><td>NA</td><td>NA</td><td>NA</td><td>NA</td><td>NA</td><td>NA</td><td>NA</td><td>NA</td><td>NA</td><td>NA</td></tr>\n",
       "\t<tr><th scope=row>Fibroblasts</th><td>NA</td><td>NA</td><td>NA</td><td>NA</td><td>NA</td><td>NA</td><td>NA</td><td>NA</td><td>NA</td><td>NA</td><td>NA</td><td>NA</td><td>NA</td><td>NA</td></tr>\n",
       "\t<tr><th scope=row>SMC_Pericytes</th><td>NA</td><td>NA</td><td>NA</td><td>NA</td><td>NA</td><td>NA</td><td>NA</td><td>NA</td><td>NA</td><td>NA</td><td>NA</td><td>NA</td><td>NA</td><td>NA</td></tr>\n",
       "\t<tr><th scope=row>Macrophages</th><td>NA</td><td>NA</td><td>NA</td><td>NA</td><td>NA</td><td>NA</td><td>NA</td><td>NA</td><td>NA</td><td>NA</td><td>NA</td><td>NA</td><td>NA</td><td>NA</td></tr>\n",
       "\t<tr><th scope=row>DC</th><td>NA</td><td>NA</td><td>NA</td><td>NA</td><td>NA</td><td>NA</td><td>NA</td><td>NA</td><td>NA</td><td>NA</td><td>NA</td><td>NA</td><td>NA</td><td>NA</td></tr>\n",
       "\t<tr><th scope=row>Mast_cells</th><td>NA</td><td>NA</td><td>NA</td><td>NA</td><td>NA</td><td>NA</td><td>NA</td><td>NA</td><td>NA</td><td>NA</td><td>NA</td><td>NA</td><td>NA</td><td>NA</td></tr>\n",
       "\t<tr><th scope=row>B_cells</th><td>NA</td><td>NA</td><td>NA</td><td>NA</td><td>NA</td><td>NA</td><td>NA</td><td>NA</td><td>NA</td><td>NA</td><td>NA</td><td>NA</td><td>NA</td><td>NA</td></tr>\n",
       "\t<tr><th scope=row>Plasma_cells</th><td>NA</td><td>NA</td><td>NA</td><td>NA</td><td>NA</td><td>NA</td><td>NA</td><td>NA</td><td>NA</td><td>NA</td><td>NA</td><td>NA</td><td>NA</td><td>NA</td></tr>\n",
       "\t<tr><th scope=row>T_cells</th><td>NA</td><td>NA</td><td>NA</td><td>NA</td><td>NA</td><td>NA</td><td>NA</td><td>NA</td><td>NA</td><td>NA</td><td>NA</td><td>NA</td><td>NA</td><td>NA</td></tr>\n",
       "\t<tr><th scope=row>NK_cells</th><td>NA</td><td>NA</td><td>NA</td><td>NA</td><td>NA</td><td>NA</td><td>NA</td><td>NA</td><td>NA</td><td>NA</td><td>NA</td><td>NA</td><td>NA</td><td>NA</td></tr>\n",
       "</tbody>\n",
       "</table>\n"
      ],
      "text/latex": [
       "A data.frame: 14 × 14\n",
       "\\begin{tabular}{r|llllllllllllll}\n",
       "  & Airway\\_Epithelium & Alveolar\\_Epithelium & capillary\\_EC & vascular\\_EC & lymphatic\\_EC & Fibroblasts & SMC\\_Pericytes & Macrophages & DC & Mast\\_cells & B\\_cells & Plasma\\_cells & T\\_cells & NK\\_cells\\\\\n",
       "  & <lgl> & <lgl> & <lgl> & <lgl> & <lgl> & <lgl> & <lgl> & <lgl> & <lgl> & <lgl> & <lgl> & <lgl> & <lgl> & <lgl>\\\\\n",
       "\\hline\n",
       "\tAirway\\_Epithelium & NA & NA & NA & NA & NA & NA & NA & NA & NA & NA & NA & NA & NA & NA\\\\\n",
       "\tAlveolar\\_Epithelium & NA & NA & NA & NA & NA & NA & NA & NA & NA & NA & NA & NA & NA & NA\\\\\n",
       "\tcapillary\\_EC & NA & NA & NA & NA & NA & NA & NA & NA & NA & NA & NA & NA & NA & NA\\\\\n",
       "\tvascular\\_EC & NA & NA & NA & NA & NA & NA & NA & NA & NA & NA & NA & NA & NA & NA\\\\\n",
       "\tlymphatic\\_EC & NA & NA & NA & NA & NA & NA & NA & NA & NA & NA & NA & NA & NA & NA\\\\\n",
       "\tFibroblasts & NA & NA & NA & NA & NA & NA & NA & NA & NA & NA & NA & NA & NA & NA\\\\\n",
       "\tSMC\\_Pericytes & NA & NA & NA & NA & NA & NA & NA & NA & NA & NA & NA & NA & NA & NA\\\\\n",
       "\tMacrophages & NA & NA & NA & NA & NA & NA & NA & NA & NA & NA & NA & NA & NA & NA\\\\\n",
       "\tDC & NA & NA & NA & NA & NA & NA & NA & NA & NA & NA & NA & NA & NA & NA\\\\\n",
       "\tMast\\_cells & NA & NA & NA & NA & NA & NA & NA & NA & NA & NA & NA & NA & NA & NA\\\\\n",
       "\tB\\_cells & NA & NA & NA & NA & NA & NA & NA & NA & NA & NA & NA & NA & NA & NA\\\\\n",
       "\tPlasma\\_cells & NA & NA & NA & NA & NA & NA & NA & NA & NA & NA & NA & NA & NA & NA\\\\\n",
       "\tT\\_cells & NA & NA & NA & NA & NA & NA & NA & NA & NA & NA & NA & NA & NA & NA\\\\\n",
       "\tNK\\_cells & NA & NA & NA & NA & NA & NA & NA & NA & NA & NA & NA & NA & NA & NA\\\\\n",
       "\\end{tabular}\n"
      ],
      "text/markdown": [
       "\n",
       "A data.frame: 14 × 14\n",
       "\n",
       "| <!--/--> | Airway_Epithelium &lt;lgl&gt; | Alveolar_Epithelium &lt;lgl&gt; | capillary_EC &lt;lgl&gt; | vascular_EC &lt;lgl&gt; | lymphatic_EC &lt;lgl&gt; | Fibroblasts &lt;lgl&gt; | SMC_Pericytes &lt;lgl&gt; | Macrophages &lt;lgl&gt; | DC &lt;lgl&gt; | Mast_cells &lt;lgl&gt; | B_cells &lt;lgl&gt; | Plasma_cells &lt;lgl&gt; | T_cells &lt;lgl&gt; | NK_cells &lt;lgl&gt; |\n",
       "|---|---|---|---|---|---|---|---|---|---|---|---|---|---|---|\n",
       "| Airway_Epithelium | NA | NA | NA | NA | NA | NA | NA | NA | NA | NA | NA | NA | NA | NA |\n",
       "| Alveolar_Epithelium | NA | NA | NA | NA | NA | NA | NA | NA | NA | NA | NA | NA | NA | NA |\n",
       "| capillary_EC | NA | NA | NA | NA | NA | NA | NA | NA | NA | NA | NA | NA | NA | NA |\n",
       "| vascular_EC | NA | NA | NA | NA | NA | NA | NA | NA | NA | NA | NA | NA | NA | NA |\n",
       "| lymphatic_EC | NA | NA | NA | NA | NA | NA | NA | NA | NA | NA | NA | NA | NA | NA |\n",
       "| Fibroblasts | NA | NA | NA | NA | NA | NA | NA | NA | NA | NA | NA | NA | NA | NA |\n",
       "| SMC_Pericytes | NA | NA | NA | NA | NA | NA | NA | NA | NA | NA | NA | NA | NA | NA |\n",
       "| Macrophages | NA | NA | NA | NA | NA | NA | NA | NA | NA | NA | NA | NA | NA | NA |\n",
       "| DC | NA | NA | NA | NA | NA | NA | NA | NA | NA | NA | NA | NA | NA | NA |\n",
       "| Mast_cells | NA | NA | NA | NA | NA | NA | NA | NA | NA | NA | NA | NA | NA | NA |\n",
       "| B_cells | NA | NA | NA | NA | NA | NA | NA | NA | NA | NA | NA | NA | NA | NA |\n",
       "| Plasma_cells | NA | NA | NA | NA | NA | NA | NA | NA | NA | NA | NA | NA | NA | NA |\n",
       "| T_cells | NA | NA | NA | NA | NA | NA | NA | NA | NA | NA | NA | NA | NA | NA |\n",
       "| NK_cells | NA | NA | NA | NA | NA | NA | NA | NA | NA | NA | NA | NA | NA | NA |\n",
       "\n"
      ],
      "text/plain": [
       "                    Airway_Epithelium Alveolar_Epithelium capillary_EC\n",
       "Airway_Epithelium   NA                NA                  NA          \n",
       "Alveolar_Epithelium NA                NA                  NA          \n",
       "capillary_EC        NA                NA                  NA          \n",
       "vascular_EC         NA                NA                  NA          \n",
       "lymphatic_EC        NA                NA                  NA          \n",
       "Fibroblasts         NA                NA                  NA          \n",
       "SMC_Pericytes       NA                NA                  NA          \n",
       "Macrophages         NA                NA                  NA          \n",
       "DC                  NA                NA                  NA          \n",
       "Mast_cells          NA                NA                  NA          \n",
       "B_cells             NA                NA                  NA          \n",
       "Plasma_cells        NA                NA                  NA          \n",
       "T_cells             NA                NA                  NA          \n",
       "NK_cells            NA                NA                  NA          \n",
       "                    vascular_EC lymphatic_EC Fibroblasts SMC_Pericytes\n",
       "Airway_Epithelium   NA          NA           NA          NA           \n",
       "Alveolar_Epithelium NA          NA           NA          NA           \n",
       "capillary_EC        NA          NA           NA          NA           \n",
       "vascular_EC         NA          NA           NA          NA           \n",
       "lymphatic_EC        NA          NA           NA          NA           \n",
       "Fibroblasts         NA          NA           NA          NA           \n",
       "SMC_Pericytes       NA          NA           NA          NA           \n",
       "Macrophages         NA          NA           NA          NA           \n",
       "DC                  NA          NA           NA          NA           \n",
       "Mast_cells          NA          NA           NA          NA           \n",
       "B_cells             NA          NA           NA          NA           \n",
       "Plasma_cells        NA          NA           NA          NA           \n",
       "T_cells             NA          NA           NA          NA           \n",
       "NK_cells            NA          NA           NA          NA           \n",
       "                    Macrophages DC Mast_cells B_cells Plasma_cells T_cells\n",
       "Airway_Epithelium   NA          NA NA         NA      NA           NA     \n",
       "Alveolar_Epithelium NA          NA NA         NA      NA           NA     \n",
       "capillary_EC        NA          NA NA         NA      NA           NA     \n",
       "vascular_EC         NA          NA NA         NA      NA           NA     \n",
       "lymphatic_EC        NA          NA NA         NA      NA           NA     \n",
       "Fibroblasts         NA          NA NA         NA      NA           NA     \n",
       "SMC_Pericytes       NA          NA NA         NA      NA           NA     \n",
       "Macrophages         NA          NA NA         NA      NA           NA     \n",
       "DC                  NA          NA NA         NA      NA           NA     \n",
       "Mast_cells          NA          NA NA         NA      NA           NA     \n",
       "B_cells             NA          NA NA         NA      NA           NA     \n",
       "Plasma_cells        NA          NA NA         NA      NA           NA     \n",
       "T_cells             NA          NA NA         NA      NA           NA     \n",
       "NK_cells            NA          NA NA         NA      NA           NA     \n",
       "                    NK_cells\n",
       "Airway_Epithelium   NA      \n",
       "Alveolar_Epithelium NA      \n",
       "capillary_EC        NA      \n",
       "vascular_EC         NA      \n",
       "lymphatic_EC        NA      \n",
       "Fibroblasts         NA      \n",
       "SMC_Pericytes       NA      \n",
       "Macrophages         NA      \n",
       "DC                  NA      \n",
       "Mast_cells          NA      \n",
       "B_cells             NA      \n",
       "Plasma_cells        NA      \n",
       "T_cells             NA      \n",
       "NK_cells            NA      "
      ]
     },
     "metadata": {},
     "output_type": "display_data"
    }
   ],
   "source": [
    "## create final results matrix\n",
    "results_df <- data.frame(matrix(ncol = length(cell_type_labels), nrow = length(cell_type_labels)))\n",
    "colnames(results_df) <- cell_type_labels # RECEIVER (!!!)\n",
    "rownames(results_df) <- cell_type_labels # SENDER (!!!)\n",
    "results_df"
   ]
  },
  {
   "cell_type": "code",
   "execution_count": 6,
   "id": "ff58889c",
   "metadata": {},
   "outputs": [],
   "source": [
    "collected_conserved_ligands <- list()"
   ]
  },
  {
   "cell_type": "code",
   "execution_count": 7,
   "id": "2445e5b5",
   "metadata": {},
   "outputs": [],
   "source": [
    "## loop over receiver cell types\n",
    "for(receiver in cell_type_labels){\n",
    "    \n",
    "    ## read NicheNet results ##\n",
    "    invivo_table <- read.csv(paste0(invivo_dir, 'nichenet_ligand_act_', receiver, '.csv'))\n",
    "    exvivo_table <- read.csv(paste0(exvivo_dir, 'nichenet_ligand_act_', receiver, '.csv'))\n",
    "    \n",
    "    ## loop over sender cell types\n",
    "    for(sender in cell_type_labels){\n",
    "        \n",
    "        ## filter ligands upregulated by sender IN VIVO and EX VIVO\n",
    "        sender_col <- paste0(sender, '_UP')\n",
    "        invivo_ligands <- invivo_table[invivo_table[, sender_col] == 1, ]$test_ligand\n",
    "        exvivo_ligands <- exvivo_table[exvivo_table[, sender_col] == 1, ]$test_ligand\n",
    "        \n",
    "        ## identify conserved ligands\n",
    "        conserved_ligands <- intersect(invivo_ligands, exvivo_ligands)\n",
    "        \n",
    "        ## add to collection of conserved ligands\n",
    "        collected_conserved_ligands <- append(collected_conserved_ligands, as.list(conserved_ligands))\n",
    "        ## save results\n",
    "        results_df[sender, receiver] <- length(conserved_ligands)\n",
    "    }\n",
    "    \n",
    "}"
   ]
  },
  {
   "cell_type": "code",
   "execution_count": 8,
   "id": "fb5a5c4c",
   "metadata": {},
   "outputs": [
    {
     "data": {
      "text/html": [
       "<table class=\"dataframe\">\n",
       "<caption>A data.frame: 14 × 14</caption>\n",
       "<thead>\n",
       "\t<tr><th></th><th scope=col>Airway_Epithelium</th><th scope=col>Alveolar_Epithelium</th><th scope=col>capillary_EC</th><th scope=col>vascular_EC</th><th scope=col>lymphatic_EC</th><th scope=col>Fibroblasts</th><th scope=col>SMC_Pericytes</th><th scope=col>Macrophages</th><th scope=col>DC</th><th scope=col>Mast_cells</th><th scope=col>B_cells</th><th scope=col>Plasma_cells</th><th scope=col>T_cells</th><th scope=col>NK_cells</th></tr>\n",
       "\t<tr><th></th><th scope=col>&lt;int&gt;</th><th scope=col>&lt;int&gt;</th><th scope=col>&lt;int&gt;</th><th scope=col>&lt;int&gt;</th><th scope=col>&lt;int&gt;</th><th scope=col>&lt;int&gt;</th><th scope=col>&lt;int&gt;</th><th scope=col>&lt;int&gt;</th><th scope=col>&lt;int&gt;</th><th scope=col>&lt;int&gt;</th><th scope=col>&lt;int&gt;</th><th scope=col>&lt;int&gt;</th><th scope=col>&lt;int&gt;</th><th scope=col>&lt;int&gt;</th></tr>\n",
       "</thead>\n",
       "<tbody>\n",
       "\t<tr><th scope=row>Airway_Epithelium</th><td>0</td><td> 1</td><td>0</td><td> 3</td><td>0</td><td> 2</td><td> 1</td><td>0</td><td>0</td><td>0</td><td>0</td><td>0</td><td>0</td><td>1</td></tr>\n",
       "\t<tr><th scope=row>Alveolar_Epithelium</th><td>0</td><td>14</td><td>0</td><td>11</td><td>0</td><td>18</td><td>17</td><td>0</td><td>0</td><td>1</td><td>0</td><td>0</td><td>1</td><td>3</td></tr>\n",
       "\t<tr><th scope=row>capillary_EC</th><td>0</td><td> 8</td><td>0</td><td> 5</td><td>0</td><td> 8</td><td> 7</td><td>0</td><td>0</td><td>1</td><td>0</td><td>0</td><td>0</td><td>2</td></tr>\n",
       "\t<tr><th scope=row>vascular_EC</th><td>0</td><td> 4</td><td>0</td><td> 5</td><td>0</td><td> 4</td><td> 5</td><td>0</td><td>0</td><td>1</td><td>0</td><td>0</td><td>0</td><td>0</td></tr>\n",
       "\t<tr><th scope=row>lymphatic_EC</th><td>0</td><td> 2</td><td>0</td><td> 2</td><td>0</td><td> 2</td><td> 2</td><td>0</td><td>0</td><td>1</td><td>0</td><td>0</td><td>0</td><td>0</td></tr>\n",
       "\t<tr><th scope=row>Fibroblasts</th><td>0</td><td>11</td><td>0</td><td>12</td><td>0</td><td>14</td><td>12</td><td>0</td><td>0</td><td>1</td><td>0</td><td>0</td><td>1</td><td>5</td></tr>\n",
       "\t<tr><th scope=row>SMC_Pericytes</th><td>0</td><td>13</td><td>0</td><td>11</td><td>0</td><td>14</td><td>14</td><td>0</td><td>0</td><td>1</td><td>0</td><td>0</td><td>1</td><td>5</td></tr>\n",
       "\t<tr><th scope=row>Macrophages</th><td>0</td><td> 7</td><td>0</td><td> 5</td><td>0</td><td> 6</td><td> 6</td><td>0</td><td>0</td><td>0</td><td>0</td><td>0</td><td>0</td><td>3</td></tr>\n",
       "\t<tr><th scope=row>DC</th><td>0</td><td> 0</td><td>0</td><td> 0</td><td>0</td><td> 0</td><td> 0</td><td>0</td><td>0</td><td>0</td><td>0</td><td>0</td><td>0</td><td>0</td></tr>\n",
       "\t<tr><th scope=row>Mast_cells</th><td>0</td><td> 2</td><td>0</td><td> 2</td><td>0</td><td> 1</td><td> 2</td><td>0</td><td>0</td><td>1</td><td>0</td><td>0</td><td>0</td><td>2</td></tr>\n",
       "\t<tr><th scope=row>B_cells</th><td>0</td><td> 0</td><td>0</td><td> 0</td><td>0</td><td> 0</td><td> 0</td><td>0</td><td>0</td><td>0</td><td>0</td><td>0</td><td>0</td><td>0</td></tr>\n",
       "\t<tr><th scope=row>Plasma_cells</th><td>0</td><td> 0</td><td>0</td><td> 0</td><td>0</td><td> 0</td><td> 1</td><td>0</td><td>0</td><td>0</td><td>0</td><td>0</td><td>0</td><td>0</td></tr>\n",
       "\t<tr><th scope=row>T_cells</th><td>0</td><td> 1</td><td>0</td><td> 0</td><td>0</td><td> 1</td><td> 1</td><td>0</td><td>0</td><td>0</td><td>0</td><td>0</td><td>0</td><td>0</td></tr>\n",
       "\t<tr><th scope=row>NK_cells</th><td>0</td><td> 1</td><td>0</td><td> 1</td><td>0</td><td> 1</td><td> 2</td><td>0</td><td>0</td><td>0</td><td>0</td><td>0</td><td>0</td><td>1</td></tr>\n",
       "</tbody>\n",
       "</table>\n"
      ],
      "text/latex": [
       "A data.frame: 14 × 14\n",
       "\\begin{tabular}{r|llllllllllllll}\n",
       "  & Airway\\_Epithelium & Alveolar\\_Epithelium & capillary\\_EC & vascular\\_EC & lymphatic\\_EC & Fibroblasts & SMC\\_Pericytes & Macrophages & DC & Mast\\_cells & B\\_cells & Plasma\\_cells & T\\_cells & NK\\_cells\\\\\n",
       "  & <int> & <int> & <int> & <int> & <int> & <int> & <int> & <int> & <int> & <int> & <int> & <int> & <int> & <int>\\\\\n",
       "\\hline\n",
       "\tAirway\\_Epithelium & 0 &  1 & 0 &  3 & 0 &  2 &  1 & 0 & 0 & 0 & 0 & 0 & 0 & 1\\\\\n",
       "\tAlveolar\\_Epithelium & 0 & 14 & 0 & 11 & 0 & 18 & 17 & 0 & 0 & 1 & 0 & 0 & 1 & 3\\\\\n",
       "\tcapillary\\_EC & 0 &  8 & 0 &  5 & 0 &  8 &  7 & 0 & 0 & 1 & 0 & 0 & 0 & 2\\\\\n",
       "\tvascular\\_EC & 0 &  4 & 0 &  5 & 0 &  4 &  5 & 0 & 0 & 1 & 0 & 0 & 0 & 0\\\\\n",
       "\tlymphatic\\_EC & 0 &  2 & 0 &  2 & 0 &  2 &  2 & 0 & 0 & 1 & 0 & 0 & 0 & 0\\\\\n",
       "\tFibroblasts & 0 & 11 & 0 & 12 & 0 & 14 & 12 & 0 & 0 & 1 & 0 & 0 & 1 & 5\\\\\n",
       "\tSMC\\_Pericytes & 0 & 13 & 0 & 11 & 0 & 14 & 14 & 0 & 0 & 1 & 0 & 0 & 1 & 5\\\\\n",
       "\tMacrophages & 0 &  7 & 0 &  5 & 0 &  6 &  6 & 0 & 0 & 0 & 0 & 0 & 0 & 3\\\\\n",
       "\tDC & 0 &  0 & 0 &  0 & 0 &  0 &  0 & 0 & 0 & 0 & 0 & 0 & 0 & 0\\\\\n",
       "\tMast\\_cells & 0 &  2 & 0 &  2 & 0 &  1 &  2 & 0 & 0 & 1 & 0 & 0 & 0 & 2\\\\\n",
       "\tB\\_cells & 0 &  0 & 0 &  0 & 0 &  0 &  0 & 0 & 0 & 0 & 0 & 0 & 0 & 0\\\\\n",
       "\tPlasma\\_cells & 0 &  0 & 0 &  0 & 0 &  0 &  1 & 0 & 0 & 0 & 0 & 0 & 0 & 0\\\\\n",
       "\tT\\_cells & 0 &  1 & 0 &  0 & 0 &  1 &  1 & 0 & 0 & 0 & 0 & 0 & 0 & 0\\\\\n",
       "\tNK\\_cells & 0 &  1 & 0 &  1 & 0 &  1 &  2 & 0 & 0 & 0 & 0 & 0 & 0 & 1\\\\\n",
       "\\end{tabular}\n"
      ],
      "text/markdown": [
       "\n",
       "A data.frame: 14 × 14\n",
       "\n",
       "| <!--/--> | Airway_Epithelium &lt;int&gt; | Alveolar_Epithelium &lt;int&gt; | capillary_EC &lt;int&gt; | vascular_EC &lt;int&gt; | lymphatic_EC &lt;int&gt; | Fibroblasts &lt;int&gt; | SMC_Pericytes &lt;int&gt; | Macrophages &lt;int&gt; | DC &lt;int&gt; | Mast_cells &lt;int&gt; | B_cells &lt;int&gt; | Plasma_cells &lt;int&gt; | T_cells &lt;int&gt; | NK_cells &lt;int&gt; |\n",
       "|---|---|---|---|---|---|---|---|---|---|---|---|---|---|---|\n",
       "| Airway_Epithelium | 0 |  1 | 0 |  3 | 0 |  2 |  1 | 0 | 0 | 0 | 0 | 0 | 0 | 1 |\n",
       "| Alveolar_Epithelium | 0 | 14 | 0 | 11 | 0 | 18 | 17 | 0 | 0 | 1 | 0 | 0 | 1 | 3 |\n",
       "| capillary_EC | 0 |  8 | 0 |  5 | 0 |  8 |  7 | 0 | 0 | 1 | 0 | 0 | 0 | 2 |\n",
       "| vascular_EC | 0 |  4 | 0 |  5 | 0 |  4 |  5 | 0 | 0 | 1 | 0 | 0 | 0 | 0 |\n",
       "| lymphatic_EC | 0 |  2 | 0 |  2 | 0 |  2 |  2 | 0 | 0 | 1 | 0 | 0 | 0 | 0 |\n",
       "| Fibroblasts | 0 | 11 | 0 | 12 | 0 | 14 | 12 | 0 | 0 | 1 | 0 | 0 | 1 | 5 |\n",
       "| SMC_Pericytes | 0 | 13 | 0 | 11 | 0 | 14 | 14 | 0 | 0 | 1 | 0 | 0 | 1 | 5 |\n",
       "| Macrophages | 0 |  7 | 0 |  5 | 0 |  6 |  6 | 0 | 0 | 0 | 0 | 0 | 0 | 3 |\n",
       "| DC | 0 |  0 | 0 |  0 | 0 |  0 |  0 | 0 | 0 | 0 | 0 | 0 | 0 | 0 |\n",
       "| Mast_cells | 0 |  2 | 0 |  2 | 0 |  1 |  2 | 0 | 0 | 1 | 0 | 0 | 0 | 2 |\n",
       "| B_cells | 0 |  0 | 0 |  0 | 0 |  0 |  0 | 0 | 0 | 0 | 0 | 0 | 0 | 0 |\n",
       "| Plasma_cells | 0 |  0 | 0 |  0 | 0 |  0 |  1 | 0 | 0 | 0 | 0 | 0 | 0 | 0 |\n",
       "| T_cells | 0 |  1 | 0 |  0 | 0 |  1 |  1 | 0 | 0 | 0 | 0 | 0 | 0 | 0 |\n",
       "| NK_cells | 0 |  1 | 0 |  1 | 0 |  1 |  2 | 0 | 0 | 0 | 0 | 0 | 0 | 1 |\n",
       "\n"
      ],
      "text/plain": [
       "                    Airway_Epithelium Alveolar_Epithelium capillary_EC\n",
       "Airway_Epithelium   0                  1                  0           \n",
       "Alveolar_Epithelium 0                 14                  0           \n",
       "capillary_EC        0                  8                  0           \n",
       "vascular_EC         0                  4                  0           \n",
       "lymphatic_EC        0                  2                  0           \n",
       "Fibroblasts         0                 11                  0           \n",
       "SMC_Pericytes       0                 13                  0           \n",
       "Macrophages         0                  7                  0           \n",
       "DC                  0                  0                  0           \n",
       "Mast_cells          0                  2                  0           \n",
       "B_cells             0                  0                  0           \n",
       "Plasma_cells        0                  0                  0           \n",
       "T_cells             0                  1                  0           \n",
       "NK_cells            0                  1                  0           \n",
       "                    vascular_EC lymphatic_EC Fibroblasts SMC_Pericytes\n",
       "Airway_Epithelium    3          0             2           1           \n",
       "Alveolar_Epithelium 11          0            18          17           \n",
       "capillary_EC         5          0             8           7           \n",
       "vascular_EC          5          0             4           5           \n",
       "lymphatic_EC         2          0             2           2           \n",
       "Fibroblasts         12          0            14          12           \n",
       "SMC_Pericytes       11          0            14          14           \n",
       "Macrophages          5          0             6           6           \n",
       "DC                   0          0             0           0           \n",
       "Mast_cells           2          0             1           2           \n",
       "B_cells              0          0             0           0           \n",
       "Plasma_cells         0          0             0           1           \n",
       "T_cells              0          0             1           1           \n",
       "NK_cells             1          0             1           2           \n",
       "                    Macrophages DC Mast_cells B_cells Plasma_cells T_cells\n",
       "Airway_Epithelium   0           0  0          0       0            0      \n",
       "Alveolar_Epithelium 0           0  1          0       0            1      \n",
       "capillary_EC        0           0  1          0       0            0      \n",
       "vascular_EC         0           0  1          0       0            0      \n",
       "lymphatic_EC        0           0  1          0       0            0      \n",
       "Fibroblasts         0           0  1          0       0            1      \n",
       "SMC_Pericytes       0           0  1          0       0            1      \n",
       "Macrophages         0           0  0          0       0            0      \n",
       "DC                  0           0  0          0       0            0      \n",
       "Mast_cells          0           0  1          0       0            0      \n",
       "B_cells             0           0  0          0       0            0      \n",
       "Plasma_cells        0           0  0          0       0            0      \n",
       "T_cells             0           0  0          0       0            0      \n",
       "NK_cells            0           0  0          0       0            0      \n",
       "                    NK_cells\n",
       "Airway_Epithelium   1       \n",
       "Alveolar_Epithelium 3       \n",
       "capillary_EC        2       \n",
       "vascular_EC         0       \n",
       "lymphatic_EC        0       \n",
       "Fibroblasts         5       \n",
       "SMC_Pericytes       5       \n",
       "Macrophages         3       \n",
       "DC                  0       \n",
       "Mast_cells          2       \n",
       "B_cells             0       \n",
       "Plasma_cells        0       \n",
       "T_cells             0       \n",
       "NK_cells            1       "
      ]
     },
     "metadata": {},
     "output_type": "display_data"
    }
   ],
   "source": [
    "results_df"
   ]
  },
  {
   "cell_type": "code",
   "execution_count": 9,
   "id": "4601e9b0",
   "metadata": {},
   "outputs": [],
   "source": [
    "## save results\n",
    "write.csv(results_df, paste0(results_dir, 'conserved_ligands.csv'))"
   ]
  },
  {
   "cell_type": "code",
   "execution_count": 10,
   "id": "2a10389f",
   "metadata": {},
   "outputs": [
    {
     "data": {
      "text/plain": [
       "\n",
       "  ADAM12   ADAM17     AGRN      APP     BMP2       C3     CCL5      CD2 \n",
       "       4       10        4        3        4        8        4        2 \n",
       "    CD58     CDH3   CLSTN1    CMTM6  COL18A1   COL1A1   COL4A1     CSF1 \n",
       "       1        3        3        1        4       10        8        2 \n",
       "  CX3CL1    CXCL2     FBN1      FN1     GAS6      GRN     HAS2     HDGF \n",
       "       5        4        4        4        2        4        4        1 \n",
       "   HLA-A  HLA-DMA  HSP90B1    HSPG2    ICAM1     IGF1     IL18    IL1RN \n",
       "       3        1       16        8       12        1        1        3 \n",
       "     IL6    INHBA    ITGAM    ITGB1    ITGB2    LAMB1    LAMB2    LAMC2 \n",
       "       3        4        8       10        5       15        5        4 \n",
       "   LAMC3      LTB      MDK    NAMPT  NECTIN2    PDGFA    PDGFB     PLAU \n",
       "       5        3        8        8        5        3        8        6 \n",
       "   PTGS2      PTN    PTPRF    ROBO1   SEMA3C   SEMA4D   SEMA6D SERPINA1 \n",
       "       3        4        5        4        2        4        1        3 \n",
       "SERPINE1    TIMP1      TNC      TNF  TNFSF10 TNFSF13B \n",
       "       6        2        4        5        3        4 "
      ]
     },
     "metadata": {},
     "output_type": "display_data"
    }
   ],
   "source": [
    "## compute frequencies from collection of conserved ligands\n",
    "table(unlist(collected_conserved_ligands))"
   ]
  },
  {
   "cell_type": "code",
   "execution_count": 11,
   "id": "357c499c",
   "metadata": {
    "scrolled": false
   },
   "outputs": [],
   "source": [
    "conserved_ligands_counts <- data.frame(table(unlist(collected_conserved_ligands)))"
   ]
  },
  {
   "cell_type": "code",
   "execution_count": 12,
   "id": "ef6378c4",
   "metadata": {},
   "outputs": [],
   "source": [
    "## save results\n",
    "write.csv(conserved_ligands_counts, paste0(results_dir, 'conserved_ligands_counts.csv'))"
   ]
  }
 ],
 "metadata": {
  "kernelspec": {
   "display_name": "R",
   "language": "R",
   "name": "ir"
  },
  "language_info": {
   "codemirror_mode": "r",
   "file_extension": ".r",
   "mimetype": "text/x-r-source",
   "name": "R",
   "pygments_lexer": "r",
   "version": "4.0.5"
  }
 },
 "nbformat": 4,
 "nbformat_minor": 5
}
