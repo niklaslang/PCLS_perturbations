{
 "cells": [
  {
   "cell_type": "code",
   "execution_count": 1,
   "id": "9917195d",
   "metadata": {},
   "outputs": [],
   "source": [
    "import numpy as np\n",
    "import pandas as pd\n",
    "import seaborn as sb\n",
    "import matplotlib.pyplot as plt\n",
    "from matplotlib.colors import TwoSlopeNorm\n",
    "from matplotlib import rcParams\n",
    "\n",
    "# making sure plots & clusters are reproducible\n",
    "np.random.seed(42)"
   ]
  },
  {
   "cell_type": "code",
   "execution_count": 2,
   "id": "177648e2",
   "metadata": {},
   "outputs": [],
   "source": [
    "# directory paths\n",
    "master_table = '/home/niklas/projects/niche_environments_FIBROSIS/HUMAN_invivo_exvivo_comparison/01_data/ASK_joint/NicheNet/conserved_ligands.csv'\n",
    "fig_dir = '/home/niklas/projects/niche_environments_FIBROSIS/HUMAN_invivo_exvivo_comparison/02_figures/ASK_joint/'"
   ]
  },
  {
   "cell_type": "code",
   "execution_count": 3,
   "id": "80d03cd1",
   "metadata": {},
   "outputs": [],
   "source": [
    "## plotting variables\n",
    "plt.rcParams['figure.figsize'] = (8, 8)\n",
    "plt.rcParams['pdf.fonttype'] = 42"
   ]
  },
  {
   "cell_type": "code",
   "execution_count": 4,
   "id": "0087248d",
   "metadata": {},
   "outputs": [
    {
     "data": {
      "text/html": [
       "<div>\n",
       "<style scoped>\n",
       "    .dataframe tbody tr th:only-of-type {\n",
       "        vertical-align: middle;\n",
       "    }\n",
       "\n",
       "    .dataframe tbody tr th {\n",
       "        vertical-align: top;\n",
       "    }\n",
       "\n",
       "    .dataframe thead th {\n",
       "        text-align: right;\n",
       "    }\n",
       "</style>\n",
       "<table border=\"1\" class=\"dataframe\">\n",
       "  <thead>\n",
       "    <tr style=\"text-align: right;\">\n",
       "      <th></th>\n",
       "      <th>Airway_Epithelium</th>\n",
       "      <th>Alveolar_Epithelium</th>\n",
       "      <th>capillary_EC</th>\n",
       "      <th>vascular_EC</th>\n",
       "      <th>lymphatic_EC</th>\n",
       "      <th>Fibroblasts</th>\n",
       "      <th>SMC_Pericytes</th>\n",
       "      <th>Macrophages</th>\n",
       "      <th>DC</th>\n",
       "      <th>Mast_cells</th>\n",
       "      <th>B_cells</th>\n",
       "      <th>Plasma_cells</th>\n",
       "      <th>T_cells</th>\n",
       "      <th>NK_cells</th>\n",
       "    </tr>\n",
       "  </thead>\n",
       "  <tbody>\n",
       "    <tr>\n",
       "      <th>Airway_Epithelium</th>\n",
       "      <td>0</td>\n",
       "      <td>1</td>\n",
       "      <td>0</td>\n",
       "      <td>3</td>\n",
       "      <td>0</td>\n",
       "      <td>2</td>\n",
       "      <td>1</td>\n",
       "      <td>0</td>\n",
       "      <td>0</td>\n",
       "      <td>0</td>\n",
       "      <td>0</td>\n",
       "      <td>0</td>\n",
       "      <td>0</td>\n",
       "      <td>1</td>\n",
       "    </tr>\n",
       "    <tr>\n",
       "      <th>Alveolar_Epithelium</th>\n",
       "      <td>0</td>\n",
       "      <td>14</td>\n",
       "      <td>0</td>\n",
       "      <td>11</td>\n",
       "      <td>0</td>\n",
       "      <td>18</td>\n",
       "      <td>17</td>\n",
       "      <td>0</td>\n",
       "      <td>0</td>\n",
       "      <td>1</td>\n",
       "      <td>0</td>\n",
       "      <td>0</td>\n",
       "      <td>1</td>\n",
       "      <td>3</td>\n",
       "    </tr>\n",
       "    <tr>\n",
       "      <th>capillary_EC</th>\n",
       "      <td>0</td>\n",
       "      <td>8</td>\n",
       "      <td>0</td>\n",
       "      <td>5</td>\n",
       "      <td>0</td>\n",
       "      <td>8</td>\n",
       "      <td>7</td>\n",
       "      <td>0</td>\n",
       "      <td>0</td>\n",
       "      <td>1</td>\n",
       "      <td>0</td>\n",
       "      <td>0</td>\n",
       "      <td>0</td>\n",
       "      <td>2</td>\n",
       "    </tr>\n",
       "    <tr>\n",
       "      <th>vascular_EC</th>\n",
       "      <td>0</td>\n",
       "      <td>4</td>\n",
       "      <td>0</td>\n",
       "      <td>5</td>\n",
       "      <td>0</td>\n",
       "      <td>4</td>\n",
       "      <td>5</td>\n",
       "      <td>0</td>\n",
       "      <td>0</td>\n",
       "      <td>1</td>\n",
       "      <td>0</td>\n",
       "      <td>0</td>\n",
       "      <td>0</td>\n",
       "      <td>0</td>\n",
       "    </tr>\n",
       "    <tr>\n",
       "      <th>lymphatic_EC</th>\n",
       "      <td>0</td>\n",
       "      <td>2</td>\n",
       "      <td>0</td>\n",
       "      <td>2</td>\n",
       "      <td>0</td>\n",
       "      <td>2</td>\n",
       "      <td>2</td>\n",
       "      <td>0</td>\n",
       "      <td>0</td>\n",
       "      <td>1</td>\n",
       "      <td>0</td>\n",
       "      <td>0</td>\n",
       "      <td>0</td>\n",
       "      <td>0</td>\n",
       "    </tr>\n",
       "  </tbody>\n",
       "</table>\n",
       "</div>"
      ],
      "text/plain": [
       "                     Airway_Epithelium  Alveolar_Epithelium  capillary_EC  \\\n",
       "Airway_Epithelium                    0                    1             0   \n",
       "Alveolar_Epithelium                  0                   14             0   \n",
       "capillary_EC                         0                    8             0   \n",
       "vascular_EC                          0                    4             0   \n",
       "lymphatic_EC                         0                    2             0   \n",
       "\n",
       "                     vascular_EC  lymphatic_EC  Fibroblasts  SMC_Pericytes  \\\n",
       "Airway_Epithelium              3             0            2              1   \n",
       "Alveolar_Epithelium           11             0           18             17   \n",
       "capillary_EC                   5             0            8              7   \n",
       "vascular_EC                    5             0            4              5   \n",
       "lymphatic_EC                   2             0            2              2   \n",
       "\n",
       "                     Macrophages  DC  Mast_cells  B_cells  Plasma_cells  \\\n",
       "Airway_Epithelium              0   0           0        0             0   \n",
       "Alveolar_Epithelium            0   0           1        0             0   \n",
       "capillary_EC                   0   0           1        0             0   \n",
       "vascular_EC                    0   0           1        0             0   \n",
       "lymphatic_EC                   0   0           1        0             0   \n",
       "\n",
       "                     T_cells  NK_cells  \n",
       "Airway_Epithelium          0         1  \n",
       "Alveolar_Epithelium        1         3  \n",
       "capillary_EC               0         2  \n",
       "vascular_EC                0         0  \n",
       "lymphatic_EC               0         0  "
      ]
     },
     "execution_count": 4,
     "metadata": {},
     "output_type": "execute_result"
    }
   ],
   "source": [
    "## read master table\n",
    "master = pd.read_csv(master_table, index_col=0)\n",
    "master.head(5)"
   ]
  },
  {
   "cell_type": "code",
   "execution_count": 5,
   "id": "a5a4049c",
   "metadata": {},
   "outputs": [],
   "source": [
    "cbar_kws = {'shrink': 0.8,\n",
    "               'extendfrac':.2} "
   ]
  },
  {
   "cell_type": "code",
   "execution_count": 6,
   "id": "6dd687f5",
   "metadata": {},
   "outputs": [
    {
     "name": "stderr",
     "output_type": "stream",
     "text": [
      "/home/niklas/miniconda3/envs/niche_fibrosis_env/lib/python3.8/site-packages/seaborn/matrix.py:1214: UserWarning: ``square=True`` ignored in clustermap\n",
      "  warnings.warn(msg)\n"
     ]
    },
    {
     "data": {
      "image/png": "[encoded data removed]",
      "text/plain": [
       "<Figure size 720x720 with 4 Axes>"
      ]
     },
     "metadata": {
      "needs_background": "light"
     },
     "output_type": "display_data"
    }
   ],
   "source": [
    "sb.clustermap(master, annot=True, square=True,\n",
    "              cmap='plasma', cbar_kws=cbar_kws,\n",
    "              linewidths=1, linecolor='white')\n",
    "plt.savefig(fig_dir + '220226_conserved_cell_cell_communication_ligands.pdf', dpi=300, bbox_inches='tight')\n",
    "plt.show()"
   ]
  }
 ],
 "metadata": {
  "kernelspec": {
   "display_name": "Python 3 (ipykernel)",
   "language": "python",
   "name": "python3"
  },
  "language_info": {
   "codemirror_mode": {
    "name": "ipython",
    "version": 3
   },
   "file_extension": ".py",
   "mimetype": "text/x-python",
   "name": "python",
   "nbconvert_exporter": "python",
   "pygments_lexer": "ipython3",
   "version": "3.8.12"
  }
 },
 "nbformat": 4,
 "nbformat_minor": 5
}
