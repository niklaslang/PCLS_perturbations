{
 "cells": [
  {
   "cell_type": "code",
   "execution_count": 1,
   "id": "1985122d",
   "metadata": {},
   "outputs": [],
   "source": [
    "import numpy as np\n",
    "import pandas as pd\n",
    "import seaborn as sb\n",
    "import matplotlib.pyplot as plt\n",
    "from matplotlib import rcParams"
   ]
  },
  {
   "cell_type": "code",
   "execution_count": 2,
   "id": "9a8f1a98",
   "metadata": {},
   "outputs": [],
   "source": [
    "## plotting variables\n",
    "fig_dir = '/home/niklas/projects/niche_environments_FIBROSIS/HUMAN_invivo_exvivo_comparison/02_figures/'\n",
    "plt.rcParams['figure.figsize'] = (6, 5)\n",
    "plt.rcParams['pdf.fonttype'] = 42"
   ]
  },
  {
   "cell_type": "markdown",
   "id": "834805ad",
   "metadata": {},
   "source": [
    "### Read invivo/exvivo results"
   ]
  },
  {
   "cell_type": "code",
   "execution_count": 3,
   "id": "fe7185b8",
   "metadata": {},
   "outputs": [],
   "source": [
    "table_dir = '/home/niklas/projects/niche_environments_FIBROSIS/HUMAN_invivo_exvivo_comparison/01_data/ASK_joint/SCENIC_results/'"
   ]
  },
  {
   "cell_type": "code",
   "execution_count": 4,
   "id": "655610bb",
   "metadata": {},
   "outputs": [
    {
     "data": {
      "text/html": [
       "<div>\n",
       "<style scoped>\n",
       "    .dataframe tbody tr th:only-of-type {\n",
       "        vertical-align: middle;\n",
       "    }\n",
       "\n",
       "    .dataframe tbody tr th {\n",
       "        vertical-align: top;\n",
       "    }\n",
       "\n",
       "    .dataframe thead th {\n",
       "        text-align: right;\n",
       "    }\n",
       "</style>\n",
       "<table border=\"1\" class=\"dataframe\">\n",
       "  <thead>\n",
       "    <tr style=\"text-align: right;\">\n",
       "      <th></th>\n",
       "      <th>regulon</th>\n",
       "      <th>healthy</th>\n",
       "      <th>ILD</th>\n",
       "    </tr>\n",
       "  </thead>\n",
       "  <tbody>\n",
       "    <tr>\n",
       "      <th>1</th>\n",
       "      <td>ADARB1_REG</td>\n",
       "      <td>0.217426</td>\n",
       "      <td>0.626712</td>\n",
       "    </tr>\n",
       "    <tr>\n",
       "      <th>2</th>\n",
       "      <td>ARID3A_REG</td>\n",
       "      <td>0.207040</td>\n",
       "      <td>0.441435</td>\n",
       "    </tr>\n",
       "    <tr>\n",
       "      <th>3</th>\n",
       "      <td>ARID5B_REG</td>\n",
       "      <td>0.123455</td>\n",
       "      <td>0.404050</td>\n",
       "    </tr>\n",
       "    <tr>\n",
       "      <th>4</th>\n",
       "      <td>ARNT_REG</td>\n",
       "      <td>0.236187</td>\n",
       "      <td>0.608514</td>\n",
       "    </tr>\n",
       "    <tr>\n",
       "      <th>5</th>\n",
       "      <td>ARNTL2_REG</td>\n",
       "      <td>0.201650</td>\n",
       "      <td>0.590878</td>\n",
       "    </tr>\n",
       "  </tbody>\n",
       "</table>\n",
       "</div>"
      ],
      "text/plain": [
       "      regulon   healthy       ILD\n",
       "1  ADARB1_REG  0.217426  0.626712\n",
       "2  ARID3A_REG  0.207040  0.441435\n",
       "3  ARID5B_REG  0.123455  0.404050\n",
       "4    ARNT_REG  0.236187  0.608514\n",
       "5  ARNTL2_REG  0.201650  0.590878"
      ]
     },
     "execution_count": 4,
     "metadata": {},
     "output_type": "execute_result"
    }
   ],
   "source": [
    "## read in vivo regulons\n",
    "invivo = pd.read_csv(table_dir + 'Fibroblasts_SCENIC_scores_INVIVO_treatment.csv', index_col=0)\n",
    "invivo.head(5)"
   ]
  },
  {
   "cell_type": "code",
   "execution_count": 5,
   "id": "9544be54",
   "metadata": {},
   "outputs": [
    {
     "data": {
      "text/html": [
       "<div>\n",
       "<style scoped>\n",
       "    .dataframe tbody tr th:only-of-type {\n",
       "        vertical-align: middle;\n",
       "    }\n",
       "\n",
       "    .dataframe tbody tr th {\n",
       "        vertical-align: top;\n",
       "    }\n",
       "\n",
       "    .dataframe thead th {\n",
       "        text-align: right;\n",
       "    }\n",
       "</style>\n",
       "<table border=\"1\" class=\"dataframe\">\n",
       "  <thead>\n",
       "    <tr style=\"text-align: right;\">\n",
       "      <th></th>\n",
       "      <th>regulon</th>\n",
       "      <th>Fibrotic Cocktail</th>\n",
       "      <th>Control Cocktail</th>\n",
       "    </tr>\n",
       "  </thead>\n",
       "  <tbody>\n",
       "    <tr>\n",
       "      <th>1</th>\n",
       "      <td>ADARB1_REG</td>\n",
       "      <td>0.369869</td>\n",
       "      <td>0.457981</td>\n",
       "    </tr>\n",
       "    <tr>\n",
       "      <th>2</th>\n",
       "      <td>AHCTF1_REG</td>\n",
       "      <td>0.339415</td>\n",
       "      <td>0.333424</td>\n",
       "    </tr>\n",
       "    <tr>\n",
       "      <th>3</th>\n",
       "      <td>AR_REG</td>\n",
       "      <td>0.022929</td>\n",
       "      <td>0.064193</td>\n",
       "    </tr>\n",
       "    <tr>\n",
       "      <th>4</th>\n",
       "      <td>ARID3A_REG</td>\n",
       "      <td>0.120192</td>\n",
       "      <td>0.188089</td>\n",
       "    </tr>\n",
       "    <tr>\n",
       "      <th>5</th>\n",
       "      <td>ARNT_REG</td>\n",
       "      <td>0.321046</td>\n",
       "      <td>0.380753</td>\n",
       "    </tr>\n",
       "  </tbody>\n",
       "</table>\n",
       "</div>"
      ],
      "text/plain": [
       "      regulon  Fibrotic Cocktail  Control Cocktail\n",
       "1  ADARB1_REG           0.369869          0.457981\n",
       "2  AHCTF1_REG           0.339415          0.333424\n",
       "3      AR_REG           0.022929          0.064193\n",
       "4  ARID3A_REG           0.120192          0.188089\n",
       "5    ARNT_REG           0.321046          0.380753"
      ]
     },
     "execution_count": 5,
     "metadata": {},
     "output_type": "execute_result"
    }
   ],
   "source": [
    "## read in vivo regulons\n",
    "exvivo = pd.read_csv(table_dir + 'Fibroblasts_SCENIC_scores_EXVIVO_treatment.csv', index_col=0)\n",
    "exvivo.head(5)"
   ]
  },
  {
   "cell_type": "markdown",
   "id": "23eecacb",
   "metadata": {},
   "source": [
    "### Compute regulon log2FC"
   ]
  },
  {
   "cell_type": "code",
   "execution_count": 6,
   "id": "0ac280a1",
   "metadata": {},
   "outputs": [],
   "source": [
    "invivo['invivo_log2FC'] = np.log2(invivo['ILD']/invivo['healthy'])\n",
    "exvivo['exvivo_log2FC'] = np.log2(exvivo['Fibrotic Cocktail']/exvivo['Control Cocktail'])"
   ]
  },
  {
   "cell_type": "code",
   "execution_count": 7,
   "id": "8844976a",
   "metadata": {},
   "outputs": [],
   "source": [
    "tab = invivo.merge(exvivo, left_on = 'regulon', right_on = 'regulon')"
   ]
  },
  {
   "cell_type": "code",
   "execution_count": 8,
   "id": "1e771d4e",
   "metadata": {},
   "outputs": [
    {
     "data": {
      "text/html": [
       "<div>\n",
       "<style scoped>\n",
       "    .dataframe tbody tr th:only-of-type {\n",
       "        vertical-align: middle;\n",
       "    }\n",
       "\n",
       "    .dataframe tbody tr th {\n",
       "        vertical-align: top;\n",
       "    }\n",
       "\n",
       "    .dataframe thead th {\n",
       "        text-align: right;\n",
       "    }\n",
       "</style>\n",
       "<table border=\"1\" class=\"dataframe\">\n",
       "  <thead>\n",
       "    <tr style=\"text-align: right;\">\n",
       "      <th></th>\n",
       "      <th>regulon</th>\n",
       "      <th>healthy</th>\n",
       "      <th>ILD</th>\n",
       "      <th>invivo_log2FC</th>\n",
       "      <th>Fibrotic Cocktail</th>\n",
       "      <th>Control Cocktail</th>\n",
       "      <th>exvivo_log2FC</th>\n",
       "    </tr>\n",
       "  </thead>\n",
       "  <tbody>\n",
       "    <tr>\n",
       "      <th>0</th>\n",
       "      <td>ADARB1_REG</td>\n",
       "      <td>0.217426</td>\n",
       "      <td>0.626712</td>\n",
       "      <td>1.527278</td>\n",
       "      <td>0.369869</td>\n",
       "      <td>0.457981</td>\n",
       "      <td>-0.308274</td>\n",
       "    </tr>\n",
       "    <tr>\n",
       "      <th>1</th>\n",
       "      <td>ARID3A_REG</td>\n",
       "      <td>0.207040</td>\n",
       "      <td>0.441435</td>\n",
       "      <td>1.092292</td>\n",
       "      <td>0.120192</td>\n",
       "      <td>0.188089</td>\n",
       "      <td>-0.646079</td>\n",
       "    </tr>\n",
       "    <tr>\n",
       "      <th>2</th>\n",
       "      <td>ARNT_REG</td>\n",
       "      <td>0.236187</td>\n",
       "      <td>0.608514</td>\n",
       "      <td>1.365359</td>\n",
       "      <td>0.321046</td>\n",
       "      <td>0.380753</td>\n",
       "      <td>-0.246077</td>\n",
       "    </tr>\n",
       "    <tr>\n",
       "      <th>3</th>\n",
       "      <td>ATF1_REG</td>\n",
       "      <td>0.221468</td>\n",
       "      <td>0.629106</td>\n",
       "      <td>1.506201</td>\n",
       "      <td>0.404414</td>\n",
       "      <td>0.449948</td>\n",
       "      <td>-0.153927</td>\n",
       "    </tr>\n",
       "    <tr>\n",
       "      <th>4</th>\n",
       "      <td>ATF3_REG</td>\n",
       "      <td>0.202843</td>\n",
       "      <td>0.663600</td>\n",
       "      <td>1.709949</td>\n",
       "      <td>0.416462</td>\n",
       "      <td>0.464018</td>\n",
       "      <td>-0.155997</td>\n",
       "    </tr>\n",
       "    <tr>\n",
       "      <th>...</th>\n",
       "      <td>...</td>\n",
       "      <td>...</td>\n",
       "      <td>...</td>\n",
       "      <td>...</td>\n",
       "      <td>...</td>\n",
       "      <td>...</td>\n",
       "      <td>...</td>\n",
       "    </tr>\n",
       "    <tr>\n",
       "      <th>224</th>\n",
       "      <td>ZNF362_REG</td>\n",
       "      <td>0.213228</td>\n",
       "      <td>0.614023</td>\n",
       "      <td>1.525893</td>\n",
       "      <td>0.327708</td>\n",
       "      <td>0.386725</td>\n",
       "      <td>-0.238898</td>\n",
       "    </tr>\n",
       "    <tr>\n",
       "      <th>225</th>\n",
       "      <td>ZNF429_REG</td>\n",
       "      <td>0.205006</td>\n",
       "      <td>0.362220</td>\n",
       "      <td>0.821201</td>\n",
       "      <td>0.376972</td>\n",
       "      <td>0.443161</td>\n",
       "      <td>-0.233372</td>\n",
       "    </tr>\n",
       "    <tr>\n",
       "      <th>226</th>\n",
       "      <td>ZNF467_REG</td>\n",
       "      <td>0.199402</td>\n",
       "      <td>0.630407</td>\n",
       "      <td>1.660601</td>\n",
       "      <td>0.067398</td>\n",
       "      <td>0.060270</td>\n",
       "      <td>0.161271</td>\n",
       "    </tr>\n",
       "    <tr>\n",
       "      <th>227</th>\n",
       "      <td>ZNF607_REG</td>\n",
       "      <td>0.201245</td>\n",
       "      <td>0.558013</td>\n",
       "      <td>1.471345</td>\n",
       "      <td>0.259127</td>\n",
       "      <td>0.445088</td>\n",
       "      <td>-0.780430</td>\n",
       "    </tr>\n",
       "    <tr>\n",
       "      <th>228</th>\n",
       "      <td>ZNF740_REG</td>\n",
       "      <td>0.213671</td>\n",
       "      <td>0.428818</td>\n",
       "      <td>1.004976</td>\n",
       "      <td>0.353244</td>\n",
       "      <td>0.410199</td>\n",
       "      <td>-0.215659</td>\n",
       "    </tr>\n",
       "  </tbody>\n",
       "</table>\n",
       "<p>229 rows × 7 columns</p>\n",
       "</div>"
      ],
      "text/plain": [
       "        regulon   healthy       ILD  invivo_log2FC  Fibrotic Cocktail  \\\n",
       "0    ADARB1_REG  0.217426  0.626712       1.527278           0.369869   \n",
       "1    ARID3A_REG  0.207040  0.441435       1.092292           0.120192   \n",
       "2      ARNT_REG  0.236187  0.608514       1.365359           0.321046   \n",
       "3      ATF1_REG  0.221468  0.629106       1.506201           0.404414   \n",
       "4      ATF3_REG  0.202843  0.663600       1.709949           0.416462   \n",
       "..          ...       ...       ...            ...                ...   \n",
       "224  ZNF362_REG  0.213228  0.614023       1.525893           0.327708   \n",
       "225  ZNF429_REG  0.205006  0.362220       0.821201           0.376972   \n",
       "226  ZNF467_REG  0.199402  0.630407       1.660601           0.067398   \n",
       "227  ZNF607_REG  0.201245  0.558013       1.471345           0.259127   \n",
       "228  ZNF740_REG  0.213671  0.428818       1.004976           0.353244   \n",
       "\n",
       "     Control Cocktail  exvivo_log2FC  \n",
       "0            0.457981      -0.308274  \n",
       "1            0.188089      -0.646079  \n",
       "2            0.380753      -0.246077  \n",
       "3            0.449948      -0.153927  \n",
       "4            0.464018      -0.155997  \n",
       "..                ...            ...  \n",
       "224          0.386725      -0.238898  \n",
       "225          0.443161      -0.233372  \n",
       "226          0.060270       0.161271  \n",
       "227          0.445088      -0.780430  \n",
       "228          0.410199      -0.215659  \n",
       "\n",
       "[229 rows x 7 columns]"
      ]
     },
     "execution_count": 8,
     "metadata": {},
     "output_type": "execute_result"
    }
   ],
   "source": [
    "tab"
   ]
  },
  {
   "cell_type": "code",
   "execution_count": 9,
   "id": "4dc1e799",
   "metadata": {},
   "outputs": [],
   "source": [
    "conserved = tab[((tab['invivo_log2FC'] > 0) & (tab['exvivo_log2FC'] > 0)) | ((tab['invivo_log2FC'] < 0) & (tab['exvivo_log2FC'] < 0))]"
   ]
  },
  {
   "cell_type": "code",
   "execution_count": 10,
   "id": "4a99764e",
   "metadata": {},
   "outputs": [],
   "source": [
    "conserved = conserved.set_index('regulon')"
   ]
  },
  {
   "cell_type": "code",
   "execution_count": 11,
   "id": "2591f132",
   "metadata": {},
   "outputs": [
    {
     "data": {
      "text/plain": [
       "<seaborn.matrix.ClusterGrid at 0x7eff9b750970>"
      ]
     },
     "execution_count": 11,
     "metadata": {},
     "output_type": "execute_result"
    },
    {
     "data": {
      "image/png": "[encoded data removed]",
      "text/plain": [
       "<Figure size 432x864 with 4 Axes>"
      ]
     },
     "metadata": {
      "needs_background": "light"
     },
     "output_type": "display_data"
    }
   ],
   "source": [
    "sb.clustermap(conserved[['Control Cocktail','Fibrotic Cocktail','healthy','ILD']], cmap = 'viridis', figsize = (6,12))"
   ]
  },
  {
   "cell_type": "code",
   "execution_count": 12,
   "id": "7aa93c7d",
   "metadata": {},
   "outputs": [],
   "source": [
    "top25_invivo = tab.sort_values(by = 'ILD', ascending = False).head(40)['regulon'].to_list()\n",
    "bottom25_invivo = tab.sort_values(by = 'healthy', ascending = True).tail(40)['regulon'].to_list()"
   ]
  },
  {
   "cell_type": "code",
   "execution_count": 13,
   "id": "da7fa93e",
   "metadata": {},
   "outputs": [],
   "source": [
    "top25_exvivo = tab.sort_values(by = 'Fibrotic Cocktail', ascending = False).head(40)['regulon'].to_list()\n",
    "bottom25_exvivo = tab.sort_values(by = 'Control Cocktail', ascending = True).tail(40)['regulon'].to_list()"
   ]
  },
  {
   "cell_type": "code",
   "execution_count": 14,
   "id": "17500b13",
   "metadata": {},
   "outputs": [],
   "source": [
    "top_induced = np.intersect1d(top25_invivo, top25_exvivo)\n",
    "top_healthy = np.intersect1d(bottom25_invivo, bottom25_exvivo)"
   ]
  },
  {
   "cell_type": "code",
   "execution_count": 15,
   "id": "f44538d2",
   "metadata": {},
   "outputs": [
    {
     "data": {
      "text/html": [
       "<div>\n",
       "<style scoped>\n",
       "    .dataframe tbody tr th:only-of-type {\n",
       "        vertical-align: middle;\n",
       "    }\n",
       "\n",
       "    .dataframe tbody tr th {\n",
       "        vertical-align: top;\n",
       "    }\n",
       "\n",
       "    .dataframe thead th {\n",
       "        text-align: right;\n",
       "    }\n",
       "</style>\n",
       "<table border=\"1\" class=\"dataframe\">\n",
       "  <thead>\n",
       "    <tr style=\"text-align: right;\">\n",
       "      <th></th>\n",
       "      <th>regulon</th>\n",
       "      <th>ILD</th>\n",
       "      <th>Fibrotic Cocktail</th>\n",
       "    </tr>\n",
       "  </thead>\n",
       "  <tbody>\n",
       "    <tr>\n",
       "      <th>4</th>\n",
       "      <td>ATF3_REG</td>\n",
       "      <td>0.663600</td>\n",
       "      <td>0.416462</td>\n",
       "    </tr>\n",
       "    <tr>\n",
       "      <th>8</th>\n",
       "      <td>BACH1_REG</td>\n",
       "      <td>0.647232</td>\n",
       "      <td>0.418465</td>\n",
       "    </tr>\n",
       "    <tr>\n",
       "      <th>10</th>\n",
       "      <td>BCL3_REG</td>\n",
       "      <td>0.659711</td>\n",
       "      <td>0.435088</td>\n",
       "    </tr>\n",
       "    <tr>\n",
       "      <th>21</th>\n",
       "      <td>CREB3L1_REG</td>\n",
       "      <td>0.669301</td>\n",
       "      <td>0.471611</td>\n",
       "    </tr>\n",
       "    <tr>\n",
       "      <th>22</th>\n",
       "      <td>CREB3L2_REG</td>\n",
       "      <td>0.659857</td>\n",
       "      <td>0.433548</td>\n",
       "    </tr>\n",
       "    <tr>\n",
       "      <th>27</th>\n",
       "      <td>CUX1_REG</td>\n",
       "      <td>0.653360</td>\n",
       "      <td>0.439397</td>\n",
       "    </tr>\n",
       "    <tr>\n",
       "      <th>36</th>\n",
       "      <td>EGR1_REG</td>\n",
       "      <td>0.659005</td>\n",
       "      <td>0.434467</td>\n",
       "    </tr>\n",
       "    <tr>\n",
       "      <th>38</th>\n",
       "      <td>EGR3_REG</td>\n",
       "      <td>0.666844</td>\n",
       "      <td>0.431658</td>\n",
       "    </tr>\n",
       "    <tr>\n",
       "      <th>43</th>\n",
       "      <td>ELK3_REG</td>\n",
       "      <td>0.653277</td>\n",
       "      <td>0.473015</td>\n",
       "    </tr>\n",
       "    <tr>\n",
       "      <th>134</th>\n",
       "      <td>NFKB2_REG</td>\n",
       "      <td>0.646862</td>\n",
       "      <td>0.458257</td>\n",
       "    </tr>\n",
       "    <tr>\n",
       "      <th>140</th>\n",
       "      <td>NR3C1_REG</td>\n",
       "      <td>0.658576</td>\n",
       "      <td>0.414778</td>\n",
       "    </tr>\n",
       "    <tr>\n",
       "      <th>147</th>\n",
       "      <td>PML_REG</td>\n",
       "      <td>0.658208</td>\n",
       "      <td>0.416295</td>\n",
       "    </tr>\n",
       "    <tr>\n",
       "      <th>158</th>\n",
       "      <td>RELA_REG</td>\n",
       "      <td>0.649326</td>\n",
       "      <td>0.419835</td>\n",
       "    </tr>\n",
       "    <tr>\n",
       "      <th>159</th>\n",
       "      <td>RELB_REG</td>\n",
       "      <td>0.662345</td>\n",
       "      <td>0.467260</td>\n",
       "    </tr>\n",
       "    <tr>\n",
       "      <th>172</th>\n",
       "      <td>SMARCA4_REG</td>\n",
       "      <td>0.657636</td>\n",
       "      <td>0.415044</td>\n",
       "    </tr>\n",
       "    <tr>\n",
       "      <th>215</th>\n",
       "      <td>ZEB1_REG</td>\n",
       "      <td>0.659692</td>\n",
       "      <td>0.426237</td>\n",
       "    </tr>\n",
       "  </tbody>\n",
       "</table>\n",
       "</div>"
      ],
      "text/plain": [
       "         regulon       ILD  Fibrotic Cocktail\n",
       "4       ATF3_REG  0.663600           0.416462\n",
       "8      BACH1_REG  0.647232           0.418465\n",
       "10      BCL3_REG  0.659711           0.435088\n",
       "21   CREB3L1_REG  0.669301           0.471611\n",
       "22   CREB3L2_REG  0.659857           0.433548\n",
       "27      CUX1_REG  0.653360           0.439397\n",
       "36      EGR1_REG  0.659005           0.434467\n",
       "38      EGR3_REG  0.666844           0.431658\n",
       "43      ELK3_REG  0.653277           0.473015\n",
       "134    NFKB2_REG  0.646862           0.458257\n",
       "140    NR3C1_REG  0.658576           0.414778\n",
       "147      PML_REG  0.658208           0.416295\n",
       "158     RELA_REG  0.649326           0.419835\n",
       "159     RELB_REG  0.662345           0.467260\n",
       "172  SMARCA4_REG  0.657636           0.415044\n",
       "215     ZEB1_REG  0.659692           0.426237"
      ]
     },
     "execution_count": 15,
     "metadata": {},
     "output_type": "execute_result"
    }
   ],
   "source": [
    "induced_tab = tab[tab['regulon'].isin(top_induced)][['regulon','ILD','Fibrotic Cocktail']]\n",
    "induced_tab"
   ]
  },
  {
   "cell_type": "code",
   "execution_count": 16,
   "id": "177b5679",
   "metadata": {},
   "outputs": [
    {
     "name": "stderr",
     "output_type": "stream",
     "text": [
      "/home/niklas/miniconda3/envs/niche_fibrosis_env/lib/python3.8/site-packages/pandas/core/frame.py:5039: SettingWithCopyWarning: \n",
      "A value is trying to be set on a copy of a slice from a DataFrame\n",
      "\n",
      "See the caveats in the documentation: https://pandas.pydata.org/pandas-docs/stable/user_guide/indexing.html#returning-a-view-versus-a-copy\n",
      "  return super().rename(\n"
     ]
    }
   ],
   "source": [
    "induced_tab_invivo = induced_tab[['regulon','ILD']]\n",
    "induced_tab_invivo.rename(columns = {'ILD':'RSS'}, inplace = True)\n",
    "induced_tab_invivo['condition'] = 'invivo - IPF'\n",
    "induced_tab_invivo = induced_tab_invivo.sort_values(by = 'RSS', ascending = False)"
   ]
  },
  {
   "cell_type": "code",
   "execution_count": 17,
   "id": "a9d20808",
   "metadata": {},
   "outputs": [],
   "source": [
    "induced_tab_exvivo = induced_tab[['regulon','Fibrotic Cocktail']]\n",
    "induced_tab_exvivo.rename(columns = {'Fibrotic Cocktail':'RSS'}, inplace = True)\n",
    "induced_tab_exvivo['condition'] = 'exvivo - FC'"
   ]
  },
  {
   "cell_type": "code",
   "execution_count": 18,
   "id": "ab98701f",
   "metadata": {},
   "outputs": [],
   "source": [
    "conserved_induced = pd.concat([induced_tab_invivo, induced_tab_exvivo], axis=0)"
   ]
  },
  {
   "cell_type": "code",
   "execution_count": 19,
   "id": "37d33b3c",
   "metadata": {
    "scrolled": false
   },
   "outputs": [
    {
     "data": {
      "image/png": "[encoded data removed]",
      "text/plain": [
       "<Figure size 400x800 with 1 Axes>"
      ]
     },
     "metadata": {
      "needs_background": "light"
     },
     "output_type": "display_data"
    }
   ],
   "source": [
    "sb.barplot(data = conserved_induced,\n",
    "           x = 'RSS',\n",
    "           y = 'regulon',\n",
    "           hue = 'condition',\n",
    "           palette = ['#7209b7','#f72585'],\n",
    "           ax = plt.figure(figsize=(4, 8), dpi = 100).gca()\n",
    "          ).set(title='Top conserved TF regulons (SCENIC)',\n",
    "                xlabel = 'RSS',\n",
    "                xlim = (0.3,0.7),\n",
    "                ylabel = 'gene'\n",
    "               )\n",
    "plt.savefig(fig_dir + 'barplot_fibroblasts_conserved_TF_regulons_IPF.pdf')\n",
    "plt.show()"
   ]
  },
  {
   "cell_type": "code",
   "execution_count": 20,
   "id": "973b5741",
   "metadata": {},
   "outputs": [
    {
     "data": {
      "text/html": [
       "<div>\n",
       "<style scoped>\n",
       "    .dataframe tbody tr th:only-of-type {\n",
       "        vertical-align: middle;\n",
       "    }\n",
       "\n",
       "    .dataframe tbody tr th {\n",
       "        vertical-align: top;\n",
       "    }\n",
       "\n",
       "    .dataframe thead th {\n",
       "        text-align: right;\n",
       "    }\n",
       "</style>\n",
       "<table border=\"1\" class=\"dataframe\">\n",
       "  <thead>\n",
       "    <tr style=\"text-align: right;\">\n",
       "      <th></th>\n",
       "      <th>regulon</th>\n",
       "      <th>healthy</th>\n",
       "      <th>Control Cocktail</th>\n",
       "    </tr>\n",
       "  </thead>\n",
       "  <tbody>\n",
       "    <tr>\n",
       "      <th>11</th>\n",
       "      <td>BCLAF1_REG</td>\n",
       "      <td>0.234752</td>\n",
       "      <td>0.470128</td>\n",
       "    </tr>\n",
       "    <tr>\n",
       "      <th>16</th>\n",
       "      <td>CEBPD_REG</td>\n",
       "      <td>0.224134</td>\n",
       "      <td>0.471436</td>\n",
       "    </tr>\n",
       "    <tr>\n",
       "      <th>26</th>\n",
       "      <td>CTCF_REG</td>\n",
       "      <td>0.222318</td>\n",
       "      <td>0.479841</td>\n",
       "    </tr>\n",
       "    <tr>\n",
       "      <th>51</th>\n",
       "      <td>ETV2_REG</td>\n",
       "      <td>0.230628</td>\n",
       "      <td>0.486208</td>\n",
       "    </tr>\n",
       "    <tr>\n",
       "      <th>54</th>\n",
       "      <td>ETV5_REG</td>\n",
       "      <td>0.227099</td>\n",
       "      <td>0.469884</td>\n",
       "    </tr>\n",
       "    <tr>\n",
       "      <th>59</th>\n",
       "      <td>FOS_REG</td>\n",
       "      <td>0.231787</td>\n",
       "      <td>0.467780</td>\n",
       "    </tr>\n",
       "    <tr>\n",
       "      <th>73</th>\n",
       "      <td>FOXQ1_REG</td>\n",
       "      <td>0.243071</td>\n",
       "      <td>0.469903</td>\n",
       "    </tr>\n",
       "    <tr>\n",
       "      <th>100</th>\n",
       "      <td>KDM5A_REG</td>\n",
       "      <td>0.233557</td>\n",
       "      <td>0.467354</td>\n",
       "    </tr>\n",
       "    <tr>\n",
       "      <th>112</th>\n",
       "      <td>MAFK_REG</td>\n",
       "      <td>0.225786</td>\n",
       "      <td>0.467840</td>\n",
       "    </tr>\n",
       "    <tr>\n",
       "      <th>123</th>\n",
       "      <td>MXI1_REG</td>\n",
       "      <td>0.241122</td>\n",
       "      <td>0.492591</td>\n",
       "    </tr>\n",
       "    <tr>\n",
       "      <th>141</th>\n",
       "      <td>NRF1_REG</td>\n",
       "      <td>0.234895</td>\n",
       "      <td>0.470578</td>\n",
       "    </tr>\n",
       "    <tr>\n",
       "      <th>148</th>\n",
       "      <td>POLR2A_REG</td>\n",
       "      <td>0.225585</td>\n",
       "      <td>0.467602</td>\n",
       "    </tr>\n",
       "    <tr>\n",
       "      <th>186</th>\n",
       "      <td>TAF1_REG</td>\n",
       "      <td>0.244934</td>\n",
       "      <td>0.474255</td>\n",
       "    </tr>\n",
       "    <tr>\n",
       "      <th>199</th>\n",
       "      <td>THAP1_REG</td>\n",
       "      <td>0.224197</td>\n",
       "      <td>0.486775</td>\n",
       "    </tr>\n",
       "  </tbody>\n",
       "</table>\n",
       "</div>"
      ],
      "text/plain": [
       "        regulon   healthy  Control Cocktail\n",
       "11   BCLAF1_REG  0.234752          0.470128\n",
       "16    CEBPD_REG  0.224134          0.471436\n",
       "26     CTCF_REG  0.222318          0.479841\n",
       "51     ETV2_REG  0.230628          0.486208\n",
       "54     ETV5_REG  0.227099          0.469884\n",
       "59      FOS_REG  0.231787          0.467780\n",
       "73    FOXQ1_REG  0.243071          0.469903\n",
       "100   KDM5A_REG  0.233557          0.467354\n",
       "112    MAFK_REG  0.225786          0.467840\n",
       "123    MXI1_REG  0.241122          0.492591\n",
       "141    NRF1_REG  0.234895          0.470578\n",
       "148  POLR2A_REG  0.225585          0.467602\n",
       "186    TAF1_REG  0.244934          0.474255\n",
       "199   THAP1_REG  0.224197          0.486775"
      ]
     },
     "execution_count": 20,
     "metadata": {},
     "output_type": "execute_result"
    }
   ],
   "source": [
    "bottom_tab = tab[tab['regulon'].isin(top_healthy)][['regulon','healthy','Control Cocktail']]\n",
    "bottom_tab"
   ]
  },
  {
   "cell_type": "code",
   "execution_count": 21,
   "id": "b7fd21e6",
   "metadata": {},
   "outputs": [
    {
     "name": "stderr",
     "output_type": "stream",
     "text": [
      "/home/niklas/miniconda3/envs/niche_fibrosis_env/lib/python3.8/site-packages/pandas/core/frame.py:5039: SettingWithCopyWarning: \n",
      "A value is trying to be set on a copy of a slice from a DataFrame\n",
      "\n",
      "See the caveats in the documentation: https://pandas.pydata.org/pandas-docs/stable/user_guide/indexing.html#returning-a-view-versus-a-copy\n",
      "  return super().rename(\n"
     ]
    }
   ],
   "source": [
    "bottom_tab_invivo = bottom_tab[['regulon','healthy']]\n",
    "bottom_tab_invivo.rename(columns = {'healthy':'RSS'}, inplace = True)\n",
    "bottom_tab_invivo['condition'] = 'invivo - healthy'\n",
    "bottom_tab_invivo = bottom_tab_invivo.sort_values(by = 'RSS', ascending = False)"
   ]
  },
  {
   "cell_type": "code",
   "execution_count": 22,
   "id": "247c19c2",
   "metadata": {},
   "outputs": [],
   "source": [
    "bottom_tab_exvivo = bottom_tab[['regulon','Control Cocktail']]\n",
    "bottom_tab_exvivo.rename(columns = {'Control Cocktail':'RSS'}, inplace = True)\n",
    "bottom_tab_exvivo['condition'] = 'exvivo - CC'"
   ]
  },
  {
   "cell_type": "code",
   "execution_count": 23,
   "id": "06753077",
   "metadata": {},
   "outputs": [],
   "source": [
    "conserved_induced = pd.concat([bottom_tab_invivo, bottom_tab_exvivo], axis=0)"
   ]
  },
  {
   "cell_type": "code",
   "execution_count": 24,
   "id": "50ac799a",
   "metadata": {},
   "outputs": [
    {
     "data": {
      "image/png": "[encoded data removed]",
      "text/plain": [
       "<Figure size 400x800 with 1 Axes>"
      ]
     },
     "metadata": {
      "needs_background": "light"
     },
     "output_type": "display_data"
    }
   ],
   "source": [
    "sb.barplot(data = conserved_induced,\n",
    "           x = 'RSS',\n",
    "           y = 'regulon',\n",
    "           hue = 'condition',\n",
    "           palette = ['#7209b7','#f72585'],\n",
    "           ax = plt.figure(figsize=(4, 8), dpi = 100).gca()\n",
    "          ).set(title='Top conserved TF regulons (SCENIC)',\n",
    "                xlabel = 'RSS',\n",
    "                ylabel = 'gene'\n",
    "               )\n",
    "plt.savefig(fig_dir + 'barplot_fibroblasts_conserved_TF_regulons_healthy.pdf')\n",
    "plt.show()"
   ]
  }
 ],
 "metadata": {
  "kernelspec": {
   "display_name": "Python 3 (ipykernel)",
   "language": "python",
   "name": "python3"
  },
  "language_info": {
   "codemirror_mode": {
    "name": "ipython",
    "version": 3
   },
   "file_extension": ".py",
   "mimetype": "text/x-python",
   "name": "python",
   "nbconvert_exporter": "python",
   "pygments_lexer": "ipython3",
   "version": "3.8.12"
  }
 },
 "nbformat": 4,
 "nbformat_minor": 5
}
