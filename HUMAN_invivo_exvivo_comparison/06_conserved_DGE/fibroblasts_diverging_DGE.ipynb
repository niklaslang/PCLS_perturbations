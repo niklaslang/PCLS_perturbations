{
 "cells": [
  {
   "cell_type": "code",
   "execution_count": 1,
   "id": "1985122d",
   "metadata": {},
   "outputs": [],
   "source": [
    "import numpy as np\n",
    "import pandas as pd\n",
    "import seaborn as sb\n",
    "import matplotlib.pyplot as plt\n",
    "from matplotlib import rcParams"
   ]
  },
  {
   "cell_type": "code",
   "execution_count": 2,
   "id": "9a8f1a98",
   "metadata": {},
   "outputs": [],
   "source": [
    "## plotting variables\n",
    "fig_dir = '/home/niklas/projects/niche_environments_FIBROSIS/HUMAN_exvivo/02_figures/ASK_joint/mesenchyme_subset/DGE_'\n",
    "plt.rcParams['figure.figsize'] = (6, 5)\n",
    "plt.rcParams['pdf.fonttype'] = 42"
   ]
  },
  {
   "cell_type": "markdown",
   "id": "834805ad",
   "metadata": {},
   "source": [
    "### Read master table"
   ]
  },
  {
   "cell_type": "code",
   "execution_count": 3,
   "id": "a4d53f12",
   "metadata": {},
   "outputs": [],
   "source": [
    "## directory paths\n",
    "master_dir = '/home/niklas/projects/niche_environments_FIBROSIS/PCLS_human/01_data/ASK_joint/DGE_correlation_tables/220114_MASTER_dge_correlation_table.csv'"
   ]
  },
  {
   "cell_type": "code",
   "execution_count": 4,
   "id": "d1dfca2d",
   "metadata": {},
   "outputs": [
    {
     "data": {
      "text/html": [
       "<div>\n",
       "<style scoped>\n",
       "    .dataframe tbody tr th:only-of-type {\n",
       "        vertical-align: middle;\n",
       "    }\n",
       "\n",
       "    .dataframe tbody tr th {\n",
       "        vertical-align: top;\n",
       "    }\n",
       "\n",
       "    .dataframe thead th {\n",
       "        text-align: right;\n",
       "    }\n",
       "</style>\n",
       "<table border=\"1\" class=\"dataframe\">\n",
       "  <thead>\n",
       "    <tr style=\"text-align: right;\">\n",
       "      <th></th>\n",
       "      <th>Alveolar_Epithelium_invivo_log2FC</th>\n",
       "      <th>Alveolar_Epithelium_invivo_pval_adj</th>\n",
       "      <th>Alveolar_Epithelium_invivo_pct_healthy</th>\n",
       "      <th>Alveolar_Epithelium_invivo_pct_ILD</th>\n",
       "      <th>Alveolar_Epithelium_exvivo_log2FC</th>\n",
       "      <th>Alveolar_Epithelium_exvivo_pval_adj</th>\n",
       "      <th>Alveolar_Epithelium_exvivo_pct_CC</th>\n",
       "      <th>Alveolar_Epithelium_exvivo_pct_FC</th>\n",
       "      <th>Alveolar_Epithelium_CMP4_log2FC</th>\n",
       "      <th>Alveolar_Epithelium_CMP4_pval_adj</th>\n",
       "      <th>...</th>\n",
       "      <th>NK_cells_exvivo_pct_CC</th>\n",
       "      <th>NK_cells_exvivo_pct_FC</th>\n",
       "      <th>NK_cells_CMP4_log2FC</th>\n",
       "      <th>NK_cells_CMP4_pval_adj</th>\n",
       "      <th>NK_cells_CMP4_pct_CC</th>\n",
       "      <th>NK_cells_CMP4_pct_FC_CMP4</th>\n",
       "      <th>NK_cells_Nintedanib_log2FC</th>\n",
       "      <th>NK_cells_Nintedanib_pval_adj</th>\n",
       "      <th>NK_cells_Nintedanib_pct_CC</th>\n",
       "      <th>NK_cells_Nintedanib_pct_FC_Nintedanib</th>\n",
       "    </tr>\n",
       "    <tr>\n",
       "      <th>gene</th>\n",
       "      <th></th>\n",
       "      <th></th>\n",
       "      <th></th>\n",
       "      <th></th>\n",
       "      <th></th>\n",
       "      <th></th>\n",
       "      <th></th>\n",
       "      <th></th>\n",
       "      <th></th>\n",
       "      <th></th>\n",
       "      <th></th>\n",
       "      <th></th>\n",
       "      <th></th>\n",
       "      <th></th>\n",
       "      <th></th>\n",
       "      <th></th>\n",
       "      <th></th>\n",
       "      <th></th>\n",
       "      <th></th>\n",
       "      <th></th>\n",
       "      <th></th>\n",
       "    </tr>\n",
       "  </thead>\n",
       "  <tbody>\n",
       "    <tr>\n",
       "      <th>GPX1</th>\n",
       "      <td>10.0</td>\n",
       "      <td>0.0</td>\n",
       "      <td>0.208328</td>\n",
       "      <td>0.233239</td>\n",
       "      <td>NaN</td>\n",
       "      <td>NaN</td>\n",
       "      <td>NaN</td>\n",
       "      <td>NaN</td>\n",
       "      <td>NaN</td>\n",
       "      <td>NaN</td>\n",
       "      <td>...</td>\n",
       "      <td>NaN</td>\n",
       "      <td>NaN</td>\n",
       "      <td>NaN</td>\n",
       "      <td>NaN</td>\n",
       "      <td>NaN</td>\n",
       "      <td>NaN</td>\n",
       "      <td>NaN</td>\n",
       "      <td>NaN</td>\n",
       "      <td>NaN</td>\n",
       "      <td>NaN</td>\n",
       "    </tr>\n",
       "    <tr>\n",
       "      <th>NAPRT</th>\n",
       "      <td>10.0</td>\n",
       "      <td>0.0</td>\n",
       "      <td>0.056900</td>\n",
       "      <td>0.035651</td>\n",
       "      <td>-0.775898</td>\n",
       "      <td>0.000006</td>\n",
       "      <td>0.193662</td>\n",
       "      <td>0.151819</td>\n",
       "      <td>-1.067108</td>\n",
       "      <td>6.361869e-10</td>\n",
       "      <td>...</td>\n",
       "      <td>NaN</td>\n",
       "      <td>NaN</td>\n",
       "      <td>NaN</td>\n",
       "      <td>NaN</td>\n",
       "      <td>NaN</td>\n",
       "      <td>NaN</td>\n",
       "      <td>NaN</td>\n",
       "      <td>NaN</td>\n",
       "      <td>NaN</td>\n",
       "      <td>NaN</td>\n",
       "    </tr>\n",
       "    <tr>\n",
       "      <th>CRYBG3</th>\n",
       "      <td>10.0</td>\n",
       "      <td>0.0</td>\n",
       "      <td>0.045819</td>\n",
       "      <td>0.050550</td>\n",
       "      <td>-0.267367</td>\n",
       "      <td>0.066029</td>\n",
       "      <td>0.268486</td>\n",
       "      <td>0.260979</td>\n",
       "      <td>-0.275646</td>\n",
       "      <td>3.066237e-02</td>\n",
       "      <td>...</td>\n",
       "      <td>NaN</td>\n",
       "      <td>NaN</td>\n",
       "      <td>NaN</td>\n",
       "      <td>NaN</td>\n",
       "      <td>NaN</td>\n",
       "      <td>NaN</td>\n",
       "      <td>NaN</td>\n",
       "      <td>NaN</td>\n",
       "      <td>NaN</td>\n",
       "      <td>NaN</td>\n",
       "    </tr>\n",
       "    <tr>\n",
       "      <th>TIFA</th>\n",
       "      <td>10.0</td>\n",
       "      <td>0.0</td>\n",
       "      <td>0.166655</td>\n",
       "      <td>0.089571</td>\n",
       "      <td>NaN</td>\n",
       "      <td>NaN</td>\n",
       "      <td>NaN</td>\n",
       "      <td>NaN</td>\n",
       "      <td>NaN</td>\n",
       "      <td>NaN</td>\n",
       "      <td>...</td>\n",
       "      <td>NaN</td>\n",
       "      <td>NaN</td>\n",
       "      <td>NaN</td>\n",
       "      <td>NaN</td>\n",
       "      <td>NaN</td>\n",
       "      <td>NaN</td>\n",
       "      <td>NaN</td>\n",
       "      <td>NaN</td>\n",
       "      <td>NaN</td>\n",
       "      <td>NaN</td>\n",
       "    </tr>\n",
       "    <tr>\n",
       "      <th>LUC7L2</th>\n",
       "      <td>10.0</td>\n",
       "      <td>0.0</td>\n",
       "      <td>0.137390</td>\n",
       "      <td>0.115999</td>\n",
       "      <td>NaN</td>\n",
       "      <td>NaN</td>\n",
       "      <td>NaN</td>\n",
       "      <td>NaN</td>\n",
       "      <td>-0.645198</td>\n",
       "      <td>3.971449e-06</td>\n",
       "      <td>...</td>\n",
       "      <td>NaN</td>\n",
       "      <td>NaN</td>\n",
       "      <td>NaN</td>\n",
       "      <td>NaN</td>\n",
       "      <td>NaN</td>\n",
       "      <td>NaN</td>\n",
       "      <td>1.510993</td>\n",
       "      <td>0.000156</td>\n",
       "      <td>0.016423</td>\n",
       "      <td>0.077441</td>\n",
       "    </tr>\n",
       "  </tbody>\n",
       "</table>\n",
       "<p>5 rows × 176 columns</p>\n",
       "</div>"
      ],
      "text/plain": [
       "        Alveolar_Epithelium_invivo_log2FC  \\\n",
       "gene                                        \n",
       "GPX1                                 10.0   \n",
       "NAPRT                                10.0   \n",
       "CRYBG3                               10.0   \n",
       "TIFA                                 10.0   \n",
       "LUC7L2                               10.0   \n",
       "\n",
       "        Alveolar_Epithelium_invivo_pval_adj  \\\n",
       "gene                                          \n",
       "GPX1                                    0.0   \n",
       "NAPRT                                   0.0   \n",
       "CRYBG3                                  0.0   \n",
       "TIFA                                    0.0   \n",
       "LUC7L2                                  0.0   \n",
       "\n",
       "        Alveolar_Epithelium_invivo_pct_healthy  \\\n",
       "gene                                             \n",
       "GPX1                                  0.208328   \n",
       "NAPRT                                 0.056900   \n",
       "CRYBG3                                0.045819   \n",
       "TIFA                                  0.166655   \n",
       "LUC7L2                                0.137390   \n",
       "\n",
       "        Alveolar_Epithelium_invivo_pct_ILD  Alveolar_Epithelium_exvivo_log2FC  \\\n",
       "gene                                                                            \n",
       "GPX1                              0.233239                                NaN   \n",
       "NAPRT                             0.035651                          -0.775898   \n",
       "CRYBG3                            0.050550                          -0.267367   \n",
       "TIFA                              0.089571                                NaN   \n",
       "LUC7L2                            0.115999                                NaN   \n",
       "\n",
       "        Alveolar_Epithelium_exvivo_pval_adj  \\\n",
       "gene                                          \n",
       "GPX1                                    NaN   \n",
       "NAPRT                              0.000006   \n",
       "CRYBG3                             0.066029   \n",
       "TIFA                                    NaN   \n",
       "LUC7L2                                  NaN   \n",
       "\n",
       "        Alveolar_Epithelium_exvivo_pct_CC  Alveolar_Epithelium_exvivo_pct_FC  \\\n",
       "gene                                                                           \n",
       "GPX1                                  NaN                                NaN   \n",
       "NAPRT                            0.193662                           0.151819   \n",
       "CRYBG3                           0.268486                           0.260979   \n",
       "TIFA                                  NaN                                NaN   \n",
       "LUC7L2                                NaN                                NaN   \n",
       "\n",
       "        Alveolar_Epithelium_CMP4_log2FC  Alveolar_Epithelium_CMP4_pval_adj  \\\n",
       "gene                                                                         \n",
       "GPX1                                NaN                                NaN   \n",
       "NAPRT                         -1.067108                       6.361869e-10   \n",
       "CRYBG3                        -0.275646                       3.066237e-02   \n",
       "TIFA                                NaN                                NaN   \n",
       "LUC7L2                        -0.645198                       3.971449e-06   \n",
       "\n",
       "        ...  NK_cells_exvivo_pct_CC  NK_cells_exvivo_pct_FC  \\\n",
       "gene    ...                                                   \n",
       "GPX1    ...                     NaN                     NaN   \n",
       "NAPRT   ...                     NaN                     NaN   \n",
       "CRYBG3  ...                     NaN                     NaN   \n",
       "TIFA    ...                     NaN                     NaN   \n",
       "LUC7L2  ...                     NaN                     NaN   \n",
       "\n",
       "        NK_cells_CMP4_log2FC  NK_cells_CMP4_pval_adj  NK_cells_CMP4_pct_CC  \\\n",
       "gene                                                                         \n",
       "GPX1                     NaN                     NaN                   NaN   \n",
       "NAPRT                    NaN                     NaN                   NaN   \n",
       "CRYBG3                   NaN                     NaN                   NaN   \n",
       "TIFA                     NaN                     NaN                   NaN   \n",
       "LUC7L2                   NaN                     NaN                   NaN   \n",
       "\n",
       "        NK_cells_CMP4_pct_FC_CMP4  NK_cells_Nintedanib_log2FC  \\\n",
       "gene                                                            \n",
       "GPX1                          NaN                         NaN   \n",
       "NAPRT                         NaN                         NaN   \n",
       "CRYBG3                        NaN                         NaN   \n",
       "TIFA                          NaN                         NaN   \n",
       "LUC7L2                        NaN                    1.510993   \n",
       "\n",
       "        NK_cells_Nintedanib_pval_adj  NK_cells_Nintedanib_pct_CC  \\\n",
       "gene                                                               \n",
       "GPX1                             NaN                         NaN   \n",
       "NAPRT                            NaN                         NaN   \n",
       "CRYBG3                           NaN                         NaN   \n",
       "TIFA                             NaN                         NaN   \n",
       "LUC7L2                      0.000156                    0.016423   \n",
       "\n",
       "        NK_cells_Nintedanib_pct_FC_Nintedanib  \n",
       "gene                                           \n",
       "GPX1                                      NaN  \n",
       "NAPRT                                     NaN  \n",
       "CRYBG3                                    NaN  \n",
       "TIFA                                      NaN  \n",
       "LUC7L2                               0.077441  \n",
       "\n",
       "[5 rows x 176 columns]"
      ]
     },
     "execution_count": 4,
     "metadata": {},
     "output_type": "execute_result"
    }
   ],
   "source": [
    "## read master table\n",
    "master = pd.read_csv(master_dir, index_col=0)\n",
    "master.head(5)"
   ]
  },
  {
   "cell_type": "code",
   "execution_count": 5,
   "id": "b5cdad19",
   "metadata": {},
   "outputs": [],
   "source": [
    "fib_master = master[['Fibroblasts_invivo_log2FC', 'Fibroblasts_invivo_pval_adj',\n",
    "                         'Fibroblasts_exvivo_log2FC', 'Fibroblasts_exvivo_pval_adj']].dropna()"
   ]
  },
  {
   "cell_type": "markdown",
   "id": "f89d4bc4",
   "metadata": {},
   "source": [
    "### Visualize gene expression changes in Fibroblasts"
   ]
  },
  {
   "cell_type": "code",
   "execution_count": 6,
   "id": "318d6870",
   "metadata": {},
   "outputs": [
    {
     "data": {
      "text/plain": [
       "26"
      ]
     },
     "execution_count": 6,
     "metadata": {},
     "output_type": "execute_result"
    }
   ],
   "source": [
    "genes = ['PCDH15','SELENOP','CXCL1','FGF7','S100A10','IGFBP4','KIAA1324L','IGFBP3','POSTN',\n",
    "         'IGF1','SFRP1','SFRP2','BMP5',\n",
    "         'ICAM1','LMCD1','PCSK5','CLSTN2','FIBIN','CDH13',\n",
    "         'IL6','NKD1','POLD4','EPB41L3','NUAK1','ABCA1','ADGRA2']\n",
    "len(genes)"
   ]
  },
  {
   "cell_type": "code",
   "execution_count": 8,
   "id": "7d2ed53d",
   "metadata": {},
   "outputs": [],
   "source": [
    "fib_master = fib_master[(fib_master['Fibroblasts_invivo_pval_adj'] < 0.05) & (fib_master['Fibroblasts_exvivo_pval_adj'] < 0.05)]\n",
    "fib_master_genes = fib_master.loc[genes,:]"
   ]
  },
  {
   "cell_type": "code",
   "execution_count": 9,
   "id": "00e7eaa7",
   "metadata": {},
   "outputs": [],
   "source": [
    "fib_master_genes = fib_master_genes.sort_values(by = ['Fibroblasts_invivo_log2FC','Fibroblasts_exvivo_log2FC'], ascending = [False,False])"
   ]
  },
  {
   "cell_type": "code",
   "execution_count": 18,
   "id": "b5c6dbf2",
   "metadata": {},
   "outputs": [],
   "source": [
    "fib_master.to_csv('/home/niklas/220710_fibs_diverging.csv', index = True)"
   ]
  },
  {
   "cell_type": "code",
   "execution_count": 11,
   "id": "dd618e47",
   "metadata": {},
   "outputs": [
    {
     "data": {
      "text/plain": [
       "(26, 4)"
      ]
     },
     "execution_count": 11,
     "metadata": {},
     "output_type": "execute_result"
    }
   ],
   "source": [
    "fib_master_genes.shape"
   ]
  },
  {
   "cell_type": "code",
   "execution_count": 13,
   "id": "79d78fb3",
   "metadata": {
    "scrolled": false
   },
   "outputs": [
    {
     "name": "stderr",
     "output_type": "stream",
     "text": [
      "/tmp/ipykernel_142739/3955648320.py:2: SettingWithCopyWarning: \n",
      "A value is trying to be set on a copy of a slice from a DataFrame.\n",
      "Try using .loc[row_indexer,col_indexer] = value instead\n",
      "\n",
      "See the caveats in the documentation: https://pandas.pydata.org/pandas-docs/stable/user_guide/indexing.html#returning-a-view-versus-a-copy\n",
      "  invivo[invivo < -3] = -3\n",
      "/home/niklas/miniconda3/envs/niche_fibrosis_env/lib/python3.8/site-packages/pandas/core/frame.py:3718: SettingWithCopyWarning: \n",
      "A value is trying to be set on a copy of a slice from a DataFrame\n",
      "\n",
      "See the caveats in the documentation: https://pandas.pydata.org/pandas-docs/stable/user_guide/indexing.html#returning-a-view-versus-a-copy\n",
      "  self._where(-key, value, inplace=True)\n",
      "/tmp/ipykernel_142739/3955648320.py:3: SettingWithCopyWarning: \n",
      "A value is trying to be set on a copy of a slice from a DataFrame.\n",
      "Try using .loc[row_indexer,col_indexer] = value instead\n",
      "\n",
      "See the caveats in the documentation: https://pandas.pydata.org/pandas-docs/stable/user_guide/indexing.html#returning-a-view-versus-a-copy\n",
      "  invivo[invivo > 3] = 3\n",
      "/tmp/ipykernel_142739/3955648320.py:4: SettingWithCopyWarning: \n",
      "A value is trying to be set on a copy of a slice from a DataFrame.\n",
      "Try using .loc[row_indexer,col_indexer] = value instead\n",
      "\n",
      "See the caveats in the documentation: https://pandas.pydata.org/pandas-docs/stable/user_guide/indexing.html#returning-a-view-versus-a-copy\n",
      "  invivo['gene'] = invivo.index\n",
      "/tmp/ipykernel_142739/3955648320.py:6: SettingWithCopyWarning: \n",
      "A value is trying to be set on a copy of a slice from a DataFrame.\n",
      "Try using .loc[row_indexer,col_indexer] = value instead\n",
      "\n",
      "See the caveats in the documentation: https://pandas.pydata.org/pandas-docs/stable/user_guide/indexing.html#returning-a-view-versus-a-copy\n",
      "  exvivo[exvivo < -3] = -3\n",
      "/tmp/ipykernel_142739/3955648320.py:7: SettingWithCopyWarning: \n",
      "A value is trying to be set on a copy of a slice from a DataFrame.\n",
      "Try using .loc[row_indexer,col_indexer] = value instead\n",
      "\n",
      "See the caveats in the documentation: https://pandas.pydata.org/pandas-docs/stable/user_guide/indexing.html#returning-a-view-versus-a-copy\n",
      "  exvivo[exvivo > 3] = 3\n",
      "/tmp/ipykernel_142739/3955648320.py:8: SettingWithCopyWarning: \n",
      "A value is trying to be set on a copy of a slice from a DataFrame.\n",
      "Try using .loc[row_indexer,col_indexer] = value instead\n",
      "\n",
      "See the caveats in the documentation: https://pandas.pydata.org/pandas-docs/stable/user_guide/indexing.html#returning-a-view-versus-a-copy\n",
      "  exvivo['gene'] = exvivo.index\n"
     ]
    }
   ],
   "source": [
    "invivo = fib_master_genes[['Fibroblasts_invivo_log2FC']]\n",
    "invivo[invivo < -3] = -3\n",
    "invivo[invivo > 3] = 3\n",
    "invivo['gene'] = invivo.index\n",
    "exvivo = fib_master_genes[['Fibroblasts_exvivo_log2FC']]\n",
    "exvivo[exvivo < -3] = -3\n",
    "exvivo[exvivo > 3] = 3\n",
    "exvivo['gene'] = exvivo.index"
   ]
  },
  {
   "cell_type": "markdown",
   "id": "1c1329c5",
   "metadata": {},
   "source": [
    "###  Visualize invivo and exvivo log2FC in same plot"
   ]
  },
  {
   "cell_type": "code",
   "execution_count": 14,
   "id": "531d89bb",
   "metadata": {},
   "outputs": [],
   "source": [
    "invivo = invivo[['Fibroblasts_invivo_log2FC','gene']]\n",
    "invivo.rename(columns = {'Fibroblasts_invivo_log2FC':'log2FC'}, inplace = True)\n",
    "invivo['condition'] = 'invivo - IPF'"
   ]
  },
  {
   "cell_type": "code",
   "execution_count": 15,
   "id": "70b700ee",
   "metadata": {},
   "outputs": [],
   "source": [
    "exvivo = exvivo[['Fibroblasts_exvivo_log2FC','gene']]\n",
    "exvivo.rename(columns = {'Fibroblasts_exvivo_log2FC':'log2FC'}, inplace = True)\n",
    "exvivo['condition'] = 'exvivo - FC'"
   ]
  },
  {
   "cell_type": "code",
   "execution_count": 16,
   "id": "48f766c4",
   "metadata": {},
   "outputs": [],
   "source": [
    "conserved = pd.concat([invivo, exvivo], axis=0)"
   ]
  },
  {
   "cell_type": "code",
   "execution_count": 17,
   "id": "42c335b4",
   "metadata": {},
   "outputs": [
    {
     "data": {
      "image/png": "[encoded data removed]",
      "text/plain": [
       "<Figure size 400x1600 with 1 Axes>"
      ]
     },
     "metadata": {
      "needs_background": "light"
     },
     "output_type": "display_data"
    }
   ],
   "source": [
    "sb.barplot(data = conserved,\n",
    "           x = 'log2FC',\n",
    "           y = 'gene',\n",
    "           hue = 'condition',\n",
    "           palette = ['#7209b7','#f72585'],\n",
    "           ax = plt.figure(figsize=(4, 16), dpi = 100).gca()\n",
    "          ).set(title='conserved gene expression changes',\n",
    "                xlabel = 'log2FC',\n",
    "                ylabel = 'gene'\n",
    "               )\n",
    "plt.savefig(fig_dir + 'barplot_fibroblasts_diverging_DE_genes.pdf')\n",
    "plt.show()"
   ]
  }
 ],
 "metadata": {
  "kernelspec": {
   "display_name": "Python 3 (ipykernel)",
   "language": "python",
   "name": "python3"
  },
  "language_info": {
   "codemirror_mode": {
    "name": "ipython",
    "version": 3
   },
   "file_extension": ".py",
   "mimetype": "text/x-python",
   "name": "python",
   "nbconvert_exporter": "python",
   "pygments_lexer": "ipython3",
   "version": "3.8.12"
  }
 },
 "nbformat": 4,
 "nbformat_minor": 5
}
